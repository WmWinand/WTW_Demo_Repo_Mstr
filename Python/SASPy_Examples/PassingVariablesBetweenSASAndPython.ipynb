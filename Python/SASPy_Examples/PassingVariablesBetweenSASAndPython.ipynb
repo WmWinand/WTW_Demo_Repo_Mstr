{
 "cells": [
  {
   "cell_type": "markdown",
   "metadata": {},
   "source": [
    "In this example you will learn how to python varaibles to SAS and SAS macro variables to python\n",
    "\n",
    "The situation is somewhat contrived but hopefully it will give you some insight to how this is performed."
   ]
  },
  {
   "cell_type": "markdown",
   "metadata": {},
   "source": [
    "## Import packages and create a sas session named `sas1`"
   ]
  },
  {
   "cell_type": "code",
   "execution_count": 33,
   "metadata": {},
   "outputs": [
    {
     "name": "stdout",
     "output_type": "stream",
     "text": [
      "Using SAS Config named: default\n",
      "SAS Connection established. Subprocess id is 3753\n",
      "\n"
     ]
    }
   ],
   "source": [
    "import saspy\n",
    "sas1 = saspy.SASsession()\n",
    "fname = 'myfile.txt'\n",
    "sas1.symput ('fname', fname)"
   ]
  },
  {
   "cell_type": "markdown",
   "metadata": {},
   "source": [
    "## Next I’ll use the SAS cell magic to submit code to SAS session object `sas1`"
   ]
  },
  {
   "cell_type": "code",
   "execution_count": 34,
   "metadata": {},
   "outputs": [
    {
     "data": {
      "text/html": [
       "<!DOCTYPE html PUBLIC \"-//W3C//DTD HTML 4.01//EN\"\n",
       "   \"http://www.w3.org/TR/html4/strict.dtd\">\n",
       "\n",
       "<html>\n",
       "<head>\n",
       "  <title></title>\n",
       "  <meta http-equiv=\"content-type\" content=\"text/html; charset=None\">\n",
       "  <style type=\"text/css\">\n",
       "td.linenos { background-color: #f0f0f0; padding-right: 10px; }\n",
       "span.lineno { background-color: #f0f0f0; padding: 0 5px 0 5px; }\n",
       "pre { line-height: 125%; }\n",
       "body .hll { background-color: #ffffcc }\n",
       "body  { background: #ffffff; }\n",
       "body .c { color: #0000FF } /* Comment */\n",
       "body .k { color: #ff0000; font-weight: bold } /* Keyword */\n",
       "body .n { color: #008000 } /* Name */\n",
       "body .ch { color: #0000FF } /* Comment.Hashbang */\n",
       "body .cm { color: #0000FF } /* Comment.Multiline */\n",
       "body .cp { color: #0000FF } /* Comment.Preproc */\n",
       "body .cpf { color: #0000FF } /* Comment.PreprocFile */\n",
       "body .c1 { color: #0000FF } /* Comment.Single */\n",
       "body .cs { color: #0000FF } /* Comment.Special */\n",
       "body .kc { color: #ff0000; font-weight: bold } /* Keyword.Constant */\n",
       "body .kd { color: #ff0000; font-weight: bold } /* Keyword.Declaration */\n",
       "body .kn { color: #ff0000; font-weight: bold } /* Keyword.Namespace */\n",
       "body .kp { color: #ff0000; font-weight: bold } /* Keyword.Pseudo */\n",
       "body .kr { color: #ff0000; font-weight: bold } /* Keyword.Reserved */\n",
       "body .kt { color: #ff0000; font-weight: bold } /* Keyword.Type */\n",
       "body .s { color: #111111 } /* Literal.String */\n",
       "body .na { color: #008000 } /* Name.Attribute */\n",
       "body .nb { color: #008000 } /* Name.Builtin */\n",
       "body .nc { color: #008000 } /* Name.Class */\n",
       "body .no { color: #008000 } /* Name.Constant */\n",
       "body .nd { color: #008000 } /* Name.Decorator */\n",
       "body .ni { color: #008000 } /* Name.Entity */\n",
       "body .ne { color: #008000 } /* Name.Exception */\n",
       "body .nf { color: #008000 } /* Name.Function */\n",
       "body .nl { color: #008000 } /* Name.Label */\n",
       "body .nn { color: #008000 } /* Name.Namespace */\n",
       "body .nx { color: #008000 } /* Name.Other */\n",
       "body .py { color: #008000 } /* Name.Property */\n",
       "body .nt { color: #008000 } /* Name.Tag */\n",
       "body .nv { color: #008000 } /* Name.Variable */\n",
       "body .sa { color: #111111 } /* Literal.String.Affix */\n",
       "body .sb { color: #111111 } /* Literal.String.Backtick */\n",
       "body .sc { color: #111111 } /* Literal.String.Char */\n",
       "body .dl { color: #111111 } /* Literal.String.Delimiter */\n",
       "body .sd { color: #111111 } /* Literal.String.Doc */\n",
       "body .s2 { color: #111111 } /* Literal.String.Double */\n",
       "body .se { color: #111111 } /* Literal.String.Escape */\n",
       "body .sh { color: #111111 } /* Literal.String.Heredoc */\n",
       "body .si { color: #111111 } /* Literal.String.Interpol */\n",
       "body .sx { color: #111111 } /* Literal.String.Other */\n",
       "body .sr { color: #111111 } /* Literal.String.Regex */\n",
       "body .s1 { color: #111111 } /* Literal.String.Single */\n",
       "body .ss { color: #111111 } /* Literal.String.Symbol */\n",
       "body .bp { color: #008000 } /* Name.Builtin.Pseudo */\n",
       "body .fm { color: #008000 } /* Name.Function.Magic */\n",
       "body .vc { color: #008000 } /* Name.Variable.Class */\n",
       "body .vg { color: #008000 } /* Name.Variable.Global */\n",
       "body .vi { color: #008000 } /* Name.Variable.Instance */\n",
       "body .vm { color: #008000 } /* Name.Variable.Magic */\n",
       "\n",
       "  </style>\n",
       "</head>\n",
       "<body>\n",
       "<h2></h2>\n",
       "\n",
       "<div class=\"highlight\"><pre><span></span><span class=\"s\">42   ods listing close;ods html5 (id=saspy_internal) file=stdout options(bitmap_mode=&#39;inline&#39;) device=svg; ods graphics on /</span><br><span class=\"s\">42 ! outputfmt=png;</span><br><span class=\"cm\">NOTE: Writing HTML5(SASPY_INTERNAL) Body file: STDOUT</span><br><span class=\"s\">43   </span><br><span class=\"s\">44   Filename file1 &quot;&amp;fname.&quot;;</span><br><span class=\"s\">45   </span><br><span class=\"s\">46   %put &amp;fname.;</span><br><span class=\"err\">myfile.txt</span><br><span class=\"s\">47   </span><br><span class=\"s\">48   proc summary data=sashelp.class;</span><br><span class=\"s\">49       var weight;</span><br><span class=\"s\">50   run;</span><br><span class=\"k k-Multiline\">ERROR: Neither the PRINT option nor a valid output statement has been given.</span><br><span class=\"cm\">NOTE: The SAS System stopped processing this step because of errors.</span><br><span class=\"cm\">NOTE: PROCEDURE SUMMARY used (Total process time):</span><br><span class=\"cm\">      real time           0.00 seconds</span><br><span class=\"cm\">      cpu time            0.00 seconds</span><br><span class=\"cm\">      </span><br><span class=\"s\">51   %let summaryrc=&amp;syserr;</span><br><span class=\"s\">52   %put &amp;summaryrc.;</span><br><span class=\"s\">1012</span><br><span class=\"s\">53   </span><br><span class=\"s\">54   proc univariate data=sashelp.class noprint;</span><br><span class=\"s\">55       var height weight;</span><br><span class=\"s\">56   run;</span><br><span class=\"cm\">NOTE: PROCEDURE UNIVARIATE used (Total process time):</span><br><span class=\"cm\">      real time           0.00 seconds</span><br><span class=\"cm\">      cpu time            0.00 seconds</span><br><span class=\"cm\">      </span><br><span class=\"s\">57   %let unirc=&amp;syserr;</span><br><span class=\"s\">58   %put &amp;unirc.;</span><br><span class=\"s\">0</span><br><span class=\"s\">59   </span><br><span class=\"s\">60   ods html5 (id=saspy_internal) close;ods listing;</span><br><br><span class=\"s\">61   </span><br></pre></div>\n",
       "</body>\n",
       "</html>\n"
      ],
      "text/plain": [
       "<IPython.core.display.HTML object>"
      ]
     },
     "execution_count": 34,
     "metadata": {},
     "output_type": "execute_result"
    }
   ],
   "source": [
    "%%SAS sas1\n",
    "Filename file1 \"&fname.\";\n",
    "\n",
    "%put &fname.;\n",
    "\n",
    "proc summary data=sashelp.class;\n",
    "    var weight;\n",
    "run;\n",
    "%let summaryrc=&syserr;\n",
    "%put &summaryrc.;\n",
    "\n",
    "proc univariate data=sashelp.class noprint;\n",
    "    var height weight;\n",
    "run;\n",
    "%let unirc=&syserr;\n",
    "%put &unirc.;"
   ]
  },
  {
   "cell_type": "code",
   "execution_count": 32,
   "metadata": {},
   "outputs": [
    {
     "name": "stdout",
     "output_type": "stream",
     "text": [
      "there were errors for index 0. RC=1012\n",
      "everything ran normally for index 1\n"
     ]
    }
   ],
   "source": [
    "rc  = []\n",
    "rc.append(sas1.symget('summaryrc'))\n",
    "rc.append(sas1.symget('unirc'))\n",
    "for idx, value in enumerate(rc):\n",
    "    if value==0:\n",
    "        print (\"everything ran normally for index {}\".format(idx))\n",
    "    else:\n",
    "        print(\"there were errors for index {}. RC={}\".format(idx,value))"
   ]
  },
  {
   "cell_type": "code",
   "execution_count": null,
   "metadata": {},
   "outputs": [],
   "source": []
  }
 ],
 "metadata": {
  "kernelspec": {
   "display_name": "Python 3",
   "language": "python",
   "name": "python3"
  },
  "language_info": {
   "codemirror_mode": {
    "name": "ipython",
    "version": 3
   },
   "file_extension": ".py",
   "mimetype": "text/x-python",
   "name": "python",
   "nbconvert_exporter": "python",
   "pygments_lexer": "ipython3",
   "version": "3.5.4"
  }
 },
 "nbformat": 4,
 "nbformat_minor": 2
}
