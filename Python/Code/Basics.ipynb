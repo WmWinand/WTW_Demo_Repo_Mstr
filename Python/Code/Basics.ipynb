{
 "cells": [
  {
   "cell_type": "markdown",
   "metadata": {},
   "source": [
    "# ESPPy - The Python Interface to ESP\n",
    "\n",
    "This interface is a pure Python package to connect to ESP using the REST interface and web sockets."
   ]
  },
  {
   "cell_type": "markdown",
   "metadata": {},
   "source": [
    "## Import the ESP Package and Create a Connection"
   ]
  },
  {
   "cell_type": "code",
   "execution_count": 2,
   "metadata": {
    "collapsed": false
   },
   "outputs": [],
   "source": [
    "import esppy"
   ]
  },
  {
   "cell_type": "code",
   "execution_count": 3,
   "metadata": {
    "collapsed": false
   },
   "outputs": [],
   "source": [
    "esppy.ESP?"
   ]
  },
  {
   "cell_type": "code",
   "execution_count": 4,
   "metadata": {
    "collapsed": false
   },
   "outputs": [
    {
     "data": {
      "text/plain": [
       "ESP('http://v64-d79221-03:8610')"
      ]
     },
     "execution_count": 4,
     "metadata": {},
     "output_type": "execute_result"
    }
   ],
   "source": [
    "esp = esppy.ESP('http://v64-d79221-03:8610')\n",
    "esp"
   ]
  },
  {
   "cell_type": "code",
   "execution_count": null,
   "metadata": {
    "collapsed": true
   },
   "outputs": [],
   "source": [
    "esp."
   ]
  },
  {
   "cell_type": "markdown",
   "metadata": {},
   "source": [
    "## Server Introspection"
   ]
  },
  {
   "cell_type": "code",
   "execution_count": 8,
   "metadata": {
    "collapsed": false
   },
   "outputs": [
    {
     "data": {
      "text/plain": [
       "{'analytics-license': True,\n",
       " 'engine': 'esp',\n",
       " 'http': 8610,\n",
       " 'plugindir': '/sasgen/dev/mva-vb015/sasdvd/com/laxnd',\n",
       " 'pubsub': 8611,\n",
       " 'version': '5.2'}"
      ]
     },
     "execution_count": 8,
     "metadata": {},
     "output_type": "execute_result"
    }
   ],
   "source": [
    "esp.server_info"
   ]
  },
  {
   "cell_type": "code",
   "execution_count": 9,
   "metadata": {
    "collapsed": false
   },
   "outputs": [
    {
     "data": {
      "text/plain": [
       "{}"
      ]
     },
     "execution_count": 9,
     "metadata": {},
     "output_type": "execute_result"
    }
   ],
   "source": [
    "esp.get_projects()"
   ]
  },
  {
   "cell_type": "markdown",
   "metadata": {},
   "source": [
    "## Load a Project"
   ]
  },
  {
   "cell_type": "code",
   "execution_count": 12,
   "metadata": {
    "collapsed": false
   },
   "outputs": [
    {
     "name": "stdout",
     "output_type": "stream",
     "text": [
      "<engine>\n",
      "  <projects>\n",
      "    <project name='project' pubsub='auto' threads='1' use-tagged-token='true'>\n",
      "      <contqueries>\n",
      "        <contquery name='contquery' trace='w_data w_calculate'>\n",
      "          <windows>\n",
      "            <window-source name='w_data' insert-only='true'>\n",
      "              <schema>\n",
      "                <fields>\n",
      "                  <field name='id'   type='int64' key='true'/>\n",
      "                  <field name='time' type='double'/>\n",
      "                  <field name='x'    type='double'/>\n",
      "                  <field name='y'    type='double'/>\n",
      "                  <field name='z'    type='double'/>\n",
      "                </fields>\n",
      "              </schema>\n",
      "            </window-source>\n",
      "            <window-source name='w_request' insert-only='true'>\n",
      "              <schema>\n",
      "                <fields>\n",
      "                  <field name='req_id'  type='int64' key='true'/>\n",
      "                  <field name='req_key' type='string'/>\n",
      "                  <field name='req_val' type='string'/>\n",
      "                </fields>\n",
      "              </schema>\n",
      "            </window-source>\n",
      "            <window-calculate name='w_calculate' algorithm='Summary'>\n",
      "              <schema>\n",
      "                <fields>\n",
      "                  <field name='id'     type='int64' key='true'/>\n",
      "                  <field name='x'      type='double'/>\n",
      "                  <field name='mean_x' type='double'/>\n",
      "                  <field name='n_x'    type='int64'/>\n",
      "                </fields>\n",
      "              </schema>\n",
      "              <parameters>\n",
      "                <properties>\n",
      "                  <property name=\"windowLength\">5</property>\n",
      "                </properties>\n",
      "              </parameters>\n",
      "              <input-map>\n",
      "                <properties>\n",
      "                  <property name=\"input\">x</property>\n",
      "                </properties>\n",
      "              </input-map>\n",
      "              <output-map>\n",
      "                <properties>\n",
      "                  <property name=\"meanOut\">mean_x</property>\n",
      "                  <property name=\"nOut\">n_x</property>\n",
      "                </properties>\n",
      "              </output-map>\n",
      "            </window-calculate>\n",
      "            <window-copy name=\"w_copy\"/>\n",
      "          </windows>\n",
      "          <edges>\n",
      "            <edge source='w_data'    target='w_calculate' role='data'/>\n",
      "            <edge source='w_request' target='w_calculate' role='request'/>\n",
      "            <edge source='w_calculate'    target='w_copy' role='data'/>\n",
      "          </edges>\n",
      "        </contquery>\n",
      "      </contqueries>\n",
      "    </project>\n",
      "  </projects>\n",
      "</engine>\n"
     ]
    }
   ],
   "source": [
    "%%sh\n",
    "cat model_walking.xml"
   ]
  },
  {
   "cell_type": "markdown",
   "metadata": {},
   "source": [
    "Projects can be loaded from file paths, Python file objects, or URLs.  They can also be loaded from Python `Project` objects as we will see later in this notebook."
   ]
  },
  {
   "cell_type": "code",
   "execution_count": 13,
   "metadata": {
    "collapsed": false
   },
   "outputs": [
    {
     "data": {
      "image/svg+xml": [
       "<?xml version=\"1.0\" encoding=\"UTF-8\" standalone=\"no\"?>\n",
       "<!DOCTYPE svg PUBLIC \"-//W3C//DTD SVG 1.1//EN\"\n",
       " \"http://www.w3.org/Graphics/SVG/1.1/DTD/svg11.dtd\">\n",
       "<!-- Generated by graphviz version 2.30.1 (20150306.0020)\n",
       " -->\n",
       "<!-- Title: %3 Pages: 1 -->\n",
       "<svg width=\"468.0pt\" height=\"160.0pt\"\n",
       " viewBox=\"0.00 0.00 468.00 160.00\" xmlns=\"http://www.w3.org/2000/svg\" xmlns:xlink=\"http://www.w3.org/1999/xlink\">\n",
       "<g id=\"graph0\" class=\"graph\" transform=\"scale(1 1) rotate(0) translate(4 156)\">\n",
       "<title>%3</title>\n",
       "<polygon fill=\"white\" stroke=\"white\" points=\"-4,5 -4,-156 465,-156 465,5 -4,5\"/>\n",
       "<g id=\"clust1\" class=\"cluster\"><title>cluster_project</title>\n",
       "<path fill=\"#dadada\" stroke=\"#c0c0c0\" stroke-width=\"2\" d=\"M20,-8C20,-8 440,-8 440,-8 446,-8 452,-14 452,-20 452,-20 452,-132 452,-132 452,-138 446,-144 440,-144 440,-144 20,-144 20,-144 14,-144 8,-138 8,-132 8,-132 8,-20 8,-20 8,-14 14,-8 20,-8\"/>\n",
       "<text text-anchor=\"middle\" x=\"36.5\" y=\"-128.8\" font-family=\"Helvetica,sans-Serif\" font-size=\"14.00\">project</text>\n",
       "</g>\n",
       "<!-- project.contquery.w_calculate -->\n",
       "<g id=\"node1\" class=\"node\"><title>project.contquery.w_calculate</title>\n",
       "<polygon fill=\"#c8f0ff\" stroke=\"#58a0d3\" stroke-width=\"2\" points=\"299.5,-79.5 192.5,-79.5 192.5,-40.5 299.5,-40.5 299.5,-79.5\"/>\n",
       "<text text-anchor=\"middle\" x=\"246\" y=\"-56.3\" font-family=\"Helvetica,sans-Serif\" font-size=\"14.00\">w_calculate</text>\n",
       "</g>\n",
       "<!-- project.contquery.w_copy -->\n",
       "<g id=\"node2\" class=\"node\"><title>project.contquery.w_copy</title>\n",
       "<polygon fill=\"#c8f0ff\" stroke=\"#58a0d3\" stroke-width=\"2\" points=\"444,-79.5 362,-79.5 362,-40.5 444,-40.5 444,-79.5\"/>\n",
       "<text text-anchor=\"middle\" x=\"403\" y=\"-56.3\" font-family=\"Helvetica,sans-Serif\" font-size=\"14.00\">w_copy</text>\n",
       "</g>\n",
       "<!-- project.contquery.w_calculate&#45;&gt;project.contquery.w_copy -->\n",
       "<g id=\"edge1\" class=\"edge\"><title>project.contquery.w_calculate&#45;&gt;project.contquery.w_copy</title>\n",
       "<path fill=\"none\" stroke=\"black\" d=\"M299.909,-60C316.613,-60 335.017,-60 351.545,-60\"/>\n",
       "<polygon fill=\"black\" stroke=\"black\" points=\"351.562,-63.5001 361.562,-60 351.562,-56.5001 351.562,-63.5001\"/>\n",
       "<text text-anchor=\"middle\" x=\"331\" y=\"-63.8\" font-family=\"Times,serif\" font-style=\"italic\" font-size=\"14.00\">data</text>\n",
       "</g>\n",
       "<!-- project.contquery.w_data -->\n",
       "<g id=\"node3\" class=\"node\"><title>project.contquery.w_data</title>\n",
       "<polygon fill=\"#c8f0ff\" stroke=\"#58a0d3\" stroke-width=\"2\" points=\"106,-112.5 26,-112.5 26,-73.5 106,-73.5 106,-112.5\"/>\n",
       "<text text-anchor=\"middle\" x=\"66\" y=\"-89.3\" font-family=\"Helvetica,sans-Serif\" font-size=\"14.00\">w_data</text>\n",
       "</g>\n",
       "<!-- project.contquery.w_data&#45;&gt;project.contquery.w_calculate -->\n",
       "<g id=\"edge2\" class=\"edge\"><title>project.contquery.w_data&#45;&gt;project.contquery.w_calculate</title>\n",
       "<path fill=\"none\" stroke=\"black\" d=\"M106.063,-85.758C128.378,-81.6209 156.886,-76.3357 182.265,-71.6307\"/>\n",
       "<polygon fill=\"black\" stroke=\"black\" points=\"182.99,-75.056 192.184,-69.7917 181.714,-68.1733 182.99,-75.056\"/>\n",
       "<text text-anchor=\"middle\" x=\"154\" y=\"-83.8\" font-family=\"Times,serif\" font-style=\"italic\" font-size=\"14.00\">data</text>\n",
       "</g>\n",
       "<!-- project.contquery.w_request -->\n",
       "<g id=\"node4\" class=\"node\"><title>project.contquery.w_request</title>\n",
       "<polygon fill=\"#c8f0ff\" stroke=\"#58a0d3\" stroke-width=\"2\" points=\"115.5,-55.5 16.5,-55.5 16.5,-16.5 115.5,-16.5 115.5,-55.5\"/>\n",
       "<text text-anchor=\"middle\" x=\"66\" y=\"-32.3\" font-family=\"Helvetica,sans-Serif\" font-size=\"14.00\">w_request</text>\n",
       "</g>\n",
       "<!-- project.contquery.w_request&#45;&gt;project.contquery.w_calculate -->\n",
       "<g id=\"edge3\" class=\"edge\"><title>project.contquery.w_request&#45;&gt;project.contquery.w_calculate</title>\n",
       "<path fill=\"none\" stroke=\"black\" d=\"M115.639,-42.5581C136.166,-45.3258 160.327,-48.5835 182.178,-51.5296\"/>\n",
       "<polygon fill=\"black\" stroke=\"black\" points=\"181.984,-55.035 192.362,-52.9027 182.919,-48.0978 181.984,-55.035\"/>\n",
       "<text text-anchor=\"middle\" x=\"154\" y=\"-54.8\" font-family=\"Times,serif\" font-style=\"italic\" font-size=\"14.00\">request</text>\n",
       "</g>\n",
       "</g>\n",
       "</svg>\n"
      ],
      "text/plain": [
       "Project(name='project')"
      ]
     },
     "execution_count": 13,
     "metadata": {},
     "output_type": "execute_result"
    }
   ],
   "source": [
    "walk = esp.load_project('model_walking.xml')\n",
    "walk"
   ]
  },
  {
   "cell_type": "code",
   "execution_count": 14,
   "metadata": {
    "collapsed": false
   },
   "outputs": [
    {
     "data": {
      "text/plain": [
       "\"Project(name='project')\""
      ]
     },
     "execution_count": 14,
     "metadata": {},
     "output_type": "execute_result"
    }
   ],
   "source": [
    "str(walk)"
   ]
  },
  {
   "cell_type": "code",
   "execution_count": 15,
   "metadata": {
    "collapsed": false
   },
   "outputs": [
    {
     "data": {
      "image/svg+xml": [
       "<?xml version=\"1.0\" encoding=\"UTF-8\" standalone=\"no\"?>\n",
       "<!DOCTYPE svg PUBLIC \"-//W3C//DTD SVG 1.1//EN\"\n",
       " \"http://www.w3.org/Graphics/SVG/1.1/DTD/svg11.dtd\">\n",
       "<!-- Generated by graphviz version 2.30.1 (20150306.0020)\n",
       " -->\n",
       "<!-- Title: %3 Pages: 1 -->\n",
       "<svg width=\"534pt\" height=\"300pt\"\n",
       " viewBox=\"0.00 0.00 534.00 300.00\" xmlns=\"http://www.w3.org/2000/svg\" xmlns:xlink=\"http://www.w3.org/1999/xlink\">\n",
       "<g id=\"graph0\" class=\"graph\" transform=\"scale(1 1) rotate(0) translate(4 296)\">\n",
       "<title>%3</title>\n",
       "<polygon fill=\"white\" stroke=\"white\" points=\"-4,5 -4,-296 531,-296 531,5 -4,5\"/>\n",
       "<g id=\"clust1\" class=\"cluster\"><title>cluster_project</title>\n",
       "<path fill=\"#dadada\" stroke=\"#c0c0c0\" stroke-width=\"2\" d=\"M20,-8C20,-8 506,-8 506,-8 512,-8 518,-14 518,-20 518,-20 518,-272 518,-272 518,-278 512,-284 506,-284 506,-284 20,-284 20,-284 14,-284 8,-278 8,-272 8,-272 8,-20 8,-20 8,-14 14,-8 20,-8\"/>\n",
       "<text text-anchor=\"middle\" x=\"36.5\" y=\"-268.8\" font-family=\"Helvetica,sans-Serif\" font-size=\"14.00\">project</text>\n",
       "</g>\n",
       "<!-- project.contquery.w_calculate -->\n",
       "<g id=\"node1\" class=\"node\"><title>project.contquery.w_calculate</title>\n",
       "<polygon fill=\"#c8f0ff\" stroke=\"#58a0d3\" stroke-width=\"2\" points=\"364,-164.5 226,-164.5 226,-55.5 364,-55.5 364,-164.5\"/>\n",
       "<text text-anchor=\"start\" x=\"259.5\" y=\"-141.3\" font-family=\"Helvetica,sans-Serif\" font-size=\"14.00\">w_calculate</text>\n",
       "<text text-anchor=\"start\" x=\"293\" y=\"-126.8\" font-family=\"Helvetica,sans-Serif\" font-size=\"14.00\"> </text>\n",
       "<text text-anchor=\"start\" x=\"260\" y=\"-112.8\" font-family=\"Helvetica,sans-Serif\" font-size=\"14.00\">🔑</text>\n",
       "<text text-anchor=\"start\" x=\"278\" y=\"-112.8\" font-family=\"Helvetica,sans-Serif\" font-size=\"14.00\" fill=\"#c49810\">id : int64</text>\n",
       "<text text-anchor=\"start\" x=\"265.5\" y=\"-98.8\" font-family=\"Helvetica,sans-Serif\" font-size=\"14.00\" fill=\"#808080\">x : double</text>\n",
       "<text text-anchor=\"start\" x=\"244.5\" y=\"-84.8\" font-family=\"Helvetica,sans-Serif\" font-size=\"14.00\" fill=\"#808080\">mean_x : double</text>\n",
       "<text text-anchor=\"start\" x=\"263.5\" y=\"-70.8\" font-family=\"Helvetica,sans-Serif\" font-size=\"14.00\" fill=\"#808080\">n_x : int64</text>\n",
       "</g>\n",
       "<!-- project.contquery.w_copy -->\n",
       "<g id=\"node2\" class=\"node\"><title>project.contquery.w_copy</title>\n",
       "<polygon fill=\"#c8f0ff\" stroke=\"#58a0d3\" stroke-width=\"2\" points=\"509.5,-136.5 426.5,-136.5 426.5,-83.5 509.5,-83.5 509.5,-136.5\"/>\n",
       "<text text-anchor=\"start\" x=\"445.5\" y=\"-113.3\" font-family=\"Helvetica,sans-Serif\" font-size=\"14.00\">w_copy</text>\n",
       "<text text-anchor=\"start\" x=\"466.5\" y=\"-98.8\" font-family=\"Helvetica,sans-Serif\" font-size=\"14.00\"> </text>\n",
       "</g>\n",
       "<!-- project.contquery.w_calculate&#45;&gt;project.contquery.w_copy -->\n",
       "<g id=\"edge1\" class=\"edge\"><title>project.contquery.w_calculate&#45;&gt;project.contquery.w_copy</title>\n",
       "<path fill=\"none\" stroke=\"black\" d=\"M364.075,-110C381.342,-110 399.599,-110 415.865,-110\"/>\n",
       "<polygon fill=\"black\" stroke=\"black\" points=\"416.236,-113.5 426.236,-110 416.236,-106.5 416.236,-113.5\"/>\n",
       "<text text-anchor=\"middle\" x=\"395\" y=\"-113.8\" font-family=\"Times,serif\" font-style=\"italic\" font-size=\"14.00\">data</text>\n",
       "</g>\n",
       "<!-- project.contquery.w_data -->\n",
       "<g id=\"node3\" class=\"node\"><title>project.contquery.w_data</title>\n",
       "<polygon fill=\"#c8f0ff\" stroke=\"#58a0d3\" stroke-width=\"2\" points=\"141,-252.5 25,-252.5 25,-129.5 141,-129.5 141,-252.5\"/>\n",
       "<text text-anchor=\"start\" x=\"61\" y=\"-229.3\" font-family=\"Helvetica,sans-Serif\" font-size=\"14.00\">w_data</text>\n",
       "<text text-anchor=\"start\" x=\"81\" y=\"-214.8\" font-family=\"Helvetica,sans-Serif\" font-size=\"14.00\"> </text>\n",
       "<text text-anchor=\"start\" x=\"48\" y=\"-200.8\" font-family=\"Helvetica,sans-Serif\" font-size=\"14.00\">🔑</text>\n",
       "<text text-anchor=\"start\" x=\"66\" y=\"-200.8\" font-family=\"Helvetica,sans-Serif\" font-size=\"14.00\" fill=\"#c49810\">id : int64</text>\n",
       "<text text-anchor=\"start\" x=\"43.5\" y=\"-186.8\" font-family=\"Helvetica,sans-Serif\" font-size=\"14.00\" fill=\"#808080\">time : double</text>\n",
       "<text text-anchor=\"start\" x=\"53.5\" y=\"-172.8\" font-family=\"Helvetica,sans-Serif\" font-size=\"14.00\" fill=\"#808080\">x : double</text>\n",
       "<text text-anchor=\"start\" x=\"53.5\" y=\"-158.8\" font-family=\"Helvetica,sans-Serif\" font-size=\"14.00\" fill=\"#808080\">y : double</text>\n",
       "<text text-anchor=\"start\" x=\"53.5\" y=\"-144.8\" font-family=\"Helvetica,sans-Serif\" font-size=\"14.00\" fill=\"#808080\">z : double</text>\n",
       "</g>\n",
       "<!-- project.contquery.w_data&#45;&gt;project.contquery.w_calculate -->\n",
       "<g id=\"edge2\" class=\"edge\"><title>project.contquery.w_data&#45;&gt;project.contquery.w_calculate</title>\n",
       "<path fill=\"none\" stroke=\"black\" d=\"M141.106,-168.973C164.261,-160.042 191.37,-149.586 216.279,-139.978\"/>\n",
       "<polygon fill=\"black\" stroke=\"black\" points=\"217.635,-143.207 225.705,-136.342 215.115,-136.676 217.635,-143.207\"/>\n",
       "<text text-anchor=\"middle\" x=\"188\" y=\"-160.8\" font-family=\"Times,serif\" font-style=\"italic\" font-size=\"14.00\">data</text>\n",
       "</g>\n",
       "<!-- project.contquery.w_request -->\n",
       "<g id=\"node4\" class=\"node\"><title>project.contquery.w_request</title>\n",
       "<polygon fill=\"#c8f0ff\" stroke=\"#58a0d3\" stroke-width=\"2\" points=\"150,-111.5 16,-111.5 16,-16.5 150,-16.5 150,-111.5\"/>\n",
       "<text text-anchor=\"start\" x=\"51.5\" y=\"-88.3\" font-family=\"Helvetica,sans-Serif\" font-size=\"14.00\">w_request</text>\n",
       "<text text-anchor=\"start\" x=\"81\" y=\"-73.8\" font-family=\"Helvetica,sans-Serif\" font-size=\"14.00\"> </text>\n",
       "<text text-anchor=\"start\" x=\"34.5\" y=\"-59.8\" font-family=\"Helvetica,sans-Serif\" font-size=\"14.00\">🔑</text>\n",
       "<text text-anchor=\"start\" x=\"52.5\" y=\"-59.8\" font-family=\"Helvetica,sans-Serif\" font-size=\"14.00\" fill=\"#c49810\">req_id : int64</text>\n",
       "<text text-anchor=\"start\" x=\"36.5\" y=\"-45.8\" font-family=\"Helvetica,sans-Serif\" font-size=\"14.00\" fill=\"#808080\">req_key : string</text>\n",
       "<text text-anchor=\"start\" x=\"38.5\" y=\"-31.8\" font-family=\"Helvetica,sans-Serif\" font-size=\"14.00\" fill=\"#808080\">req_val : string</text>\n",
       "</g>\n",
       "<!-- project.contquery.w_request&#45;&gt;project.contquery.w_calculate -->\n",
       "<g id=\"edge3\" class=\"edge\"><title>project.contquery.w_request&#45;&gt;project.contquery.w_calculate</title>\n",
       "<path fill=\"none\" stroke=\"black\" d=\"M150.157,-78.4915C171.009,-83.059 194.239,-88.1476 215.844,-92.8802\"/>\n",
       "<polygon fill=\"black\" stroke=\"black\" points=\"215.125,-96.3055 225.642,-95.0264 216.623,-89.4676 215.125,-96.3055\"/>\n",
       "<text text-anchor=\"middle\" x=\"188\" y=\"-94.8\" font-family=\"Times,serif\" font-style=\"italic\" font-size=\"14.00\">request</text>\n",
       "</g>\n",
       "</g>\n",
       "</svg>\n"
      ],
      "text/plain": [
       "<graphviz.dot.Digraph at 0x7f6936190b38>"
      ]
     },
     "execution_count": 15,
     "metadata": {},
     "output_type": "execute_result"
    }
   ],
   "source": [
    "walk.to_graph(schema=True)"
   ]
  },
  {
   "cell_type": "markdown",
   "metadata": {},
   "source": [
    "### Get References to Project Components"
   ]
  },
  {
   "cell_type": "code",
   "execution_count": 16,
   "metadata": {
    "collapsed": false
   },
   "outputs": [
    {
     "data": {
      "text/plain": [
       "{'contquery': ContinuousQuery(name='contquery', project='project')}"
      ]
     },
     "execution_count": 16,
     "metadata": {},
     "output_type": "execute_result"
    }
   ],
   "source": [
    "walk.queries"
   ]
  },
  {
   "cell_type": "code",
   "execution_count": 17,
   "metadata": {
    "collapsed": false
   },
   "outputs": [
    {
     "data": {
      "text/plain": [
       "{'w_calculate': CalculateWindow(name='w_calculate', contquery='contquery', project='project'), 'w_copy': CopyWindow(name='w_copy', contquery='contquery', project='project'), 'w_request': SourceWindow(name='w_request', contquery='contquery', project='project'), 'w_data': SourceWindow(name='w_data', contquery='contquery', project='project')}"
      ]
     },
     "execution_count": 17,
     "metadata": {},
     "output_type": "execute_result"
    }
   ],
   "source": [
    "walk.queries['contquery'].windows"
   ]
  },
  {
   "cell_type": "markdown",
   "metadata": {},
   "source": [
    "Specifying `queries` and `windows` is optional.  The `Project` and `ContinuousQuery` objects act like dictionaries so you can access the sub-objects directly using indexing. "
   ]
  },
  {
   "cell_type": "code",
   "execution_count": 18,
   "metadata": {
    "collapsed": true
   },
   "outputs": [],
   "source": [
    "dataw = walk.queries['contquery'].windows['w_data']\n",
    "calcw = walk['contquery']['w_calculate']\n",
    "copyw = walk['contquery']['w_copy']"
   ]
  },
  {
   "cell_type": "code",
   "execution_count": 19,
   "metadata": {
    "collapsed": false
   },
   "outputs": [
    {
     "data": {
      "text/plain": [
       "\"SourceWindow(name='w_data', contquery='contquery', project='project')\""
      ]
     },
     "execution_count": 19,
     "metadata": {},
     "output_type": "execute_result"
    }
   ],
   "source": [
    "str(dataw)"
   ]
  },
  {
   "cell_type": "code",
   "execution_count": 20,
   "metadata": {
    "collapsed": false
   },
   "outputs": [
    {
     "data": {
      "image/svg+xml": [
       "<?xml version=\"1.0\" encoding=\"UTF-8\" standalone=\"no\"?>\n",
       "<!DOCTYPE svg PUBLIC \"-//W3C//DTD SVG 1.1//EN\"\n",
       " \"http://www.w3.org/Graphics/SVG/1.1/DTD/svg11.dtd\">\n",
       "<!-- Generated by graphviz version 2.30.1 (20150306.0020)\n",
       " -->\n",
       "<!-- Title: %3 Pages: 1 -->\n",
       "<svg width=\"124pt\" height=\"130pt\"\n",
       " viewBox=\"0.00 0.00 124.00 130.00\" xmlns=\"http://www.w3.org/2000/svg\" xmlns:xlink=\"http://www.w3.org/1999/xlink\">\n",
       "<g id=\"graph0\" class=\"graph\" transform=\"scale(1 1) rotate(0) translate(4 126)\">\n",
       "<title>%3</title>\n",
       "<polygon fill=\"white\" stroke=\"white\" points=\"-4,5 -4,-126 121,-126 121,5 -4,5\"/>\n",
       "<!-- project.contquery.w_data -->\n",
       "<g id=\"node1\" class=\"node\"><title>project.contquery.w_data</title>\n",
       "<polygon fill=\"#c8f0ff\" stroke=\"#58a0d3\" stroke-width=\"2\" points=\"116,-122.5 0,-122.5 0,0.5 116,0.5 116,-122.5\"/>\n",
       "<text text-anchor=\"start\" x=\"36\" y=\"-99.3\" font-family=\"Helvetica,sans-Serif\" font-size=\"14.00\">w_data</text>\n",
       "<text text-anchor=\"start\" x=\"56\" y=\"-84.8\" font-family=\"Helvetica,sans-Serif\" font-size=\"14.00\"> </text>\n",
       "<text text-anchor=\"start\" x=\"23\" y=\"-70.8\" font-family=\"Helvetica,sans-Serif\" font-size=\"14.00\">🔑</text>\n",
       "<text text-anchor=\"start\" x=\"41\" y=\"-70.8\" font-family=\"Helvetica,sans-Serif\" font-size=\"14.00\" fill=\"#c49810\">id : int64</text>\n",
       "<text text-anchor=\"start\" x=\"18.5\" y=\"-56.8\" font-family=\"Helvetica,sans-Serif\" font-size=\"14.00\" fill=\"#808080\">time : double</text>\n",
       "<text text-anchor=\"start\" x=\"28.5\" y=\"-42.8\" font-family=\"Helvetica,sans-Serif\" font-size=\"14.00\" fill=\"#808080\">x : double</text>\n",
       "<text text-anchor=\"start\" x=\"28.5\" y=\"-28.8\" font-family=\"Helvetica,sans-Serif\" font-size=\"14.00\" fill=\"#808080\">y : double</text>\n",
       "<text text-anchor=\"start\" x=\"28.5\" y=\"-14.8\" font-family=\"Helvetica,sans-Serif\" font-size=\"14.00\" fill=\"#808080\">z : double</text>\n",
       "</g>\n",
       "</g>\n",
       "</svg>\n"
      ],
      "text/plain": [
       "<graphviz.dot.Digraph at 0x7f6936190588>"
      ]
     },
     "execution_count": 20,
     "metadata": {},
     "output_type": "execute_result"
    }
   ],
   "source": [
    "dataw.to_graph()"
   ]
  },
  {
   "cell_type": "code",
   "execution_count": 21,
   "metadata": {
    "collapsed": false
   },
   "outputs": [
    {
     "ename": "SyntaxError",
     "evalue": "invalid syntax (<ipython-input-21-0a8d820cec1f>, line 1)",
     "output_type": "error",
     "traceback": [
      "\u001b[1;36m  File \u001b[1;32m\"<ipython-input-21-0a8d820cec1f>\"\u001b[1;36m, line \u001b[1;32m1\u001b[0m\n\u001b[1;33m    dataw.\u001b[0m\n\u001b[1;37m          ^\u001b[0m\n\u001b[1;31mSyntaxError\u001b[0m\u001b[1;31m:\u001b[0m invalid syntax\n"
     ]
    }
   ],
   "source": [
    "dataw."
   ]
  },
  {
   "cell_type": "markdown",
   "metadata": {},
   "source": [
    "## Event Generators"
   ]
  },
  {
   "cell_type": "code",
   "execution_count": 22,
   "metadata": {
    "collapsed": false
   },
   "outputs": [
    {
     "name": "stdout",
     "output_type": "stream",
     "text": [
      "I,N,1,0,0.69464,3.1735,7.5048\n",
      "I,N,2,0.030639,0.14982,3.4868,9.2755\n",
      "I,N,3,0.069763,-0.29965,1.9477,9.112\n",
      "I,N,4,0.099823,-1.6889,1.4165,10.12\n",
      "I,N,5,0.12982,-2.1793,0.95342,10.924\n",
      "I,N,6,0.15979,-2.3018,0.23155,10.651\n",
      "I,N,7,0.18982,-1.4165,1.185,11.073\n",
      "I,N,8,0.2204,-0.27241,2.2201,11.986\n",
      "I,N,9,0.24976,-0.61292,2.2201,11.986\n",
      "I,N,10,0.27972,1.3348,4.2495,11.414\n"
     ]
    }
   ],
   "source": [
    "%%sh\n",
    "head model_walking.csv"
   ]
  },
  {
   "cell_type": "code",
   "execution_count": 31,
   "metadata": {
    "collapsed": false
   },
   "outputs": [
    {
     "data": {
      "text/plain": [
       "EventGenerator(name='eg_cb53ar8rw1', publish_target='dfESP://v64-d79221-03:8611/project/contquery/w_data')"
      ]
     },
     "execution_count": 31,
     "metadata": {},
     "output_type": "execute_result"
    }
   ],
   "source": [
    "import os\n",
    "\n",
    "# Using a URL path means the file must be accesible on the server-side\n",
    "egen = dataw.create_event_generator('file:///%s' % os.path.abspath('model_walking.csv'))\n",
    "egen"
   ]
  },
  {
   "cell_type": "code",
   "execution_count": 32,
   "metadata": {
    "collapsed": true
   },
   "outputs": [],
   "source": [
    "egen.start(pause=200)"
   ]
  },
  {
   "cell_type": "markdown",
   "metadata": {},
   "source": [
    "## Streaming DataFrames"
   ]
  },
  {
   "cell_type": "code",
   "execution_count": 33,
   "metadata": {
    "collapsed": true
   },
   "outputs": [],
   "source": [
    "dataw.subscribe(limit=20)"
   ]
  },
  {
   "cell_type": "code",
   "execution_count": 34,
   "metadata": {
    "collapsed": false
   },
   "outputs": [
    {
     "data": {
      "image/svg+xml": [
       "<?xml version=\"1.0\" encoding=\"UTF-8\" standalone=\"no\"?>\n",
       "<!DOCTYPE svg PUBLIC \"-//W3C//DTD SVG 1.1//EN\"\n",
       " \"http://www.w3.org/Graphics/SVG/1.1/DTD/svg11.dtd\">\n",
       "<!-- Generated by graphviz version 2.30.1 (20150306.0020)\n",
       " -->\n",
       "<!-- Title: %3 Pages: 1 -->\n",
       "<svg width=\"124.0pt\" height=\"130.0pt\"\n",
       " viewBox=\"0.00 0.00 124.00 130.00\" xmlns=\"http://www.w3.org/2000/svg\" xmlns:xlink=\"http://www.w3.org/1999/xlink\">\n",
       "<g id=\"graph0\" class=\"graph\" transform=\"scale(1 1) rotate(0) translate(4 126)\">\n",
       "<title>%3</title>\n",
       "<polygon fill=\"white\" stroke=\"white\" points=\"-4,5 -4,-126 121,-126 121,5 -4,5\"/>\n",
       "<!-- project.contquery.w_data -->\n",
       "<g id=\"node1\" class=\"node\"><title>project.contquery.w_data</title>\n",
       "<polygon fill=\"#c8f0ff\" stroke=\"#58a0d3\" stroke-width=\"2\" points=\"116,-122.5 0,-122.5 0,0.5 116,0.5 116,-122.5\"/>\n",
       "<text text-anchor=\"start\" x=\"36\" y=\"-99.3\" font-family=\"Helvetica,sans-Serif\" font-size=\"14.00\">w_data</text>\n",
       "<text text-anchor=\"start\" x=\"56\" y=\"-84.8\" font-family=\"Helvetica,sans-Serif\" font-size=\"14.00\"> </text>\n",
       "<text text-anchor=\"start\" x=\"23\" y=\"-70.8\" font-family=\"Helvetica,sans-Serif\" font-size=\"14.00\">🔑</text>\n",
       "<text text-anchor=\"start\" x=\"41\" y=\"-70.8\" font-family=\"Helvetica,sans-Serif\" font-size=\"14.00\" fill=\"#c49810\">id : int64</text>\n",
       "<text text-anchor=\"start\" x=\"18.5\" y=\"-56.8\" font-family=\"Helvetica,sans-Serif\" font-size=\"14.00\" fill=\"#808080\">time : double</text>\n",
       "<text text-anchor=\"start\" x=\"28.5\" y=\"-42.8\" font-family=\"Helvetica,sans-Serif\" font-size=\"14.00\" fill=\"#808080\">x : double</text>\n",
       "<text text-anchor=\"start\" x=\"28.5\" y=\"-28.8\" font-family=\"Helvetica,sans-Serif\" font-size=\"14.00\" fill=\"#808080\">y : double</text>\n",
       "<text text-anchor=\"start\" x=\"28.5\" y=\"-14.8\" font-family=\"Helvetica,sans-Serif\" font-size=\"14.00\" fill=\"#808080\">z : double</text>\n",
       "</g>\n",
       "</g>\n",
       "</svg>\n"
      ],
      "text/html": [
       "<div>\n",
       "<table border=\"1\" class=\"dataframe\">\n",
       "  <thead>\n",
       "    <tr style=\"text-align: right;\">\n",
       "      <th></th>\n",
       "      <th>time</th>\n",
       "      <th>x</th>\n",
       "      <th>y</th>\n",
       "      <th>z</th>\n",
       "    </tr>\n",
       "    <tr>\n",
       "      <th>id</th>\n",
       "      <th></th>\n",
       "      <th></th>\n",
       "      <th></th>\n",
       "      <th></th>\n",
       "    </tr>\n",
       "  </thead>\n",
       "  <tbody>\n",
       "    <tr>\n",
       "      <th>214</th>\n",
       "      <td>6.5898</td>\n",
       "      <td>-2.7513</td>\n",
       "      <td>9.1529</td>\n",
       "      <td>-1.9205</td>\n",
       "    </tr>\n",
       "    <tr>\n",
       "      <th>215</th>\n",
       "      <td>6.6199</td>\n",
       "      <td>-2.1112</td>\n",
       "      <td>9.4661</td>\n",
       "      <td>-2.3699</td>\n",
       "    </tr>\n",
       "  </tbody>\n",
       "</table>\n",
       "</div>"
      ],
      "text/plain": [
       "       time       x       y       z\n",
       "id                                 \n",
       "214  6.5898 -2.7513  9.1529 -1.9205\n",
       "215  6.6199 -2.1112  9.4661 -2.3699"
      ]
     },
     "execution_count": 34,
     "metadata": {},
     "output_type": "execute_result"
    }
   ],
   "source": [
    "dataw"
   ]
  },
  {
   "cell_type": "markdown",
   "metadata": {},
   "source": [
    "### Using DataFrame Plotting Features"
   ]
  },
  {
   "cell_type": "code",
   "execution_count": 35,
   "metadata": {
    "collapsed": true
   },
   "outputs": [],
   "source": [
    "%matplotlib inline"
   ]
  },
  {
   "cell_type": "code",
   "execution_count": 36,
   "metadata": {
    "collapsed": false
   },
   "outputs": [
    {
     "data": {
      "text/plain": [
       "<matplotlib.axes._subplots.AxesSubplot at 0x7f6917f3fc50>"
      ]
     },
     "execution_count": 36,
     "metadata": {},
     "output_type": "execute_result"
    },
    {
     "data": {
      "image/png": "[encoded data removed]",
      "text/plain": [
       "<matplotlib.figure.Figure at 0x7f6917c6bac8>"
      ]
     },
     "metadata": {},
     "output_type": "display_data"
    }
   ],
   "source": [
    "dataw.sort_values('time', ascending=True).plot('time', ['x', 'y', 'z'], figsize=(15, 6))"
   ]
  },
  {
   "cell_type": "code",
   "execution_count": 37,
   "metadata": {
    "collapsed": false
   },
   "outputs": [
    {
     "data": {
      "text/plain": [
       "<matplotlib.axes._subplots.AxesSubplot at 0x7f6917c9c0f0>"
      ]
     },
     "execution_count": 37,
     "metadata": {},
     "output_type": "execute_result"
    },
    {
     "data": {
      "image/png": "[encoded data removed]",
      "text/plain": [
       "<matplotlib.figure.Figure at 0x7f6917c88c50>"
      ]
     },
     "metadata": {},
     "output_type": "display_data"
    }
   ],
   "source": [
    "dataw.sort_values('time', ascending=True).plot('time', ['x', 'y', 'z'], figsize=(15, 6))"
   ]
  },
  {
   "cell_type": "markdown",
   "metadata": {},
   "source": [
    "## Streaming Figures"
   ]
  },
  {
   "cell_type": "code",
   "execution_count": 38,
   "metadata": {
    "collapsed": false
   },
   "outputs": [
    {
     "data": {
      "text/html": [
       "\n",
       "            <canvas id='chart_5546dce7_58eb_470f_83db_ccc48b266155_canvas'\n",
       "                    style='width: 900px; height: 400px'></canvas>\n",
       "\n",
       "            <style type=\"text/css\">\n",
       "            .stream-plot-controls {\n",
       "                border: 1px solid #e0e0e0;\n",
       "                border-radius: 5px;\n",
       "                padding: 8px;\n",
       "                display: inline-block;\n",
       "            }\n",
       "            .stream-plot-control {\n",
       "                color: #909090;\n",
       "                font-size: 150%;\n",
       "                margin-right: 1em;\n",
       "                margin-left: 1em;\n",
       "            }\n",
       "            .fa-play.stream-plot-control:not([class*='enabled']):not([class*='disabled']):hover {\n",
       "                text-shadow: 0px 0px 15px #00c000;\n",
       "                color: #00c000;\n",
       "            }\n",
       "            .fa-pause.stream-plot-control:not([class*='enabled']):not([class*='disabled']):hover {\n",
       "                text-shadow: 0px 0px 15px #fdeb61;\n",
       "                color: #d37a2d;\n",
       "            }\n",
       "            .fa-stop.stream-plot-control:not([class*='enabled']):not([class*='disabled']):hover {\n",
       "                text-shadow: 0px 0px 15px #ff0000;\n",
       "                color: #ff0000;\n",
       "            }\n",
       "            .fa-play.stream-plot-control.enabled { color: #00c000; }\n",
       "            .fa-pause.stream-plot-control.enabled { color: #d37a2d; }\n",
       "            .fa-stop.stream-plot-control.enabled { color: #ff0000; }\n",
       "            .stream-plot-control.disabled { color: #d0d0d0; }\n",
       "            </style>\n",
       "\n",
       "            <div id=\"streaming-plot-chart_5546dce7_58eb_470f_83db_ccc48b266155\"\n",
       "                 style=\"text-align: center; padding-top:10px; width: 900px\">\n",
       "            <div class=\"stream-plot-controls\" id=\"stream-plot-chart_5546dce7_58eb_470f_83db_ccc48b266155\">\n",
       "              <i class=\"fa fa-play enabled stream-plot-control\"\n",
       "                 title=\"Stream data into figure\" aria-hidden=\"true\"\n",
       "                 style=\"cursor:pointer\" id=\"chart_5546dce7_58eb_470f_83db_ccc48b266155-play\"></i>\n",
       "              <i class=\"fa fa-pause stream-plot-control\"\n",
       "                 title=\"Pause data updates\" aria-hidden=\"true\"\n",
       "                 style=\"cursor:pointer\" id=\"chart_5546dce7_58eb_470f_83db_ccc48b266155-pause\"></i>\n",
       "              <i class=\"fa fa-stop stream-plot-control\"\n",
       "                 title=\"Shutdown data stream\" aria-hidden=\"true\"\n",
       "                 style=\"cursor:pointer\" id=\"chart_5546dce7_58eb_470f_83db_ccc48b266155-stop\"></i>\n",
       "            </div>\n",
       "            </div>\n",
       "\n",
       "            <script language='javascript'>\n",
       "            <!--\n",
       "            requirejs.config({\n",
       "                paths: {\n",
       "                    Chart: ['//cdnjs.cloudflare.com/ajax/libs/Chart.js/2.7.0/Chart.min']\n",
       "                }\n",
       "            });\n",
       "\n",
       "            require(['jquery', 'Chart'], function($, Chart) {\n",
       "\n",
       "                var afterBuildTicks = function ( scale ) {\n",
       "                    return;\n",
       "                    scale.ticks.shift();\n",
       "                    scale.ticks.pop();\n",
       "                };\n",
       "\n",
       "                var generateLabels = function( chart ) {\n",
       "                    var data = chart.data;\n",
       "                    var labels = [];\n",
       "                    var ds_labels = [];\n",
       "                    var prev_key = '';\n",
       "\n",
       "                    if ( !Array.isArray(data.datasets) ) {\n",
       "                        return labels;\n",
       "                    }\n",
       "\n",
       "                    for ( var i=0; i < data.datasets.length; i++ ) {\n",
       "                        var dataset = data.datasets[i];\n",
       "                        var entry = {\n",
       "                            text: dataset.label,\n",
       "                            fillStyle: (!Array.isArray(dataset.backgroundColor) ?\n",
       "                                        dataset.backgroundColor :\n",
       "                                        dataset.backgroundColor[0]),\n",
       "                            hidden: !chart.isDatasetVisible(i),\n",
       "                            lineCap: dataset.borderCapStyle,\n",
       "                            lineDash: dataset.borderDash,\n",
       "                            lineDashOffset: dataset.borderDashOffset,\n",
       "                            lineJoin: dataset.borderJoinStyle,\n",
       "                            lineWidth: dataset.borderWidth,\n",
       "                            strokeStyle: dataset.borderColor,\n",
       "                            pointStyle: dataset.pointStyle,\n",
       "\n",
       "                            // Below is extra data used for toggling the datasets\n",
       "                            datasetIndex: i\n",
       "                        }\n",
       "\n",
       "                        if ( dataset._key && dataset._key.split('-')[0] === prev_key ) {\n",
       "                            ds_labels.push(entry);\n",
       "                        }\n",
       "                        else {\n",
       "                            ds_labels.sort(function(a, b) {\n",
       "                                if ( a.text < b.text ) return -1;\n",
       "                                if ( a.text > b.text ) return 1;\n",
       "                                return 0;\n",
       "                            });\n",
       "                            for ( var j=0; j < ds_labels.length; j++ ) {\n",
       "                                labels.push(ds_labels[j]);\n",
       "                            }\n",
       "                            prev_key = dataset._key.split('-')[0];\n",
       "                            ds_labels = [entry];\n",
       "                        }\n",
       "                    }\n",
       "\n",
       "                    ds_labels.sort(function(a, b) {\n",
       "                        if ( a.text < b.text ) return -1;\n",
       "                        if ( a.text > b.text ) return 1;\n",
       "                        return 0;\n",
       "                    });\n",
       "                    for ( var j=0; j < ds_labels.length; j++ ) {\n",
       "                        labels.push(ds_labels[j]);\n",
       "                    }\n",
       "\n",
       "                    return labels;\n",
       "                };\n",
       "\n",
       "                var auto_colors = function ( data ) {\n",
       "                    var ctx = document.getElementById('chart_5546dce7_58eb_470f_83db_ccc48b266155_canvas').getContext('2d');\n",
       "                    var datasets = data.datasets;\n",
       "                    var Color = Chart.helpers.color;\n",
       "                    if ( !data.datasets || data.datasets.length == 0 ) {\n",
       "                        return data;\n",
       "                    }\n",
       "                    for ( var i=0; i < datasets.length; i++ ) {\n",
       "                        var ds = datasets[i];\n",
       "                        if ( ds.backgroundColor ) {\n",
       "                            if ( Array.isArray(ds.backgroundColor) ) {\n",
       "                                for ( var j=0; j < ds.backgroundColor.length; j++ ) {\n",
       "                                    var bgcolor = ds.backgroundColor[j];\n",
       "                                    if ( bgcolor.match(/^\\s*auto\\s*\\(.+\\)\\s*$/) ) {\n",
       "                                        bgcolor = bgcolor.replace(/^\\s*auto\\s*\\(\\s*(.+)\\s*\\)\\s*$/, '$1');\n",
       "                                        ds.backgroundColor[j] = Color(bgcolor).clearer(0.6).rgbString();\n",
       "                                    }\n",
       "                                    else if ( bgcolor.match(/^\\s*url\\s*\\(.+\\)\\s*$/) ) {\n",
       "                                        var img = new Image();\n",
       "                                        img.src = bgcolor.replace(/^\\s*url\\s*\\(\\s*(.+)\\s*\\)\\s*$/, '$1');\n",
       "                                        img.onload = function () {\n",
       "                                            ds.backgroundColor[j] = ctx.createPattern(img, 'repeat');\n",
       "                                        };\n",
       "                                    }\n",
       "                                }\n",
       "                            }\n",
       "                            else if ( ds.backgroundColor.match(/^\\s*auto\\s*\\(.+\\)\\s*$/) ) {\n",
       "                                var bgcolor = ds.backgroundColor.replace(/^\\s*auto\\s*\\(\\s*(.+)\\s*\\)\\s*$/, '$1');\n",
       "                                ds.backgroundColor = Color(bgcolor).clearer(0.6).rgbString();\n",
       "                            }\n",
       "                            else if ( ds.backgroundColor.match(/^\\s*url\\s*\\(.+\\)\\s*$/) ) {\n",
       "                                var img = new Image();\n",
       "                                img.src = ds.backgroundColor.replace(/^\\s*url\\s*\\(\\s*(.+)\\s*\\)\\s*$/, '$1');\n",
       "                                img.onload = function () {\n",
       "                                    ds.backgroundColor = ctx.createPattern(img, 'repeat');\n",
       "                                };\n",
       "                            }\n",
       "                        }\n",
       "                        if ( ds.borderColor ) {\n",
       "                            if ( Array.isArray(ds.borderColor) ) {\n",
       "                                for ( var j=0; j < ds.borderColor.length; j++ ) {\n",
       "                                    var fgcolor = ds.borderColor[j];\n",
       "                                    if ( fgcolor.match(/^\\s*auto\\s*\\(.+\\)\\s*$/) ) {\n",
       "                                        fgcolor = fg.replace(/^\\s*auto\\s*\\(\\s*(.*)\\s*\\)\\s*$/, '$1');\n",
       "                                        ds.borderColor[j] = Color(fgcolor).opaquer(1).rgbString();\n",
       "                                    }\n",
       "                                }\n",
       "                            } else if ( ds.borderColor.match(/^\\s*auto\\s*\\(.+\\)\\s*$/) ) {\n",
       "                                var fgcolor = ds.borderColor.replace(/^\\s*auto\\s*\\(\\s*(.*)\\s*\\)\\s*$/, '$1');\n",
       "                                ds.borderColor = Color(fgcolor).opaquer(1).rgbString();\n",
       "                            }\n",
       "                        }\n",
       "                    }\n",
       "                    return data;\n",
       "                };\n",
       "\n",
       "                var max_data = 20;\n",
       "                var ctx = document.getElementById('chart_5546dce7_58eb_470f_83db_ccc48b266155_canvas').getContext('2d');\n",
       "                var chart = new Chart(ctx, {\n",
       "                    type: 'line',\n",
       "                    data: auto_colors({\"displayed_labels\": null, \"datasets\": [{\"backgroundColor\": \"auto(#1f78b4)\", \"pointRadius\": 0, \"_radius\": null, \"spanGaps\": false, \"showLine\": true, \"borderColor\": \"auto(#1f78b4)\", \"_y\": \"x\", \"label\": \"X\", \"_x\": \"time\", \"fill\": false, \"type\": \"line\", \"data\": [], \"_key\": \"ds00\"}, {\"backgroundColor\": \"auto(#ff7f00)\", \"pointRadius\": 0, \"_radius\": null, \"spanGaps\": false, \"showLine\": true, \"borderColor\": \"auto(#ff7f00)\", \"_y\": \"y\", \"label\": \"Y\", \"_x\": \"time\", \"fill\": false, \"type\": \"line\", \"data\": [], \"_key\": \"ds01\"}, {\"backgroundColor\": \"auto(#33a02c)\", \"pointRadius\": 0, \"_radius\": null, \"spanGaps\": false, \"showLine\": true, \"borderColor\": \"auto(#33a02c)\", \"_y\": \"z\", \"label\": \"Z\", \"_x\": \"time\", \"fill\": false, \"type\": \"line\", \"data\": [], \"_key\": \"ds02\"}], \"labels\": []}),\n",
       "                    options: {\"title\": {\"text\": \"\", \"display\": false}, \"scales\": {\"xAxes\": [{\"ticks\": {}}], \"yAxes\": [{\"ticks\": {\"max\": 16, \"min\": -16}}]}, \"legend\": {\"labels\": {\"usePointStyle\": true}, \"position\": \"right\", \"display\": true}, \"responsive\": true}\n",
       "                });\n",
       "\n",
       "                var set_display_labels = function (value, index, values) {\n",
       "                    if ( chart.data.displayed_labels && chart.data.displayed_labels[index] ) {\n",
       "                        return chart.data.displayed_labels[index];\n",
       "                    }\n",
       "                    return value;\n",
       "                };\n",
       "\n",
       "                if ( chart.options.scales && chart.options.scales.xAxes ) {\n",
       "                    chart.options.scales.xAxes[0].ticks.callback = set_display_labels;\n",
       "                }\n",
       "\n",
       "/*\n",
       "                var dynamic_x_axis = false;\n",
       "                if ( chart.config.type === 'line' || chart.config.type === 'area' ||\n",
       "                     chart.config.type === 'scatter' || chart.config.type === 'bubble' ) {\n",
       "                    if ( chart.options.scales.xAxes[0].ticks.min == null &&\n",
       "                         chart.options.scales.xAxes[0].ticks.max == null ) {\n",
       "                        dynamic_x_axis = true;\n",
       "                    }\n",
       "                }\n",
       "\n",
       "                if ( dynamic_x_axis && chart.options.scales && chart.options.scales.xAxes ) {\n",
       "                    chart.options.scales.xAxes[0].afterBuildTicks = afterBuildTicks;\n",
       "                }\n",
       "*/\n",
       "\n",
       "                var rotate_linear = function (labels, values, new_values) {\n",
       "                    Array.prototype.push.apply(values, new_values);\n",
       "                    while ( values.length > max_data ) {\n",
       "                        values.shift();\n",
       "                    }\n",
       "                    while ( values.length < labels.length ) {\n",
       "                        values.unshift(null);\n",
       "                    }\n",
       "                }\n",
       "\n",
       "                var rotate_category = function (labels, new_labels, values, new_values) {\n",
       "                    var idx;\n",
       "\n",
       "                    if ( !new_labels || new_labels.length == 0 ) return;\n",
       "                    if ( !new_values || new_values.length == 0 ) return;\n",
       "\n",
       "                    for ( var i=0; i < new_labels.length; i++ ) {\n",
       "                        idx = labels.indexOf(new_labels[i]);\n",
       "                        if ( idx === -1 ) {\n",
       "                            labels.push(new_labels[i]);\n",
       "                            values.push(new_values[i]);\n",
       "                        } else {\n",
       "                            values[idx] = new_values[i];\n",
       "                        }\n",
       "                    }\n",
       "\n",
       "                    while ( values.length > max_data ) {\n",
       "                        values.shift();\n",
       "                    }\n",
       "\n",
       "                    while ( values.length < labels.length ) {\n",
       "                        values.unshift(null);\n",
       "                    }\n",
       "                }\n",
       "\n",
       "                var comm = Jupyter.notebook.kernel.comm_manager.new_comm('chart_5546dce7_58eb_470f_83db_ccc48b266155')\n",
       "\n",
       "                comm.on_msg(function(msg) {\n",
       "                    var data = auto_colors(msg.content.data);\n",
       "                    var key = null;\n",
       "                    var old_datasets = {};\n",
       "                    var new_datasets = {};\n",
       "                    var updated_datasets = {};\n",
       "\n",
       "                    if ( data.labels && data.datasets &&\n",
       "                         data.labels.length > 0 && data.datasets.length > 0 ) {\n",
       "\n",
       "                        // Categorize updatable and new datasets\n",
       "                        for ( var i=0; i < chart.data.datasets.length; i++ ) {\n",
       "                            old_datasets[chart.data.datasets[i]._key] = chart.data.datasets[i];\n",
       "                        }\n",
       "                        for ( var i=0; i < data.datasets.length; i++ ) {\n",
       "                            if ( old_datasets[data.datasets[i]._key] == null ) {\n",
       "                                new_datasets[data.datasets[i]._key] = data.datasets[i];\n",
       "                            } else {\n",
       "                                updated_datasets[data.datasets[i]._key] = data.datasets[i];\n",
       "                            }\n",
       "                        }\n",
       "\n",
       "                        if ( chart.config.type == 'doughnut' ||\n",
       "                             chart.config.type == 'pie' ||\n",
       "                             chart.config.type == 'bar' ||\n",
       "                             chart.config.type == 'horizontalBar' ) {\n",
       "\n",
       "                            // Update existing datasets\n",
       "                            for ( key in updated_datasets ) {\n",
       "                                rotate_category( chart.data.labels,\n",
       "                                                   data.labels,\n",
       "                                                   old_datasets[key].data,\n",
       "                                                   updated_datasets[key].data );\n",
       "                            }\n",
       "\n",
       "                            // Add new datasets\n",
       "                            for ( key in new_datasets ) {\n",
       "                                chart.data.datasets.push(new_datasets[key]);\n",
       "                                rotate_category( chart.data.labels,\n",
       "                                                   data.labels,\n",
       "                                                   new_datasets[key].data,\n",
       "                                                   new_datasets[key].data );\n",
       "                            }\n",
       "\n",
       "                            chart.data.displayed_labels = data.displayed_labels;\n",
       "\n",
       "                        } else {\n",
       "\n",
       "                            // Rotate labels\n",
       "                            Array.prototype.push.apply(chart.data.labels, data.labels);\n",
       "                            while ( chart.data.labels.length > max_data ) {\n",
       "                                chart.data.labels.shift();\n",
       "                            }\n",
       "\n",
       "                            // Update existing datasets\n",
       "                            for ( key in updated_datasets ) {\n",
       "                                rotate_linear( chart.data.labels,\n",
       "                                               old_datasets[key].data,\n",
       "                                               updated_datasets[key].data );\n",
       "                            }\n",
       "\n",
       "                            // Add new datasets\n",
       "                            for ( key in new_datasets ) {\n",
       "                                chart.data.datasets.push(new_datasets[key]);\n",
       "                                rotate_linear( chart.data.labels,\n",
       "                                               new_datasets[key].data,\n",
       "                                               [] );\n",
       "                            }\n",
       "\n",
       "                            // Shift stale datasets\n",
       "                            var nulls = [];\n",
       "                            for ( key in old_datasets ) {\n",
       "                                if ( updated_datasets[key] == null ) {\n",
       "                                    if ( nulls.length == 0 ) {\n",
       "                                        for ( var i=0; i < data.labels.length; i++ ) {\n",
       "                                            nulls.push(null);\n",
       "                                        }\n",
       "                                    }\n",
       "                                    rotate_linear( chart.data.labels,\n",
       "                                                   old_datasets[key].data,\n",
       "                                                   nulls );\n",
       "                                }\n",
       "                            }\n",
       "\n",
       "                            // Reset x-axis limits\n",
       "/*\n",
       "                            if ( dynamic_x_axis && chart.options.scales && chart.options.scales.xAxes ) {\n",
       "                                chart.options.scales.xAxes[0].ticks.min = chart.data.labels[Math.max(Math.min(chart.data.labels.length-1, 2), 0)];\n",
       "                                chart.options.scales.xAxes[0].ticks.max = chart.data.labels[Math.max(chart.data.labels.length-1, 0)];\n",
       "                            }\n",
       "*/\n",
       "                        }\n",
       "\n",
       "                        if ( chart.config.type == 'line' ) {\n",
       "                            chart.update(0);\n",
       "                        } else {\n",
       "                            chart.update(100 * 2);\n",
       "                        }\n",
       "                    }\n",
       "\n",
       "                    if ( data.command ) {\n",
       "                        if ( data.command == 'stop' ) {\n",
       "                            $('#chart_5546dce7_58eb_470f_83db_ccc48b266155-play, #chart_5546dce7_58eb_470f_83db_ccc48b266155-pause, #chart_5546dce7_58eb_470f_83db_ccc48b266155-stop')\n",
       "                                .removeClass('enabled')\n",
       "                                .addClass('disabled')\n",
       "                                .css('cursor', 'default');\n",
       "                            $('#streaming-plot-chart_5546dce7_58eb_470f_83db_ccc48b266155').hide().remove();\n",
       "                        }\n",
       "                    }\n",
       "\n",
       "                    // If plot doesn't exist anymore, stop data\n",
       "                    if ( $('#streaming-plot-chart_5546dce7_58eb_470f_83db_ccc48b266155').length == 0 ) {\n",
       "                        comm.send({'command': 'stop'});\n",
       "                    }\n",
       "                });\n",
       "\n",
       "                comm.on_close(function() {\n",
       "                    comm.send({'command': 'stop'});\n",
       "                });\n",
       "\n",
       "                // Send message when plot is removed\n",
       "                $.event.special.destroyed = {\n",
       "                    remove: function(o) {\n",
       "                      if (o.handler) {\n",
       "                        o.handler()\n",
       "                      }\n",
       "                    }\n",
       "                }\n",
       "                $('#streaming-plot-chart_5546dce7_58eb_470f_83db_ccc48b266155').bind('destroyed', function() {\n",
       "                    comm.send({'command': 'stop'});\n",
       "                });\n",
       "\n",
       "                var blink = function () {\n",
       "                  $('#chart_5546dce7_58eb_470f_83db_ccc48b266155-pause.enabled').fadeOut(900).fadeIn(900, blink);\n",
       "                }\n",
       "\n",
       "                $('#chart_5546dce7_58eb_470f_83db_ccc48b266155-play').click(function() {\n",
       "                  if ( $('#chart_5546dce7_58eb_470f_83db_ccc48b266155-play').hasClass('disabled') ) return;\n",
       "                  if ( $('#chart_5546dce7_58eb_470f_83db_ccc48b266155-play').hasClass('enabled') ) return;\n",
       "                  $('#chart_5546dce7_58eb_470f_83db_ccc48b266155-pause').removeClass('enabled');\n",
       "                  $('#chart_5546dce7_58eb_470f_83db_ccc48b266155-play').addClass('enabled');\n",
       "                  comm.send({'command': 'play'});\n",
       "                });\n",
       "\n",
       "                $('#chart_5546dce7_58eb_470f_83db_ccc48b266155-pause').click(function() {\n",
       "                  if ( $('#chart_5546dce7_58eb_470f_83db_ccc48b266155-pause').hasClass('disabled') ) return;\n",
       "                  if ( $('#chart_5546dce7_58eb_470f_83db_ccc48b266155-pause').hasClass('enabled') ) {\n",
       "                    $('#chart_5546dce7_58eb_470f_83db_ccc48b266155-play').click();\n",
       "                    return;\n",
       "                  }\n",
       "                  $('#chart_5546dce7_58eb_470f_83db_ccc48b266155-play').removeClass('enabled');\n",
       "                  $('#chart_5546dce7_58eb_470f_83db_ccc48b266155-pause').addClass('enabled');\n",
       "                  comm.send({'command': 'pause'});\n",
       "                  blink();\n",
       "                });\n",
       "\n",
       "                $('#chart_5546dce7_58eb_470f_83db_ccc48b266155-stop').click(function() {\n",
       "                  if ( $('#chart_5546dce7_58eb_470f_83db_ccc48b266155-stop').hasClass('disabled') ) return;\n",
       "                    $('#chart_5546dce7_58eb_470f_83db_ccc48b266155-play, #chart_5546dce7_58eb_470f_83db_ccc48b266155-pause, #chart_5546dce7_58eb_470f_83db_ccc48b266155-stop')\n",
       "                    .removeClass('enabled')\n",
       "                    .addClass('disabled')\n",
       "                    .css('cursor', 'default');\n",
       "                  comm.send({'command': 'stop'});\n",
       "                  $('#streaming-plot-chart_5546dce7_58eb_470f_83db_ccc48b266155').hide().remove();\n",
       "                });\n",
       "\n",
       "            });\n",
       "            //-->\n",
       "            </script>\n",
       "        "
      ],
      "text/plain": [
       "<esppy.plotting.StreamingChart at 0x7f6917b740f0>"
      ]
     },
     "execution_count": 38,
     "metadata": {},
     "output_type": "execute_result"
    }
   ],
   "source": [
    "dataw.streaming_line('time', ['x', 'y', 'z'], \n",
    "                     label=['X', 'Y', 'Z'],\n",
    "                     y_range=(-16,16),\n",
    "                     max_data=20, steps=1000, interval=100)"
   ]
  },
  {
   "cell_type": "markdown",
   "metadata": {},
   "source": [
    "## Create a New Project Programmatically"
   ]
  },
  {
   "cell_type": "code",
   "execution_count": 5,
   "metadata": {
    "collapsed": false
   },
   "outputs": [
    {
     "data": {
      "image/svg+xml": [
       "<?xml version=\"1.0\" encoding=\"UTF-8\" standalone=\"no\"?>\n",
       "<!DOCTYPE svg PUBLIC \"-//W3C//DTD SVG 1.1//EN\"\n",
       " \"http://www.w3.org/Graphics/SVG/1.1/DTD/svg11.dtd\">\n",
       "<!-- Generated by graphviz version 2.30.1 (20150306.0020)\n",
       " -->\n",
       "<!-- Title: %3 Pages: 1 -->\n",
       "<svg width=\"74.0pt\" height=\"44.0pt\"\n",
       " viewBox=\"0.00 0.00 74.00 44.00\" xmlns=\"http://www.w3.org/2000/svg\" xmlns:xlink=\"http://www.w3.org/1999/xlink\">\n",
       "<g id=\"graph0\" class=\"graph\" transform=\"scale(1 1) rotate(0) translate(4 40)\">\n",
       "<title>%3</title>\n",
       "<polygon fill=\"white\" stroke=\"white\" points=\"-4,5 -4,-40 71,-40 71,5 -4,5\"/>\n",
       "<!-- kmeans -->\n",
       "<g id=\"node1\" class=\"node\"><title>kmeans</title>\n",
       "<path fill=\"#dadada\" stroke=\"#c0c0c0\" stroke-width=\"2\" d=\"M53.5,-36C53.5,-36 12.5,-36 12.5,-36 6.5,-36 0.5,-30 0.5,-24 0.5,-24 0.5,-12 0.5,-12 0.5,-6 6.5,-0 12.5,-0 12.5,-0 53.5,-0 53.5,-0 59.5,-0 65.5,-6 65.5,-12 65.5,-12 65.5,-24 65.5,-24 65.5,-30 59.5,-36 53.5,-36\"/>\n",
       "<text text-anchor=\"middle\" x=\"33\" y=\"-14.3\" font-family=\"Helvetica,sans-Serif\" font-size=\"14.00\">kmeans</text>\n",
       "</g>\n",
       "</g>\n",
       "</svg>\n"
      ],
      "text/plain": [
       "Project(name='kmeans')"
      ]
     },
     "execution_count": 5,
     "metadata": {},
     "output_type": "execute_result"
    }
   ],
   "source": [
    "proj = esp.create_project('kmeans')\n",
    "proj"
   ]
  },
  {
   "cell_type": "markdown",
   "metadata": {},
   "source": [
    "### Add a Source Window"
   ]
  },
  {
   "cell_type": "code",
   "execution_count": 6,
   "metadata": {
    "collapsed": false
   },
   "outputs": [
    {
     "data": {
      "image/svg+xml": [
       "<?xml version=\"1.0\" encoding=\"UTF-8\" standalone=\"no\"?>\n",
       "<!DOCTYPE svg PUBLIC \"-//W3C//DTD SVG 1.1//EN\"\n",
       " \"http://www.w3.org/Graphics/SVG/1.1/DTD/svg11.dtd\">\n",
       "<!-- Generated by graphviz version 2.30.1 (20150306.0020)\n",
       " -->\n",
       "<!-- Title: %3 Pages: 1 -->\n",
       "<svg width=\"120.0pt\" height=\"103.0pt\"\n",
       " viewBox=\"0.00 0.00 120.00 103.00\" xmlns=\"http://www.w3.org/2000/svg\" xmlns:xlink=\"http://www.w3.org/1999/xlink\">\n",
       "<g id=\"graph0\" class=\"graph\" transform=\"scale(1 1) rotate(0) translate(4 99)\">\n",
       "<title>%3</title>\n",
       "<polygon fill=\"white\" stroke=\"white\" points=\"-4,5 -4,-99 117,-99 117,5 -4,5\"/>\n",
       "<g id=\"clust1\" class=\"cluster\"><title>cluster_kmeans</title>\n",
       "<path fill=\"#dadada\" stroke=\"#c0c0c0\" stroke-width=\"2\" d=\"M20,-8C20,-8 92,-8 92,-8 98,-8 104,-14 104,-20 104,-20 104,-75 104,-75 104,-81 98,-87 92,-87 92,-87 20,-87 20,-87 14,-87 8,-81 8,-75 8,-75 8,-20 8,-20 8,-14 14,-8 20,-8\"/>\n",
       "<text text-anchor=\"middle\" x=\"40.5\" y=\"-71.8\" font-family=\"Helvetica,sans-Serif\" font-size=\"14.00\">kmeans</text>\n",
       "</g>\n",
       "<!-- kmeans.contquery.w_data -->\n",
       "<g id=\"node1\" class=\"node\"><title>kmeans.contquery.w_data</title>\n",
       "<polygon fill=\"#c8f0ff\" stroke=\"#58a0d3\" stroke-width=\"2\" points=\"96,-55.5 16,-55.5 16,-16.5 96,-16.5 96,-55.5\"/>\n",
       "<text text-anchor=\"middle\" x=\"56\" y=\"-32.3\" font-family=\"Helvetica,sans-Serif\" font-size=\"14.00\">w_data</text>\n",
       "</g>\n",
       "</g>\n",
       "</svg>\n"
      ],
      "text/plain": [
       "Project(name='kmeans')"
      ]
     },
     "execution_count": 6,
     "metadata": {},
     "output_type": "execute_result"
    }
   ],
   "source": [
    "src = esp.SourceWindow(schema=('id*:int64', 'x_c:double', 'y_c:double'),\n",
    "                       index_type='pi_EMPTY', insert_only=True)\n",
    "proj.windows['w_data'] = src\n",
    "proj"
   ]
  },
  {
   "cell_type": "markdown",
   "metadata": {},
   "source": [
    "### Add a Training Window"
   ]
  },
  {
   "cell_type": "code",
   "execution_count": null,
   "metadata": {
    "collapsed": false
   },
   "outputs": [],
   "source": [
    "esp.train."
   ]
  },
  {
   "cell_type": "code",
   "execution_count": 69,
   "metadata": {
    "collapsed": true
   },
   "outputs": [],
   "source": [
    "esp.train.KMEANS?"
   ]
  },
  {
   "cell_type": "code",
   "execution_count": 7,
   "metadata": {
    "collapsed": false
   },
   "outputs": [
    {
     "data": {
      "image/svg+xml": [
       "<?xml version=\"1.0\" encoding=\"UTF-8\" standalone=\"no\"?>\n",
       "<!DOCTYPE svg PUBLIC \"-//W3C//DTD SVG 1.1//EN\"\n",
       " \"http://www.w3.org/Graphics/SVG/1.1/DTD/svg11.dtd\">\n",
       "<!-- Generated by graphviz version 2.30.1 (20150306.0020)\n",
       " -->\n",
       "<!-- Title: %3 Pages: 1 -->\n",
       "<svg width=\"176.0pt\" height=\"160.0pt\"\n",
       " viewBox=\"0.00 0.00 176.00 160.00\" xmlns=\"http://www.w3.org/2000/svg\" xmlns:xlink=\"http://www.w3.org/1999/xlink\">\n",
       "<g id=\"graph0\" class=\"graph\" transform=\"scale(1 1) rotate(0) translate(4 156)\">\n",
       "<title>%3</title>\n",
       "<polygon fill=\"white\" stroke=\"white\" points=\"-4,5 -4,-156 173,-156 173,5 -4,5\"/>\n",
       "<g id=\"clust1\" class=\"cluster\"><title>cluster_kmeans</title>\n",
       "<path fill=\"#dadada\" stroke=\"#c0c0c0\" stroke-width=\"2\" d=\"M20,-8C20,-8 148,-8 148,-8 154,-8 160,-14 160,-20 160,-20 160,-132 160,-132 160,-138 154,-144 148,-144 148,-144 20,-144 20,-144 14,-144 8,-138 8,-132 8,-132 8,-20 8,-20 8,-14 14,-8 20,-8\"/>\n",
       "<text text-anchor=\"middle\" x=\"40.5\" y=\"-128.8\" font-family=\"Helvetica,sans-Serif\" font-size=\"14.00\">kmeans</text>\n",
       "</g>\n",
       "<!-- kmeans.contquery.w_data -->\n",
       "<g id=\"node1\" class=\"node\"><title>kmeans.contquery.w_data</title>\n",
       "<polygon fill=\"#c8f0ff\" stroke=\"#58a0d3\" stroke-width=\"2\" points=\"124,-112.5 44,-112.5 44,-73.5 124,-73.5 124,-112.5\"/>\n",
       "<text text-anchor=\"middle\" x=\"84\" y=\"-89.3\" font-family=\"Helvetica,sans-Serif\" font-size=\"14.00\">w_data</text>\n",
       "</g>\n",
       "<!-- kmeans.contquery.w_train_kmeans -->\n",
       "<g id=\"node2\" class=\"node\"><title>kmeans.contquery.w_train_kmeans</title>\n",
       "<polygon fill=\"#c8f0ff\" stroke=\"#58a0d3\" stroke-width=\"2\" points=\"152,-55.5 16,-55.5 16,-16.5 152,-16.5 152,-55.5\"/>\n",
       "<text text-anchor=\"middle\" x=\"84\" y=\"-32.3\" font-family=\"Helvetica,sans-Serif\" font-size=\"14.00\">w_train_kmeans</text>\n",
       "</g>\n",
       "</g>\n",
       "</svg>\n"
      ],
      "text/plain": [
       "Project(name='kmeans')"
      ]
     },
     "execution_count": 7,
     "metadata": {},
     "output_type": "execute_result"
    }
   ],
   "source": [
    "train = esp.train.KMEANS(\n",
    "    velocity=5, fadeOutFactor=0.05, nClusters=2, dampingFactor=0.8, \n",
    "    nInit=50, commitInterval=25, initSeed=1, disturbFactor=0.01,\n",
    "    input_map=dict(inputs=('x_c', 'y_c')))\n",
    "proj.windows['w_train_kmeans'] = train\n",
    "proj"
   ]
  },
  {
   "cell_type": "markdown",
   "metadata": {},
   "source": [
    "### Add a Scoring Window"
   ]
  },
  {
   "cell_type": "code",
   "execution_count": null,
   "metadata": {
    "collapsed": false
   },
   "outputs": [],
   "source": [
    "esp.score."
   ]
  },
  {
   "cell_type": "code",
   "execution_count": 9,
   "metadata": {
    "collapsed": true
   },
   "outputs": [],
   "source": [
    "esp.score.KMEANS?"
   ]
  },
  {
   "cell_type": "code",
   "execution_count": 11,
   "metadata": {
    "collapsed": false
   },
   "outputs": [
    {
     "data": {
      "text/plain": [
       "{'labelOut': 'int32', 'minDistanceOut': 'double', 'modelIdOut': 'int64'}"
      ]
     },
     "execution_count": 11,
     "metadata": {},
     "output_type": "execute_result"
    }
   ],
   "source": [
    "esp.score.KMEANS.output_map_types"
   ]
  },
  {
   "cell_type": "code",
   "execution_count": 12,
   "metadata": {
    "collapsed": false
   },
   "outputs": [
    {
     "data": {
      "image/svg+xml": [
       "<?xml version=\"1.0\" encoding=\"UTF-8\" standalone=\"no\"?>\n",
       "<!DOCTYPE svg PUBLIC \"-//W3C//DTD SVG 1.1//EN\"\n",
       " \"http://www.w3.org/Graphics/SVG/1.1/DTD/svg11.dtd\">\n",
       "<!-- Generated by graphviz version 2.30.1 (20150306.0020)\n",
       " -->\n",
       "<!-- Title: %3 Pages: 1 -->\n",
       "<svg width=\"182.0pt\" height=\"217.0pt\"\n",
       " viewBox=\"0.00 0.00 182.00 217.00\" xmlns=\"http://www.w3.org/2000/svg\" xmlns:xlink=\"http://www.w3.org/1999/xlink\">\n",
       "<g id=\"graph0\" class=\"graph\" transform=\"scale(1 1) rotate(0) translate(4 213)\">\n",
       "<title>%3</title>\n",
       "<polygon fill=\"white\" stroke=\"white\" points=\"-4,5 -4,-213 179,-213 179,5 -4,5\"/>\n",
       "<g id=\"clust1\" class=\"cluster\"><title>cluster_kmeans</title>\n",
       "<path fill=\"#dadada\" stroke=\"#c0c0c0\" stroke-width=\"2\" d=\"M20,-8C20,-8 154,-8 154,-8 160,-8 166,-14 166,-20 166,-20 166,-189 166,-189 166,-195 160,-201 154,-201 154,-201 20,-201 20,-201 14,-201 8,-195 8,-189 8,-189 8,-20 8,-20 8,-14 14,-8 20,-8\"/>\n",
       "<text text-anchor=\"middle\" x=\"40.5\" y=\"-185.8\" font-family=\"Helvetica,sans-Serif\" font-size=\"14.00\">kmeans</text>\n",
       "</g>\n",
       "<!-- kmeans.contquery.w_data -->\n",
       "<g id=\"node1\" class=\"node\"><title>kmeans.contquery.w_data</title>\n",
       "<polygon fill=\"#c8f0ff\" stroke=\"#58a0d3\" stroke-width=\"2\" points=\"127,-169.5 47,-169.5 47,-130.5 127,-130.5 127,-169.5\"/>\n",
       "<text text-anchor=\"middle\" x=\"87\" y=\"-146.3\" font-family=\"Helvetica,sans-Serif\" font-size=\"14.00\">w_data</text>\n",
       "</g>\n",
       "<!-- kmeans.contquery.w_score_kmeans -->\n",
       "<g id=\"node2\" class=\"node\"><title>kmeans.contquery.w_score_kmeans</title>\n",
       "<polygon fill=\"#c8f0ff\" stroke=\"#58a0d3\" stroke-width=\"2\" points=\"158,-112.5 16,-112.5 16,-73.5 158,-73.5 158,-112.5\"/>\n",
       "<text text-anchor=\"middle\" x=\"87\" y=\"-89.3\" font-family=\"Helvetica,sans-Serif\" font-size=\"14.00\">w_score_kmeans</text>\n",
       "</g>\n",
       "<!-- kmeans.contquery.w_train_kmeans -->\n",
       "<g id=\"node3\" class=\"node\"><title>kmeans.contquery.w_train_kmeans</title>\n",
       "<polygon fill=\"#c8f0ff\" stroke=\"#58a0d3\" stroke-width=\"2\" points=\"155,-55.5 19,-55.5 19,-16.5 155,-16.5 155,-55.5\"/>\n",
       "<text text-anchor=\"middle\" x=\"87\" y=\"-32.3\" font-family=\"Helvetica,sans-Serif\" font-size=\"14.00\">w_train_kmeans</text>\n",
       "</g>\n",
       "</g>\n",
       "</svg>\n"
      ],
      "text/plain": [
       "Project(name='kmeans')"
      ]
     },
     "execution_count": 12,
     "metadata": {},
     "output_type": "execute_result"
    }
   ],
   "source": [
    "score = esp.score.KMEANS(\n",
    "    schema=('id*:int64', 'x_c:double', 'y_c:double', 'min_dist:double', 'seg:int32', 'model_id:int64'),\n",
    "    input_map=dict(inputs=('x_c', 'y_c')),\n",
    "    output_map=dict(minDistanceOut='min_dist', labelOut='seg', modelIdOut='model_id')\n",
    ")\n",
    "proj.windows['w_score_kmeans'] = score\n",
    "proj"
   ]
  },
  {
   "cell_type": "markdown",
   "metadata": {},
   "source": [
    "### Make Connection Between Windows"
   ]
  },
  {
   "cell_type": "code",
   "execution_count": 13,
   "metadata": {
    "collapsed": false,
    "scrolled": true
   },
   "outputs": [
    {
     "data": {
      "image/svg+xml": [
       "<?xml version=\"1.0\" encoding=\"UTF-8\" standalone=\"no\"?>\n",
       "<!DOCTYPE svg PUBLIC \"-//W3C//DTD SVG 1.1//EN\"\n",
       " \"http://www.w3.org/Graphics/SVG/1.1/DTD/svg11.dtd\">\n",
       "<!-- Generated by graphviz version 2.30.1 (20150306.0020)\n",
       " -->\n",
       "<!-- Title: %3 Pages: 1 -->\n",
       "<svg width=\"530.0pt\" height=\"154.0pt\"\n",
       " viewBox=\"0.00 0.00 530.00 154.00\" xmlns=\"http://www.w3.org/2000/svg\" xmlns:xlink=\"http://www.w3.org/1999/xlink\">\n",
       "<g id=\"graph0\" class=\"graph\" transform=\"scale(1 1) rotate(0) translate(4 150)\">\n",
       "<title>%3</title>\n",
       "<polygon fill=\"white\" stroke=\"white\" points=\"-4,5 -4,-150 527,-150 527,5 -4,5\"/>\n",
       "<g id=\"clust1\" class=\"cluster\"><title>cluster_kmeans</title>\n",
       "<path fill=\"#dadada\" stroke=\"#c0c0c0\" stroke-width=\"2\" d=\"M20,-8C20,-8 502,-8 502,-8 508,-8 514,-14 514,-20 514,-20 514,-126 514,-126 514,-132 508,-138 502,-138 502,-138 20,-138 20,-138 14,-138 8,-132 8,-126 8,-126 8,-20 8,-20 8,-14 14,-8 20,-8\"/>\n",
       "<text text-anchor=\"middle\" x=\"40.5\" y=\"-122.8\" font-family=\"Helvetica,sans-Serif\" font-size=\"14.00\">kmeans</text>\n",
       "</g>\n",
       "<!-- kmeans.contquery.w_data -->\n",
       "<g id=\"node1\" class=\"node\"><title>kmeans.contquery.w_data</title>\n",
       "<polygon fill=\"#c8f0ff\" stroke=\"#58a0d3\" stroke-width=\"2\" points=\"96,-66.5 16,-66.5 16,-27.5 96,-27.5 96,-66.5\"/>\n",
       "<text text-anchor=\"middle\" x=\"56\" y=\"-43.3\" font-family=\"Helvetica,sans-Serif\" font-size=\"14.00\">w_data</text>\n",
       "</g>\n",
       "<!-- kmeans.contquery.w_score_kmeans -->\n",
       "<g id=\"node2\" class=\"node\"><title>kmeans.contquery.w_score_kmeans</title>\n",
       "<polygon fill=\"#c8f0ff\" stroke=\"#58a0d3\" stroke-width=\"2\" points=\"506,-73.5 364,-73.5 364,-34.5 506,-34.5 506,-73.5\"/>\n",
       "<text text-anchor=\"middle\" x=\"435\" y=\"-50.3\" font-family=\"Helvetica,sans-Serif\" font-size=\"14.00\">w_score_kmeans</text>\n",
       "</g>\n",
       "<!-- kmeans.contquery.w_data&#45;&gt;kmeans.contquery.w_score_kmeans -->\n",
       "<g id=\"edge1\" class=\"edge\"><title>kmeans.contquery.w_data&#45;&gt;kmeans.contquery.w_score_kmeans</title>\n",
       "<path fill=\"none\" stroke=\"black\" d=\"M96.3251,-45.5607C115.008,-44.9464 137.653,-44.3021 158,-44 218.438,-43.1026 233.594,-41.8454 294,-44 313.389,-44.6916 334.26,-45.9203 353.816,-47.2852\"/>\n",
       "<polygon fill=\"black\" stroke=\"black\" points=\"353.683,-50.7845 363.907,-48.0092 354.184,-43.8025 353.683,-50.7845\"/>\n",
       "<text text-anchor=\"middle\" x=\"226\" y=\"-47.8\" font-family=\"Times,serif\" font-style=\"italic\" font-size=\"14.00\">data</text>\n",
       "</g>\n",
       "<!-- kmeans.contquery.w_train_kmeans -->\n",
       "<g id=\"node3\" class=\"node\"><title>kmeans.contquery.w_train_kmeans</title>\n",
       "<polygon fill=\"#c8f0ff\" stroke=\"#58a0d3\" stroke-width=\"2\" points=\"294,-106.5 158,-106.5 158,-67.5 294,-67.5 294,-106.5\"/>\n",
       "<text text-anchor=\"middle\" x=\"226\" y=\"-83.3\" font-family=\"Helvetica,sans-Serif\" font-size=\"14.00\">w_train_kmeans</text>\n",
       "</g>\n",
       "<!-- kmeans.contquery.w_data&#45;&gt;kmeans.contquery.w_train_kmeans -->\n",
       "<g id=\"edge2\" class=\"edge\"><title>kmeans.contquery.w_data&#45;&gt;kmeans.contquery.w_train_kmeans</title>\n",
       "<path fill=\"none\" stroke=\"black\" d=\"M96.3885,-56.3782C111.854,-60.0606 130.163,-64.4197 148.042,-68.6768\"/>\n",
       "<polygon fill=\"black\" stroke=\"black\" points=\"147.372,-72.1149 157.911,-71.0264 148.993,-65.3053 147.372,-72.1149\"/>\n",
       "<text text-anchor=\"middle\" x=\"127\" y=\"-68.8\" font-family=\"Times,serif\" font-style=\"italic\" font-size=\"14.00\">data</text>\n",
       "</g>\n",
       "<!-- kmeans.contquery.w_train_kmeans&#45;&gt;kmeans.contquery.w_score_kmeans -->\n",
       "<g id=\"edge3\" class=\"edge\"><title>kmeans.contquery.w_train_kmeans&#45;&gt;kmeans.contquery.w_score_kmeans</title>\n",
       "<path fill=\"none\" stroke=\"black\" d=\"M294.207,-76.2858C313.294,-73.243 334.267,-69.8995 354.031,-66.7488\"/>\n",
       "<polygon fill=\"black\" stroke=\"black\" points=\"354.605,-70.2014 363.929,-65.1707 353.503,-63.2887 354.605,-70.2014\"/>\n",
       "<text text-anchor=\"middle\" x=\"329\" y=\"-75.8\" font-family=\"Times,serif\" font-style=\"italic\" font-size=\"14.00\">model</text>\n",
       "</g>\n",
       "</g>\n",
       "</svg>\n"
      ],
      "text/plain": [
       "Project(name='kmeans')"
      ]
     },
     "execution_count": 13,
     "metadata": {},
     "output_type": "execute_result"
    }
   ],
   "source": [
    "src.add_target(score, role='data')\n",
    "src.add_target(train, role='data')\n",
    "train.add_target(score, role='model')\n",
    "proj"
   ]
  },
  {
   "cell_type": "markdown",
   "metadata": {},
   "source": [
    "### Preview the Project's XML Definition"
   ]
  },
  {
   "cell_type": "code",
   "execution_count": 14,
   "metadata": {
    "collapsed": false
   },
   "outputs": [
    {
     "name": "stdout",
     "output_type": "stream",
     "text": [
      "<engine>\n",
      "  <projects>\n",
      "    <project name=\"kmeans\" pubsub=\"auto\" threads=\"1\">\n",
      "      <contqueries>\n",
      "        <contquery name=\"contquery\">\n",
      "          <windows>\n",
      "            <window-source index=\"pi_EMPTY\" insert-only=\"true\" name=\"w_data\">\n",
      "              <schema>\n",
      "                <fields>\n",
      "                  <field key=\"true\" name=\"id\" type=\"int64\" />\n",
      "                  <field key=\"false\" name=\"x_c\" type=\"double\" />\n",
      "                  <field key=\"false\" name=\"y_c\" type=\"double\" />\n",
      "                </fields>\n",
      "              </schema>\n",
      "            </window-source>\n",
      "            <window-score name=\"w_score_kmeans\">\n",
      "              <schema>\n",
      "                <fields>\n",
      "                  <field key=\"true\" name=\"id\" type=\"int64\" />\n",
      "                  <field key=\"false\" name=\"x_c\" type=\"double\" />\n",
      "                  <field key=\"false\" name=\"y_c\" type=\"double\" />\n",
      "                  <field key=\"false\" name=\"min_dist\" type=\"double\" />\n",
      "                  <field key=\"false\" name=\"seg\" type=\"int32\" />\n",
      "                  <field key=\"false\" name=\"model_id\" type=\"int64\" />\n",
      "                </fields>\n",
      "              </schema>\n",
      "              <models>\n",
      "                <online algorithm=\"KMEANS\">\n",
      "                  <input-map>\n",
      "                    <properties>\n",
      "                      <property name=\"inputs\">x_c,y_c</property>\n",
      "                    </properties>\n",
      "                  </input-map>\n",
      "                  <output-map>\n",
      "                    <properties>\n",
      "                      <property name=\"labelOut\">seg</property>\n",
      "                      <property name=\"minDistanceOut\">min_dist</property>\n",
      "                      <property name=\"modelIdOut\">model_id</property>\n",
      "                    </properties>\n",
      "                  </output-map>\n",
      "                </online>\n",
      "              </models>\n",
      "            </window-score>\n",
      "            <window-train algorithm=\"KMEANS\" name=\"w_train_kmeans\">\n",
      "              <parameters>\n",
      "                <properties>\n",
      "                  <property name=\"commitInterval\">25</property>\n",
      "                  <property name=\"dampingFactor\">0.8</property>\n",
      "                  <property name=\"disturbFactor\">0.01</property>\n",
      "                  <property name=\"fadeOutFactor\">0.05</property>\n",
      "                  <property name=\"initSeed\">1</property>\n",
      "                  <property name=\"nClusters\">2</property>\n",
      "                  <property name=\"nInit\">50</property>\n",
      "                  <property name=\"velocity\">5</property>\n",
      "                </properties>\n",
      "              </parameters>\n",
      "              <input-map>\n",
      "                <properties>\n",
      "                  <property name=\"inputs\">x_c,y_c</property>\n",
      "                </properties>\n",
      "              </input-map>\n",
      "            </window-train>\n",
      "          </windows>\n",
      "          <edges>\n",
      "            <edge role=\"data\" source=\"w_data\" target=\"w_score_kmeans\" />\n",
      "            <edge role=\"data\" source=\"w_data\" target=\"w_train_kmeans\" />\n",
      "            <edge role=\"model\" source=\"w_train_kmeans\" target=\"w_score_kmeans\" />\n",
      "          </edges>\n",
      "        </contquery>\n",
      "      </contqueries>\n",
      "    </project>\n",
      "  </projects>\n",
      "</engine>\n",
      "\n"
     ]
    }
   ],
   "source": [
    "print(proj.to_xml(pretty=True))"
   ]
  },
  {
   "cell_type": "markdown",
   "metadata": {},
   "source": [
    "### Display a Graph of the Project"
   ]
  },
  {
   "cell_type": "code",
   "execution_count": 15,
   "metadata": {
    "collapsed": false
   },
   "outputs": [
    {
     "data": {
      "image/svg+xml": [
       "<?xml version=\"1.0\" encoding=\"UTF-8\" standalone=\"no\"?>\n",
       "<!DOCTYPE svg PUBLIC \"-//W3C//DTD SVG 1.1//EN\"\n",
       " \"http://www.w3.org/Graphics/SVG/1.1/DTD/svg11.dtd\">\n",
       "<!-- Generated by graphviz version 2.30.1 (20150306.0020)\n",
       " -->\n",
       "<!-- Title: %3 Pages: 1 -->\n",
       "<svg width=\"564pt\" height=\"201pt\"\n",
       " viewBox=\"0.00 0.00 564.00 201.00\" xmlns=\"http://www.w3.org/2000/svg\" xmlns:xlink=\"http://www.w3.org/1999/xlink\">\n",
       "<g id=\"graph0\" class=\"graph\" transform=\"scale(1 1) rotate(0) translate(4 197)\">\n",
       "<title>%3</title>\n",
       "<polygon fill=\"white\" stroke=\"white\" points=\"-4,5 -4,-197 561,-197 561,5 -4,5\"/>\n",
       "<g id=\"clust1\" class=\"cluster\"><title>cluster_kmeans</title>\n",
       "<path fill=\"#dadada\" stroke=\"#c0c0c0\" stroke-width=\"2\" d=\"M20,-8C20,-8 536,-8 536,-8 542,-8 548,-14 548,-20 548,-20 548,-173 548,-173 548,-179 542,-185 536,-185 536,-185 20,-185 20,-185 14,-185 8,-179 8,-173 8,-173 8,-20 8,-20 8,-14 14,-8 20,-8\"/>\n",
       "<text text-anchor=\"middle\" x=\"40.5\" y=\"-169.8\" font-family=\"Helvetica,sans-Serif\" font-size=\"14.00\">kmeans</text>\n",
       "</g>\n",
       "<!-- kmeans.contquery.w_data -->\n",
       "<g id=\"node1\" class=\"node\"><title>kmeans.contquery.w_data</title>\n",
       "<polygon fill=\"#c8f0ff\" stroke=\"#58a0d3\" stroke-width=\"2\" points=\"126,-126.5 16,-126.5 16,-31.5 126,-31.5 126,-126.5\"/>\n",
       "<text text-anchor=\"start\" x=\"49\" y=\"-103.3\" font-family=\"Helvetica,sans-Serif\" font-size=\"14.00\">w_data</text>\n",
       "<text text-anchor=\"start\" x=\"69\" y=\"-88.8\" font-family=\"Helvetica,sans-Serif\" font-size=\"14.00\"> </text>\n",
       "<text text-anchor=\"start\" x=\"36\" y=\"-74.8\" font-family=\"Helvetica,sans-Serif\" font-size=\"14.00\">🔑</text>\n",
       "<text text-anchor=\"start\" x=\"54\" y=\"-74.8\" font-family=\"Helvetica,sans-Serif\" font-size=\"14.00\" fill=\"#c49810\">id : int64</text>\n",
       "<text text-anchor=\"start\" x=\"34.5\" y=\"-60.8\" font-family=\"Helvetica,sans-Serif\" font-size=\"14.00\" fill=\"#808080\">x_c : double</text>\n",
       "<text text-anchor=\"start\" x=\"34.5\" y=\"-46.8\" font-family=\"Helvetica,sans-Serif\" font-size=\"14.00\" fill=\"#808080\">y_c : double</text>\n",
       "</g>\n",
       "<!-- kmeans.contquery.w_score_kmeans -->\n",
       "<g id=\"node2\" class=\"node\"><title>kmeans.contquery.w_score_kmeans</title>\n",
       "<polygon fill=\"#c8f0ff\" stroke=\"#58a0d3\" stroke-width=\"2\" points=\"539.5,-153.5 396.5,-153.5 396.5,-16.5 539.5,-16.5 539.5,-153.5\"/>\n",
       "<text text-anchor=\"start\" x=\"415.5\" y=\"-130.3\" font-family=\"Helvetica,sans-Serif\" font-size=\"14.00\">w_score_kmeans</text>\n",
       "<text text-anchor=\"start\" x=\"466.5\" y=\"-115.8\" font-family=\"Helvetica,sans-Serif\" font-size=\"14.00\"> </text>\n",
       "<text text-anchor=\"start\" x=\"433.5\" y=\"-101.8\" font-family=\"Helvetica,sans-Serif\" font-size=\"14.00\">🔑</text>\n",
       "<text text-anchor=\"start\" x=\"451.5\" y=\"-101.8\" font-family=\"Helvetica,sans-Serif\" font-size=\"14.00\" fill=\"#c49810\">id : int64</text>\n",
       "<text text-anchor=\"start\" x=\"432\" y=\"-87.8\" font-family=\"Helvetica,sans-Serif\" font-size=\"14.00\" fill=\"#808080\">x_c : double</text>\n",
       "<text text-anchor=\"start\" x=\"432\" y=\"-73.8\" font-family=\"Helvetica,sans-Serif\" font-size=\"14.00\" fill=\"#808080\">y_c : double</text>\n",
       "<text text-anchor=\"start\" x=\"417\" y=\"-59.8\" font-family=\"Helvetica,sans-Serif\" font-size=\"14.00\" fill=\"#808080\">min_dist : double</text>\n",
       "<text text-anchor=\"start\" x=\"437\" y=\"-45.8\" font-family=\"Helvetica,sans-Serif\" font-size=\"14.00\" fill=\"#808080\">seg : int32</text>\n",
       "<text text-anchor=\"start\" x=\"420\" y=\"-31.8\" font-family=\"Helvetica,sans-Serif\" font-size=\"14.00\" fill=\"#808080\">model_id : int64</text>\n",
       "</g>\n",
       "<!-- kmeans.contquery.w_data&#45;&gt;kmeans.contquery.w_score_kmeans -->\n",
       "<g id=\"edge1\" class=\"edge\"><title>kmeans.contquery.w_data&#45;&gt;kmeans.contquery.w_score_kmeans</title>\n",
       "<path fill=\"none\" stroke=\"black\" d=\"M126.242,-73.918C145.7,-72.3262 167.816,-70.7818 188,-70 249.287,-67.626 264.753,-66.7513 326,-70 345.573,-71.0382 366.61,-72.8816 386.308,-74.9289\"/>\n",
       "<polygon fill=\"black\" stroke=\"black\" points=\"386.156,-78.4325 396.471,-76.0149 386.899,-71.4721 386.156,-78.4325\"/>\n",
       "<text text-anchor=\"middle\" x=\"257\" y=\"-73.8\" font-family=\"Times,serif\" font-style=\"italic\" font-size=\"14.00\">data</text>\n",
       "</g>\n",
       "<!-- kmeans.contquery.w_train_kmeans -->\n",
       "<g id=\"node3\" class=\"node\"><title>kmeans.contquery.w_train_kmeans</title>\n",
       "<polygon fill=\"#c8f0ff\" stroke=\"#58a0d3\" stroke-width=\"2\" points=\"325.5,-146.5 188.5,-146.5 188.5,-93.5 325.5,-93.5 325.5,-146.5\"/>\n",
       "<text text-anchor=\"start\" x=\"207.5\" y=\"-123.3\" font-family=\"Helvetica,sans-Serif\" font-size=\"14.00\">w_train_kmeans</text>\n",
       "<text text-anchor=\"start\" x=\"255.5\" y=\"-108.8\" font-family=\"Helvetica,sans-Serif\" font-size=\"14.00\"> </text>\n",
       "</g>\n",
       "<!-- kmeans.contquery.w_data&#45;&gt;kmeans.contquery.w_train_kmeans -->\n",
       "<g id=\"edge2\" class=\"edge\"><title>kmeans.contquery.w_data&#45;&gt;kmeans.contquery.w_train_kmeans</title>\n",
       "<path fill=\"none\" stroke=\"black\" d=\"M126.211,-91.0796C142.516,-94.7128 160.738,-98.7731 178.253,-102.676\"/>\n",
       "<polygon fill=\"black\" stroke=\"black\" points=\"177.943,-106.193 188.465,-104.951 179.465,-99.3602 177.943,-106.193\"/>\n",
       "<text text-anchor=\"middle\" x=\"157\" y=\"-103.8\" font-family=\"Times,serif\" font-style=\"italic\" font-size=\"14.00\">data</text>\n",
       "</g>\n",
       "<!-- kmeans.contquery.w_train_kmeans&#45;&gt;kmeans.contquery.w_score_kmeans -->\n",
       "<g id=\"edge3\" class=\"edge\"><title>kmeans.contquery.w_train_kmeans&#45;&gt;kmeans.contquery.w_score_kmeans</title>\n",
       "<path fill=\"none\" stroke=\"black\" d=\"M325.568,-108.685C344.952,-105.439 366.283,-101.866 386.371,-98.5025\"/>\n",
       "<polygon fill=\"black\" stroke=\"black\" points=\"387.145,-101.922 396.43,-96.8179 385.989,-95.0177 387.145,-101.922\"/>\n",
       "<text text-anchor=\"middle\" x=\"361\" y=\"-107.8\" font-family=\"Times,serif\" font-style=\"italic\" font-size=\"14.00\">model</text>\n",
       "</g>\n",
       "</g>\n",
       "</svg>\n"
      ],
      "text/plain": [
       "<graphviz.dot.Digraph at 0x7ff19827e7b8>"
      ]
     },
     "execution_count": 15,
     "metadata": {},
     "output_type": "execute_result"
    }
   ],
   "source": [
    "proj.to_graph(schema=True)"
   ]
  },
  {
   "cell_type": "markdown",
   "metadata": {},
   "source": [
    "## Load the Project into the Server"
   ]
  },
  {
   "cell_type": "code",
   "execution_count": 16,
   "metadata": {
    "collapsed": false
   },
   "outputs": [],
   "source": [
    "esp.load_project(proj);"
   ]
  },
  {
   "cell_type": "code",
   "execution_count": 17,
   "metadata": {
    "collapsed": false
   },
   "outputs": [
    {
     "data": {
      "text/plain": [
       "{'kmeans': Project(name='kmeans')}"
      ]
     },
     "execution_count": 17,
     "metadata": {},
     "output_type": "execute_result"
    }
   ],
   "source": [
    "esp.get_projects()"
   ]
  },
  {
   "cell_type": "markdown",
   "metadata": {},
   "source": [
    "### Publish Events to Source Window"
   ]
  },
  {
   "cell_type": "code",
   "execution_count": 18,
   "metadata": {
    "collapsed": false
   },
   "outputs": [
    {
     "name": "stdout",
     "output_type": "stream",
     "text": [
      "i,n,0,0.5908967210216602,1.6751986326790076\n",
      "i,n,1,19.043415721883388,18.371355627504236\n",
      "i,n,2,-0.012273367464207865,-0.4540492269435668\n",
      "i,n,3,17.97874517980503,21.65120582597203\n",
      "i,n,4,1.1659924204397523,-1.2409508065225885\n",
      "i,n,5,0.8546216190275081,-0.25882119862607184\n",
      "i,n,6,20.190217162336587,22.50997309914134\n",
      "i,n,7,-0.25895458090747875,1.4976085871983391\n",
      "i,n,8,22.29022654822051,16.914962015510373\n",
      "i,n,9,20.77677573497869,19.816778938696523\n"
     ]
    }
   ],
   "source": [
    "%%sh\n",
    "head basics.csv"
   ]
  },
  {
   "cell_type": "markdown",
   "metadata": {},
   "source": [
    "Use pandas to transform data before publishing it.  Notice that the DataFrame can contain additional columns, and columns out-of-order.  Only the columns in the DataFrame that match the columns in the window schema are uploaded."
   ]
  },
  {
   "cell_type": "code",
   "execution_count": 19,
   "metadata": {
    "collapsed": false
   },
   "outputs": [
    {
     "data": {
      "text/html": [
       "<div>\n",
       "<table border=\"1\" class=\"dataframe\">\n",
       "  <thead>\n",
       "    <tr style=\"text-align: right;\">\n",
       "      <th></th>\n",
       "      <th>y_c</th>\n",
       "      <th>extra</th>\n",
       "      <th>x_c</th>\n",
       "      <th>opcode</th>\n",
       "      <th>opmode</th>\n",
       "    </tr>\n",
       "    <tr>\n",
       "      <th>id</th>\n",
       "      <th></th>\n",
       "      <th></th>\n",
       "      <th></th>\n",
       "      <th></th>\n",
       "      <th></th>\n",
       "    </tr>\n",
       "  </thead>\n",
       "  <tbody>\n",
       "    <tr>\n",
       "      <th>0</th>\n",
       "      <td>1.675199</td>\n",
       "      <td>3.155449</td>\n",
       "      <td>0.590897</td>\n",
       "      <td>i</td>\n",
       "      <td>n</td>\n",
       "    </tr>\n",
       "    <tr>\n",
       "      <th>1</th>\n",
       "      <td>18.371356</td>\n",
       "      <td>700.158390</td>\n",
       "      <td>19.043416</td>\n",
       "      <td>i</td>\n",
       "      <td>n</td>\n",
       "    </tr>\n",
       "    <tr>\n",
       "      <th>2</th>\n",
       "      <td>-0.454049</td>\n",
       "      <td>0.206311</td>\n",
       "      <td>-0.012273</td>\n",
       "      <td>i</td>\n",
       "      <td>n</td>\n",
       "    </tr>\n",
       "    <tr>\n",
       "      <th>3</th>\n",
       "      <td>21.651206</td>\n",
       "      <td>792.009992</td>\n",
       "      <td>17.978745</td>\n",
       "      <td>i</td>\n",
       "      <td>n</td>\n",
       "    </tr>\n",
       "    <tr>\n",
       "      <th>4</th>\n",
       "      <td>-1.240951</td>\n",
       "      <td>2.899497</td>\n",
       "      <td>1.165992</td>\n",
       "      <td>i</td>\n",
       "      <td>n</td>\n",
       "    </tr>\n",
       "  </tbody>\n",
       "</table>\n",
       "</div>"
      ],
      "text/plain": [
       "          y_c       extra        x_c opcode opmode\n",
       "id                                                \n",
       "0    1.675199    3.155449   0.590897      i      n\n",
       "1   18.371356  700.158390  19.043416      i      n\n",
       "2   -0.454049    0.206311  -0.012273      i      n\n",
       "3   21.651206  792.009992  17.978745      i      n\n",
       "4   -1.240951    2.899497   1.165992      i      n"
      ]
     },
     "execution_count": 19,
     "metadata": {},
     "output_type": "execute_result"
    }
   ],
   "source": [
    "import pandas as pd\n",
    "\n",
    "df = pd.read_csv('basics.csv', header=None, names=['opcode', 'opmode', 'id', 'x_c', 'y_c'])\n",
    "\n",
    "df['extra'] = df['x_c']**2 + df['y_c']**2\n",
    "df = df[['id', 'y_c', 'extra', 'x_c', 'opcode', 'opmode']]\n",
    "df = df.set_index('id')\n",
    "\n",
    "df.head()"
   ]
  },
  {
   "cell_type": "code",
   "execution_count": 20,
   "metadata": {
    "collapsed": false
   },
   "outputs": [],
   "source": [
    "src.publish_events(df, pause=200)"
   ]
  },
  {
   "cell_type": "code",
   "execution_count": 21,
   "metadata": {
    "collapsed": false
   },
   "outputs": [],
   "source": [
    "src.subscribe()\n",
    "score.subscribe()"
   ]
  },
  {
   "cell_type": "code",
   "execution_count": 22,
   "metadata": {
    "collapsed": false
   },
   "outputs": [
    {
     "data": {
      "text/html": [
       "<div>\n",
       "<table border=\"1\" class=\"dataframe\">\n",
       "  <thead>\n",
       "    <tr style=\"text-align: right;\">\n",
       "      <th></th>\n",
       "      <th>x_c</th>\n",
       "      <th>y_c</th>\n",
       "    </tr>\n",
       "    <tr>\n",
       "      <th>id</th>\n",
       "      <th></th>\n",
       "      <th></th>\n",
       "    </tr>\n",
       "  </thead>\n",
       "  <tbody>\n",
       "    <tr>\n",
       "      <th>4</th>\n",
       "      <td>1.165992</td>\n",
       "      <td>-1.240951</td>\n",
       "    </tr>\n",
       "    <tr>\n",
       "      <th>5</th>\n",
       "      <td>0.854622</td>\n",
       "      <td>-0.258821</td>\n",
       "    </tr>\n",
       "    <tr>\n",
       "      <th>6</th>\n",
       "      <td>20.190217</td>\n",
       "      <td>22.509973</td>\n",
       "    </tr>\n",
       "    <tr>\n",
       "      <th>7</th>\n",
       "      <td>-0.258955</td>\n",
       "      <td>1.497609</td>\n",
       "    </tr>\n",
       "    <tr>\n",
       "      <th>8</th>\n",
       "      <td>22.290227</td>\n",
       "      <td>16.914962</td>\n",
       "    </tr>\n",
       "    <tr>\n",
       "      <th>9</th>\n",
       "      <td>20.776776</td>\n",
       "      <td>19.816779</td>\n",
       "    </tr>\n",
       "    <tr>\n",
       "      <th>10</th>\n",
       "      <td>20.325394</td>\n",
       "      <td>19.877868</td>\n",
       "    </tr>\n",
       "    <tr>\n",
       "      <th>11</th>\n",
       "      <td>17.925022</td>\n",
       "      <td>20.062600</td>\n",
       "    </tr>\n",
       "    <tr>\n",
       "      <th>12</th>\n",
       "      <td>-1.183328</td>\n",
       "      <td>0.720395</td>\n",
       "    </tr>\n",
       "  </tbody>\n",
       "</table>\n",
       "</div>"
      ],
      "text/plain": [
       "          x_c        y_c\n",
       "id                      \n",
       "4    1.165992  -1.240951\n",
       "5    0.854622  -0.258821\n",
       "6   20.190217  22.509973\n",
       "7   -0.258955   1.497609\n",
       "8   22.290227  16.914962\n",
       "9   20.776776  19.816779\n",
       "10  20.325394  19.877868\n",
       "11  17.925022  20.062600\n",
       "12  -1.183328   0.720395"
      ]
     },
     "execution_count": 22,
     "metadata": {},
     "output_type": "execute_result"
    }
   ],
   "source": [
    "src.tail(10)"
   ]
  },
  {
   "cell_type": "code",
   "execution_count": 27,
   "metadata": {
    "collapsed": false
   },
   "outputs": [
    {
     "data": {
      "text/html": [
       "<div>\n",
       "<table border=\"1\" class=\"dataframe\">\n",
       "  <thead>\n",
       "    <tr style=\"text-align: right;\">\n",
       "      <th></th>\n",
       "      <th>x_c</th>\n",
       "      <th>y_c</th>\n",
       "      <th>min_dist</th>\n",
       "      <th>seg</th>\n",
       "      <th>model_id</th>\n",
       "    </tr>\n",
       "    <tr>\n",
       "      <th>id</th>\n",
       "      <th></th>\n",
       "      <th></th>\n",
       "      <th></th>\n",
       "      <th></th>\n",
       "      <th></th>\n",
       "    </tr>\n",
       "  </thead>\n",
       "  <tbody>\n",
       "    <tr>\n",
       "      <th>66</th>\n",
       "      <td>20.441177</td>\n",
       "      <td>23.336311</td>\n",
       "      <td>13.688857</td>\n",
       "      <td>1</td>\n",
       "      <td>0</td>\n",
       "    </tr>\n",
       "    <tr>\n",
       "      <th>67</th>\n",
       "      <td>20.247112</td>\n",
       "      <td>21.950957</td>\n",
       "      <td>12.469037</td>\n",
       "      <td>1</td>\n",
       "      <td>0</td>\n",
       "    </tr>\n",
       "    <tr>\n",
       "      <th>68</th>\n",
       "      <td>-1.755390</td>\n",
       "      <td>-0.435286</td>\n",
       "      <td>10.250279</td>\n",
       "      <td>0</td>\n",
       "      <td>0</td>\n",
       "    </tr>\n",
       "    <tr>\n",
       "      <th>69</th>\n",
       "      <td>18.746671</td>\n",
       "      <td>20.435761</td>\n",
       "      <td>10.350252</td>\n",
       "      <td>1</td>\n",
       "      <td>0</td>\n",
       "    </tr>\n",
       "    <tr>\n",
       "      <th>70</th>\n",
       "      <td>19.973171</td>\n",
       "      <td>20.472298</td>\n",
       "      <td>11.168066</td>\n",
       "      <td>1</td>\n",
       "      <td>0</td>\n",
       "    </tr>\n",
       "    <tr>\n",
       "      <th>71</th>\n",
       "      <td>18.948372</td>\n",
       "      <td>21.494872</td>\n",
       "      <td>11.322848</td>\n",
       "      <td>1</td>\n",
       "      <td>0</td>\n",
       "    </tr>\n",
       "    <tr>\n",
       "      <th>72</th>\n",
       "      <td>20.775433</td>\n",
       "      <td>20.093768</td>\n",
       "      <td>11.462084</td>\n",
       "      <td>1</td>\n",
       "      <td>0</td>\n",
       "    </tr>\n",
       "    <tr>\n",
       "      <th>73</th>\n",
       "      <td>0.631942</td>\n",
       "      <td>1.590953</td>\n",
       "      <td>7.119088</td>\n",
       "      <td>0</td>\n",
       "      <td>0</td>\n",
       "    </tr>\n",
       "    <tr>\n",
       "      <th>74</th>\n",
       "      <td>21.130736</td>\n",
       "      <td>19.050049</td>\n",
       "      <td>11.050893</td>\n",
       "      <td>1</td>\n",
       "      <td>0</td>\n",
       "    </tr>\n",
       "    <tr>\n",
       "      <th>75</th>\n",
       "      <td>20.126781</td>\n",
       "      <td>17.562858</td>\n",
       "      <td>9.359776</td>\n",
       "      <td>1</td>\n",
       "      <td>0</td>\n",
       "    </tr>\n",
       "  </tbody>\n",
       "</table>\n",
       "</div>"
      ],
      "text/plain": [
       "          x_c        y_c   min_dist  seg  model_id\n",
       "id                                                \n",
       "66  20.441177  23.336311  13.688857    1         0\n",
       "67  20.247112  21.950957  12.469037    1         0\n",
       "68  -1.755390  -0.435286  10.250279    0         0\n",
       "69  18.746671  20.435761  10.350252    1         0\n",
       "70  19.973171  20.472298  11.168066    1         0\n",
       "71  18.948372  21.494872  11.322848    1         0\n",
       "72  20.775433  20.093768  11.462084    1         0\n",
       "73   0.631942   1.590953   7.119088    0         0\n",
       "74  21.130736  19.050049  11.050893    1         0\n",
       "75  20.126781  17.562858   9.359776    1         0"
      ]
     },
     "execution_count": 27,
     "metadata": {},
     "output_type": "execute_result"
    }
   ],
   "source": [
    "score.tail(10)"
   ]
  },
  {
   "cell_type": "markdown",
   "metadata": {},
   "source": [
    "## Plot the Streaming Data"
   ]
  },
  {
   "cell_type": "markdown",
   "metadata": {},
   "source": [
    "This function is used to generate the legend and colors for each of the `x_c` / `y_c` data points."
   ]
  },
  {
   "cell_type": "code",
   "execution_count": 28,
   "metadata": {
    "collapsed": true
   },
   "outputs": [],
   "source": [
    "class_map = dict(\n",
    "    seg=dict(\n",
    "        class_label={0: 'Class 1', 1: 'Class 2'},\n",
    "        class_color={0: '#68b0e3b2', 1: '#d37a2db2'},\n",
    "    )   \n",
    ")\n",
    "\n",
    "# Alternatively\n",
    "def class_map_func(event):\n",
    "    seg = event['seg']\n",
    "    return dict(\n",
    "        class_label=seg.map({0: 'Class 1', 1: 'Class 2'}),\n",
    "        class_color=seg.map({0: '#68b0e3b2', 1: '#d37a2db2'}),\n",
    "    )"
   ]
  },
  {
   "cell_type": "markdown",
   "metadata": {},
   "source": [
    "Start the streaming scatter plot."
   ]
  },
  {
   "cell_type": "code",
   "execution_count": 29,
   "metadata": {
    "collapsed": false
   },
   "outputs": [],
   "source": [
    "left_total = 0\n",
    "right_total = 0\n",
    "def map_left_right(event):\n",
    "    global left_total, right_total\n",
    "    out = dict(type=[], total=[])\n",
    "    for rec in event.to_records(index=False):\n",
    "        if r[0]:\n",
    "            left_total += 1\n",
    "            out['type'].append('left')\n",
    "            out['total'].append(left_total)\n",
    "        if r[1]:\n",
    "            right_total += 1\n",
    "            out['type'].append('right')\n",
    "            out['total'].append(right_total)\n",
    "    return"
   ]
  },
  {
   "cell_type": "code",
   "execution_count": 30,
   "metadata": {
    "collapsed": false
   },
   "outputs": [
    {
     "data": {
      "text/html": [
       "\n",
       "            <canvas id='chart_33ec76a4_4217_40b1_acb4_ba39dc070ef9_canvas'\n",
       "                    style='width: 900px; height: 400px'></canvas>\n",
       "\n",
       "            <style type=\"text/css\">\n",
       "            .stream-plot-controls {\n",
       "                border: 1px solid #e0e0e0;\n",
       "                border-radius: 5px;\n",
       "                padding: 8px;\n",
       "                display: inline-block;\n",
       "            }\n",
       "            .stream-plot-control {\n",
       "                color: #909090;\n",
       "                font-size: 150%;\n",
       "                margin-right: 1em;\n",
       "                margin-left: 1em;\n",
       "            }\n",
       "            .fa-play.stream-plot-control:not([class*='enabled']):not([class*='disabled']):hover {\n",
       "                text-shadow: 0px 0px 15px #00c000;\n",
       "                color: #00c000;\n",
       "            }\n",
       "            .fa-pause.stream-plot-control:not([class*='enabled']):not([class*='disabled']):hover {\n",
       "                text-shadow: 0px 0px 15px #fdeb61;\n",
       "                color: #d37a2d;\n",
       "            }\n",
       "            .fa-stop.stream-plot-control:not([class*='enabled']):not([class*='disabled']):hover {\n",
       "                text-shadow: 0px 0px 15px #ff0000;\n",
       "                color: #ff0000;\n",
       "            }\n",
       "            .fa-play.stream-plot-control.enabled { color: #00c000; }\n",
       "            .fa-pause.stream-plot-control.enabled { color: #d37a2d; }\n",
       "            .fa-stop.stream-plot-control.enabled { color: #ff0000; }\n",
       "            .stream-plot-control.disabled { color: #d0d0d0; }\n",
       "            </style>\n",
       "\n",
       "            <div id=\"streaming-plot-chart_33ec76a4_4217_40b1_acb4_ba39dc070ef9\"\n",
       "                 style=\"text-align: center; padding-top:10px; width: 900px\">\n",
       "            <div class=\"stream-plot-controls\" id=\"stream-plot-chart_33ec76a4_4217_40b1_acb4_ba39dc070ef9\">\n",
       "              <i class=\"fa fa-play enabled stream-plot-control\"\n",
       "                 title=\"Stream data into figure\" aria-hidden=\"true\"\n",
       "                 style=\"cursor:pointer\" id=\"chart_33ec76a4_4217_40b1_acb4_ba39dc070ef9-play\"></i>\n",
       "              <i class=\"fa fa-pause stream-plot-control\"\n",
       "                 title=\"Pause data updates\" aria-hidden=\"true\"\n",
       "                 style=\"cursor:pointer\" id=\"chart_33ec76a4_4217_40b1_acb4_ba39dc070ef9-pause\"></i>\n",
       "              <i class=\"fa fa-stop stream-plot-control\"\n",
       "                 title=\"Shutdown data stream\" aria-hidden=\"true\"\n",
       "                 style=\"cursor:pointer\" id=\"chart_33ec76a4_4217_40b1_acb4_ba39dc070ef9-stop\"></i>\n",
       "            </div>\n",
       "            </div>\n",
       "\n",
       "            <script language='javascript'>\n",
       "            <!--\n",
       "            requirejs.config({\n",
       "                paths: {\n",
       "                    Chart: ['//cdnjs.cloudflare.com/ajax/libs/Chart.js/2.7.0/Chart.min']\n",
       "                }\n",
       "            });\n",
       "\n",
       "            require(['jquery', 'Chart'], function($, Chart) {\n",
       "\n",
       "                var afterBuildTicks = function ( scale ) {\n",
       "                    return;\n",
       "                    scale.ticks.shift();\n",
       "                    scale.ticks.pop();\n",
       "                };\n",
       "\n",
       "                var generateLabels = function( chart ) {\n",
       "                    var data = chart.data;\n",
       "                    var labels = [];\n",
       "                    var ds_labels = [];\n",
       "                    var prev_key = '';\n",
       "\n",
       "                    if ( !Array.isArray(data.datasets) ) {\n",
       "                        return labels;\n",
       "                    }\n",
       "\n",
       "                    for ( var i=0; i < data.datasets.length; i++ ) {\n",
       "                        var dataset = data.datasets[i];\n",
       "                        var entry = {\n",
       "                            text: dataset.label,\n",
       "                            fillStyle: (!Array.isArray(dataset.backgroundColor) ?\n",
       "                                        dataset.backgroundColor :\n",
       "                                        dataset.backgroundColor[0]),\n",
       "                            hidden: !chart.isDatasetVisible(i),\n",
       "                            lineCap: dataset.borderCapStyle,\n",
       "                            lineDash: dataset.borderDash,\n",
       "                            lineDashOffset: dataset.borderDashOffset,\n",
       "                            lineJoin: dataset.borderJoinStyle,\n",
       "                            lineWidth: dataset.borderWidth,\n",
       "                            strokeStyle: dataset.borderColor,\n",
       "                            pointStyle: dataset.pointStyle,\n",
       "\n",
       "                            // Below is extra data used for toggling the datasets\n",
       "                            datasetIndex: i\n",
       "                        }\n",
       "\n",
       "                        if ( dataset._key && dataset._key.split('-')[0] === prev_key ) {\n",
       "                            ds_labels.push(entry);\n",
       "                        }\n",
       "                        else {\n",
       "                            ds_labels.sort(function(a, b) {\n",
       "                                if ( a.text < b.text ) return -1;\n",
       "                                if ( a.text > b.text ) return 1;\n",
       "                                return 0;\n",
       "                            });\n",
       "                            for ( var j=0; j < ds_labels.length; j++ ) {\n",
       "                                labels.push(ds_labels[j]);\n",
       "                            }\n",
       "                            prev_key = dataset._key.split('-')[0];\n",
       "                            ds_labels = [entry];\n",
       "                        }\n",
       "                    }\n",
       "\n",
       "                    ds_labels.sort(function(a, b) {\n",
       "                        if ( a.text < b.text ) return -1;\n",
       "                        if ( a.text > b.text ) return 1;\n",
       "                        return 0;\n",
       "                    });\n",
       "                    for ( var j=0; j < ds_labels.length; j++ ) {\n",
       "                        labels.push(ds_labels[j]);\n",
       "                    }\n",
       "\n",
       "                    return labels;\n",
       "                };\n",
       "\n",
       "                var auto_colors = function ( data ) {\n",
       "                    var ctx = document.getElementById('chart_33ec76a4_4217_40b1_acb4_ba39dc070ef9_canvas').getContext('2d');\n",
       "                    var datasets = data.datasets;\n",
       "                    var Color = Chart.helpers.color;\n",
       "                    if ( !data.datasets || data.datasets.length == 0 ) {\n",
       "                        return data;\n",
       "                    }\n",
       "                    for ( var i=0; i < datasets.length; i++ ) {\n",
       "                        var ds = datasets[i];\n",
       "                        if ( ds.backgroundColor ) {\n",
       "                            if ( Array.isArray(ds.backgroundColor) ) {\n",
       "                                for ( var j=0; j < ds.backgroundColor.length; j++ ) {\n",
       "                                    var bgcolor = ds.backgroundColor[j];\n",
       "                                    if ( bgcolor.match(/^\\s*auto\\s*\\(.+\\)\\s*$/) ) {\n",
       "                                        bgcolor = bgcolor.replace(/^\\s*auto\\s*\\(\\s*(.+)\\s*\\)\\s*$/, '$1');\n",
       "                                        ds.backgroundColor[j] = Color(bgcolor).clearer(0.6).rgbString();\n",
       "                                    }\n",
       "                                    else if ( bgcolor.match(/^\\s*url\\s*\\(.+\\)\\s*$/) ) {\n",
       "                                        var img = new Image();\n",
       "                                        img.src = bgcolor.replace(/^\\s*url\\s*\\(\\s*(.+)\\s*\\)\\s*$/, '$1');\n",
       "                                        img.onload = function () {\n",
       "                                            ds.backgroundColor[j] = ctx.createPattern(img, 'repeat');\n",
       "                                        };\n",
       "                                    }\n",
       "                                }\n",
       "                            }\n",
       "                            else if ( ds.backgroundColor.match(/^\\s*auto\\s*\\(.+\\)\\s*$/) ) {\n",
       "                                var bgcolor = ds.backgroundColor.replace(/^\\s*auto\\s*\\(\\s*(.+)\\s*\\)\\s*$/, '$1');\n",
       "                                ds.backgroundColor = Color(bgcolor).clearer(0.6).rgbString();\n",
       "                            }\n",
       "                            else if ( ds.backgroundColor.match(/^\\s*url\\s*\\(.+\\)\\s*$/) ) {\n",
       "                                var img = new Image();\n",
       "                                img.src = ds.backgroundColor.replace(/^\\s*url\\s*\\(\\s*(.+)\\s*\\)\\s*$/, '$1');\n",
       "                                img.onload = function () {\n",
       "                                    ds.backgroundColor = ctx.createPattern(img, 'repeat');\n",
       "                                };\n",
       "                            }\n",
       "                        }\n",
       "                        if ( ds.borderColor ) {\n",
       "                            if ( Array.isArray(ds.borderColor) ) {\n",
       "                                for ( var j=0; j < ds.borderColor.length; j++ ) {\n",
       "                                    var fgcolor = ds.borderColor[j];\n",
       "                                    if ( fgcolor.match(/^\\s*auto\\s*\\(.+\\)\\s*$/) ) {\n",
       "                                        fgcolor = fg.replace(/^\\s*auto\\s*\\(\\s*(.*)\\s*\\)\\s*$/, '$1');\n",
       "                                        ds.borderColor[j] = Color(fgcolor).opaquer(1).rgbString();\n",
       "                                    }\n",
       "                                }\n",
       "                            } else if ( ds.borderColor.match(/^\\s*auto\\s*\\(.+\\)\\s*$/) ) {\n",
       "                                var fgcolor = ds.borderColor.replace(/^\\s*auto\\s*\\(\\s*(.*)\\s*\\)\\s*$/, '$1');\n",
       "                                ds.borderColor = Color(fgcolor).opaquer(1).rgbString();\n",
       "                            }\n",
       "                        }\n",
       "                    }\n",
       "                    return data;\n",
       "                };\n",
       "\n",
       "                var max_data = 35;\n",
       "                var ctx = document.getElementById('chart_33ec76a4_4217_40b1_acb4_ba39dc070ef9_canvas').getContext('2d');\n",
       "                var chart = new Chart(ctx, {\n",
       "                    type: 'scatter',\n",
       "                    data: auto_colors({\"datasets\": [{\"backgroundColor\": \"#68b0e3b2\", \"type\": \"scatter\", \"data\": [{\"y\": 1.037675, \"x\": 1.758955}, {\"y\": -1.16577, \"x\": -0.399935}, {\"y\": 1.257459, \"x\": -0.227882}, {\"y\": -4.328505, \"x\": -8.32139}, {\"y\": -0.080691, \"x\": 0.339488}, {\"y\": -1.119334, \"x\": 1.495719}, null, null, {\"y\": 0.684714, \"x\": 0.346646}, {\"y\": 4.790127, \"x\": 11.227181}, {\"y\": -0.12631, \"x\": 1.630317}, null, null, {\"y\": -0.435286, \"x\": -1.75539}, null, null, null, null, {\"y\": 1.590953, \"x\": 0.631942}, null, null, null, {\"y\": -0.39144, \"x\": -0.386941}, null, null, null, null, {\"y\": -0.940781, \"x\": -0.626728}, {\"y\": 1.390897, \"x\": 0.250863}, {\"y\": -2.557951, \"x\": 0.881886}, {\"y\": 0.13869, \"x\": -2.063942}, {\"y\": -1.031599, \"x\": 1.084529}, {\"y\": 2.179346, \"x\": -3.390583}, null, {\"y\": 2.276549, \"x\": -0.377823}], \"label\": \"Class 1\", \"_y\": \"y_c\", \"_radius\": null, \"_x\": \"x_c\", \"borderColor\": \"#68b0e3b2\", \"_key\": \"ds00-Class 1\", \"showLine\": false, \"pointRadius\": 15}, {\"backgroundColor\": \"#d37a2db2\", \"type\": \"scatter\", \"data\": [null, null, null, null, null, null, {\"y\": 20.566994, \"x\": 20.302691}, {\"y\": 20.823834, \"x\": 21.258914}, null, null, null, {\"y\": 23.336311, \"x\": 20.441177}, {\"y\": 21.950957, \"x\": 20.247112}, null, {\"y\": 20.435761, \"x\": 18.746671}, {\"y\": 20.472298, \"x\": 19.973171}, {\"y\": 21.494872, \"x\": 18.948372}, {\"y\": 20.093768, \"x\": 20.775433}, null, {\"y\": 19.050049, \"x\": 21.130736}, {\"y\": 17.562858, \"x\": 20.126781}, {\"y\": 18.696442, \"x\": 20.729814}, null, {\"y\": 20.385942, \"x\": 17.789819}, {\"y\": 20.518005, \"x\": 21.076541}, {\"y\": 18.889166, \"x\": 22.391179}, {\"y\": 15.616318, \"x\": 20.425873}, null, null, null, null, null, null, {\"y\": 28.591861, \"x\": 14.239534}, null], \"label\": \"Class 2\", \"_y\": \"y_c\", \"_radius\": null, \"_x\": \"x_c\", \"borderColor\": \"#d37a2db2\", \"_key\": \"ds00-Class 2\", \"showLine\": false, \"pointRadius\": 15}], \"labels\": [1.758955, -0.399935, -0.227882, -8.32139, 0.339488, 1.495719, 20.302691, 21.258914, 0.346646, 11.227181, 1.630317, 20.441177, 20.247112, -1.75539, 18.746671, 19.973171, 18.948372, 20.775433, 0.631942, 21.130736, 20.126781, 20.729814, -0.386941, 17.789819, 21.076541, 22.391179, 20.425873, -0.626728, 0.250863, 0.881886, -2.063942, 1.084529, -3.390583, 14.239534, -0.377823], \"displayed_labels\": null}),\n",
       "                    options: {\"responsive\": true, \"title\": {\"display\": false, \"text\": \"\"}, \"legend\": {\"labels\": {\"usePointStyle\": true}, \"position\": \"right\", \"display\": true}, \"scales\": {\"yAxes\": [{\"ticks\": {\"min\": -15, \"max\": 30}, \"scaleLabel\": {\"labelString\": \"Y\"}}], \"xAxes\": [{\"ticks\": {\"min\": -15, \"max\": 30}, \"scaleLabel\": {\"labelString\": \"X\"}}]}}\n",
       "                });\n",
       "\n",
       "                var set_display_labels = function (value, index, values) {\n",
       "                    if ( chart.data.displayed_labels && chart.data.displayed_labels[index] ) {\n",
       "                        return chart.data.displayed_labels[index];\n",
       "                    }\n",
       "                    return value;\n",
       "                };\n",
       "\n",
       "                if ( chart.options.scales && chart.options.scales.xAxes ) {\n",
       "                    chart.options.scales.xAxes[0].ticks.callback = set_display_labels;\n",
       "                }\n",
       "\n",
       "/*\n",
       "                var dynamic_x_axis = false;\n",
       "                if ( chart.config.type === 'line' || chart.config.type === 'area' ||\n",
       "                     chart.config.type === 'scatter' || chart.config.type === 'bubble' ) {\n",
       "                    if ( chart.options.scales.xAxes[0].ticks.min == null &&\n",
       "                         chart.options.scales.xAxes[0].ticks.max == null ) {\n",
       "                        dynamic_x_axis = true;\n",
       "                    }\n",
       "                }\n",
       "\n",
       "                if ( dynamic_x_axis && chart.options.scales && chart.options.scales.xAxes ) {\n",
       "                    chart.options.scales.xAxes[0].afterBuildTicks = afterBuildTicks;\n",
       "                }\n",
       "*/\n",
       "\n",
       "                var rotate_linear = function (labels, values, new_values) {\n",
       "                    Array.prototype.push.apply(values, new_values);\n",
       "                    while ( values.length > max_data ) {\n",
       "                        values.shift();\n",
       "                    }\n",
       "                    while ( values.length < labels.length ) {\n",
       "                        values.unshift(null);\n",
       "                    }\n",
       "                }\n",
       "\n",
       "                var rotate_category = function (labels, new_labels, values, new_values) {\n",
       "                    var idx;\n",
       "\n",
       "                    if ( !new_labels || new_labels.length == 0 ) return;\n",
       "                    if ( !new_values || new_values.length == 0 ) return;\n",
       "\n",
       "                    for ( var i=0; i < new_labels.length; i++ ) {\n",
       "                        idx = labels.indexOf(new_labels[i]);\n",
       "                        if ( idx === -1 ) {\n",
       "                            labels.push(new_labels[i]);\n",
       "                            values.push(new_values[i]);\n",
       "                        } else {\n",
       "                            values[idx] = new_values[i];\n",
       "                        }\n",
       "                    }\n",
       "\n",
       "                    while ( values.length > max_data ) {\n",
       "                        values.shift();\n",
       "                    }\n",
       "\n",
       "                    while ( values.length < labels.length ) {\n",
       "                        values.unshift(null);\n",
       "                    }\n",
       "                }\n",
       "\n",
       "                var comm = Jupyter.notebook.kernel.comm_manager.new_comm('chart_33ec76a4_4217_40b1_acb4_ba39dc070ef9')\n",
       "\n",
       "                comm.on_msg(function(msg) {\n",
       "                    var data = auto_colors(msg.content.data);\n",
       "                    var key = null;\n",
       "                    var old_datasets = {};\n",
       "                    var new_datasets = {};\n",
       "                    var updated_datasets = {};\n",
       "\n",
       "                    if ( data.labels && data.datasets &&\n",
       "                         data.labels.length > 0 && data.datasets.length > 0 ) {\n",
       "\n",
       "                        // Categorize updatable and new datasets\n",
       "                        for ( var i=0; i < chart.data.datasets.length; i++ ) {\n",
       "                            old_datasets[chart.data.datasets[i]._key] = chart.data.datasets[i];\n",
       "                        }\n",
       "                        for ( var i=0; i < data.datasets.length; i++ ) {\n",
       "                            if ( old_datasets[data.datasets[i]._key] == null ) {\n",
       "                                new_datasets[data.datasets[i]._key] = data.datasets[i];\n",
       "                            } else {\n",
       "                                updated_datasets[data.datasets[i]._key] = data.datasets[i];\n",
       "                            }\n",
       "                        }\n",
       "\n",
       "                        if ( chart.config.type == 'doughnut' ||\n",
       "                             chart.config.type == 'pie' ||\n",
       "                             chart.config.type == 'bar' ||\n",
       "                             chart.config.type == 'horizontalBar' ) {\n",
       "\n",
       "                            // Update existing datasets\n",
       "                            for ( key in updated_datasets ) {\n",
       "                                rotate_category( chart.data.labels,\n",
       "                                                   data.labels,\n",
       "                                                   old_datasets[key].data,\n",
       "                                                   updated_datasets[key].data );\n",
       "                            }\n",
       "\n",
       "                            // Add new datasets\n",
       "                            for ( key in new_datasets ) {\n",
       "                                chart.data.datasets.push(new_datasets[key]);\n",
       "                                rotate_category( chart.data.labels,\n",
       "                                                   data.labels,\n",
       "                                                   new_datasets[key].data,\n",
       "                                                   new_datasets[key].data );\n",
       "                            }\n",
       "\n",
       "                            chart.data.displayed_labels = data.displayed_labels;\n",
       "\n",
       "                        } else {\n",
       "\n",
       "                            // Rotate labels\n",
       "                            Array.prototype.push.apply(chart.data.labels, data.labels);\n",
       "                            while ( chart.data.labels.length > max_data ) {\n",
       "                                chart.data.labels.shift();\n",
       "                            }\n",
       "\n",
       "                            // Update existing datasets\n",
       "                            for ( key in updated_datasets ) {\n",
       "                                rotate_linear( chart.data.labels,\n",
       "                                               old_datasets[key].data,\n",
       "                                               updated_datasets[key].data );\n",
       "                            }\n",
       "\n",
       "                            // Add new datasets\n",
       "                            for ( key in new_datasets ) {\n",
       "                                chart.data.datasets.push(new_datasets[key]);\n",
       "                                rotate_linear( chart.data.labels,\n",
       "                                               new_datasets[key].data,\n",
       "                                               [] );\n",
       "                            }\n",
       "\n",
       "                            // Shift stale datasets\n",
       "                            var nulls = [];\n",
       "                            for ( key in old_datasets ) {\n",
       "                                if ( updated_datasets[key] == null ) {\n",
       "                                    if ( nulls.length == 0 ) {\n",
       "                                        for ( var i=0; i < data.labels.length; i++ ) {\n",
       "                                            nulls.push(null);\n",
       "                                        }\n",
       "                                    }\n",
       "                                    rotate_linear( chart.data.labels,\n",
       "                                                   old_datasets[key].data,\n",
       "                                                   nulls );\n",
       "                                }\n",
       "                            }\n",
       "\n",
       "                            // Reset x-axis limits\n",
       "/*\n",
       "                            if ( dynamic_x_axis && chart.options.scales && chart.options.scales.xAxes ) {\n",
       "                                chart.options.scales.xAxes[0].ticks.min = chart.data.labels[Math.max(Math.min(chart.data.labels.length-1, 2), 0)];\n",
       "                                chart.options.scales.xAxes[0].ticks.max = chart.data.labels[Math.max(chart.data.labels.length-1, 0)];\n",
       "                            }\n",
       "*/\n",
       "                        }\n",
       "\n",
       "                        if ( chart.config.type == 'line' ) {\n",
       "                            chart.update(0);\n",
       "                        } else {\n",
       "                            chart.update(200 * 2);\n",
       "                        }\n",
       "                    }\n",
       "\n",
       "                    if ( data.command ) {\n",
       "                        if ( data.command == 'stop' ) {\n",
       "                            $('#chart_33ec76a4_4217_40b1_acb4_ba39dc070ef9-play, #chart_33ec76a4_4217_40b1_acb4_ba39dc070ef9-pause, #chart_33ec76a4_4217_40b1_acb4_ba39dc070ef9-stop')\n",
       "                                .removeClass('enabled')\n",
       "                                .addClass('disabled')\n",
       "                                .css('cursor', 'default');\n",
       "                            $('#streaming-plot-chart_33ec76a4_4217_40b1_acb4_ba39dc070ef9').hide().remove();\n",
       "                        }\n",
       "                    }\n",
       "\n",
       "                    // If plot doesn't exist anymore, stop data\n",
       "                    if ( $('#streaming-plot-chart_33ec76a4_4217_40b1_acb4_ba39dc070ef9').length == 0 ) {\n",
       "                        comm.send({'command': 'stop'});\n",
       "                    }\n",
       "                });\n",
       "\n",
       "                comm.on_close(function() {\n",
       "                    comm.send({'command': 'stop'});\n",
       "                });\n",
       "\n",
       "                // Send message when plot is removed\n",
       "                $.event.special.destroyed = {\n",
       "                    remove: function(o) {\n",
       "                      if (o.handler) {\n",
       "                        o.handler()\n",
       "                      }\n",
       "                    }\n",
       "                }\n",
       "                $('#streaming-plot-chart_33ec76a4_4217_40b1_acb4_ba39dc070ef9').bind('destroyed', function() {\n",
       "                    comm.send({'command': 'stop'});\n",
       "                });\n",
       "\n",
       "                var blink = function () {\n",
       "                  $('#chart_33ec76a4_4217_40b1_acb4_ba39dc070ef9-pause.enabled').fadeOut(900).fadeIn(900, blink);\n",
       "                }\n",
       "\n",
       "                $('#chart_33ec76a4_4217_40b1_acb4_ba39dc070ef9-play').click(function() {\n",
       "                  if ( $('#chart_33ec76a4_4217_40b1_acb4_ba39dc070ef9-play').hasClass('disabled') ) return;\n",
       "                  if ( $('#chart_33ec76a4_4217_40b1_acb4_ba39dc070ef9-play').hasClass('enabled') ) return;\n",
       "                  $('#chart_33ec76a4_4217_40b1_acb4_ba39dc070ef9-pause').removeClass('enabled');\n",
       "                  $('#chart_33ec76a4_4217_40b1_acb4_ba39dc070ef9-play').addClass('enabled');\n",
       "                  comm.send({'command': 'play'});\n",
       "                });\n",
       "\n",
       "                $('#chart_33ec76a4_4217_40b1_acb4_ba39dc070ef9-pause').click(function() {\n",
       "                  if ( $('#chart_33ec76a4_4217_40b1_acb4_ba39dc070ef9-pause').hasClass('disabled') ) return;\n",
       "                  if ( $('#chart_33ec76a4_4217_40b1_acb4_ba39dc070ef9-pause').hasClass('enabled') ) {\n",
       "                    $('#chart_33ec76a4_4217_40b1_acb4_ba39dc070ef9-play').click();\n",
       "                    return;\n",
       "                  }\n",
       "                  $('#chart_33ec76a4_4217_40b1_acb4_ba39dc070ef9-play').removeClass('enabled');\n",
       "                  $('#chart_33ec76a4_4217_40b1_acb4_ba39dc070ef9-pause').addClass('enabled');\n",
       "                  comm.send({'command': 'pause'});\n",
       "                  blink();\n",
       "                });\n",
       "\n",
       "                $('#chart_33ec76a4_4217_40b1_acb4_ba39dc070ef9-stop').click(function() {\n",
       "                  if ( $('#chart_33ec76a4_4217_40b1_acb4_ba39dc070ef9-stop').hasClass('disabled') ) return;\n",
       "                    $('#chart_33ec76a4_4217_40b1_acb4_ba39dc070ef9-play, #chart_33ec76a4_4217_40b1_acb4_ba39dc070ef9-pause, #chart_33ec76a4_4217_40b1_acb4_ba39dc070ef9-stop')\n",
       "                    .removeClass('enabled')\n",
       "                    .addClass('disabled')\n",
       "                    .css('cursor', 'default');\n",
       "                  comm.send({'command': 'stop'});\n",
       "                  $('#streaming-plot-chart_33ec76a4_4217_40b1_acb4_ba39dc070ef9').hide().remove();\n",
       "                });\n",
       "\n",
       "            });\n",
       "            //-->\n",
       "            </script>\n",
       "        "
      ],
      "text/plain": [
       "<esppy.plotting.StreamingChart at 0x7ff1981d6be0>"
      ]
     },
     "execution_count": 30,
     "metadata": {},
     "output_type": "execute_result"
    }
   ],
   "source": [
    "score.streaming_scatter('x_c', 'y_c', var_generator=class_map_func,\n",
    "                        label='var(class_label)', fill_color='var(class_color)',\n",
    "                        color='var(class_color)', point_radius=15,\n",
    "                        y_range=(-15,30), x_range=(-15,30), \n",
    "                        max_data=35, steps=1000, interval=200,\n",
    "                        x_axis_label='X', y_axis_label='Y')"
   ]
  },
  {
   "cell_type": "markdown",
   "metadata": {
    "collapsed": true
   },
   "source": [
    "## Client-side Transformers"
   ]
  },
  {
   "cell_type": "markdown",
   "metadata": {},
   "source": [
    "Transformers can be any DataFrame operation."
   ]
  },
  {
   "cell_type": "code",
   "execution_count": 31,
   "metadata": {
    "collapsed": true
   },
   "outputs": [],
   "source": [
    "score.add_event_transformer('abs')\n",
    "score.add_event_transformer('clip', upper=20)"
   ]
  },
  {
   "cell_type": "markdown",
   "metadata": {},
   "source": [
    "Or, they can be functions that can do any arbitrary operation."
   ]
  },
  {
   "cell_type": "code",
   "execution_count": 32,
   "metadata": {
    "collapsed": true
   },
   "outputs": [],
   "source": [
    "def dist_group(event):\n",
    "    event['dist_group'] = event['min_dist'] > 10\n",
    "    return event\n",
    "\n",
    "score.add_event_transformer(dist_group)"
   ]
  },
  {
   "cell_type": "code",
   "execution_count": 33,
   "metadata": {
    "collapsed": false
   },
   "outputs": [
    {
     "data": {
      "text/html": [
       "<div>\n",
       "<table border=\"1\" class=\"dataframe\">\n",
       "  <thead>\n",
       "    <tr style=\"text-align: right;\">\n",
       "      <th></th>\n",
       "      <th>x_c</th>\n",
       "      <th>y_c</th>\n",
       "      <th>min_dist</th>\n",
       "      <th>seg</th>\n",
       "      <th>model_id</th>\n",
       "      <th>dist_group</th>\n",
       "    </tr>\n",
       "    <tr>\n",
       "      <th>id</th>\n",
       "      <th></th>\n",
       "      <th></th>\n",
       "      <th></th>\n",
       "      <th></th>\n",
       "      <th></th>\n",
       "      <th></th>\n",
       "    </tr>\n",
       "  </thead>\n",
       "  <tbody>\n",
       "    <tr>\n",
       "      <th>50</th>\n",
       "      <td>20.000000</td>\n",
       "      <td>20.000000</td>\n",
       "      <td>11.498755</td>\n",
       "      <td>1.0</td>\n",
       "      <td>0.0</td>\n",
       "      <td>True</td>\n",
       "    </tr>\n",
       "    <tr>\n",
       "      <th>51</th>\n",
       "      <td>1.218502</td>\n",
       "      <td>2.952991</td>\n",
       "      <td>11.705346</td>\n",
       "      <td>0.0</td>\n",
       "      <td>0.0</td>\n",
       "      <td>True</td>\n",
       "    </tr>\n",
       "    <tr>\n",
       "      <th>52</th>\n",
       "      <td>1.254811</td>\n",
       "      <td>0.259024</td>\n",
       "      <td>7.651725</td>\n",
       "      <td>0.0</td>\n",
       "      <td>0.0</td>\n",
       "      <td>False</td>\n",
       "    </tr>\n",
       "    <tr>\n",
       "      <th>53</th>\n",
       "      <td>1.799438</td>\n",
       "      <td>2.049997</td>\n",
       "      <td>9.309078</td>\n",
       "      <td>0.0</td>\n",
       "      <td>0.0</td>\n",
       "      <td>False</td>\n",
       "    </tr>\n",
       "    <tr>\n",
       "      <th>54</th>\n",
       "      <td>20.000000</td>\n",
       "      <td>20.000000</td>\n",
       "      <td>13.106119</td>\n",
       "      <td>1.0</td>\n",
       "      <td>0.0</td>\n",
       "      <td>True</td>\n",
       "    </tr>\n",
       "    <tr>\n",
       "      <th>55</th>\n",
       "      <td>1.758955</td>\n",
       "      <td>1.037675</td>\n",
       "      <td>6.729057</td>\n",
       "      <td>0.0</td>\n",
       "      <td>0.0</td>\n",
       "      <td>False</td>\n",
       "    </tr>\n",
       "    <tr>\n",
       "      <th>56</th>\n",
       "      <td>0.399935</td>\n",
       "      <td>1.165770</td>\n",
       "      <td>9.805200</td>\n",
       "      <td>0.0</td>\n",
       "      <td>0.0</td>\n",
       "      <td>False</td>\n",
       "    </tr>\n",
       "    <tr>\n",
       "      <th>57</th>\n",
       "      <td>0.227882</td>\n",
       "      <td>1.257459</td>\n",
       "      <td>7.993497</td>\n",
       "      <td>0.0</td>\n",
       "      <td>0.0</td>\n",
       "      <td>False</td>\n",
       "    </tr>\n",
       "    <tr>\n",
       "      <th>58</th>\n",
       "      <td>8.321390</td>\n",
       "      <td>4.328505</td>\n",
       "      <td>17.816560</td>\n",
       "      <td>0.0</td>\n",
       "      <td>0.0</td>\n",
       "      <td>True</td>\n",
       "    </tr>\n",
       "    <tr>\n",
       "      <th>59</th>\n",
       "      <td>0.339488</td>\n",
       "      <td>0.080691</td>\n",
       "      <td>8.502137</td>\n",
       "      <td>0.0</td>\n",
       "      <td>0.0</td>\n",
       "      <td>False</td>\n",
       "    </tr>\n",
       "  </tbody>\n",
       "</table>\n",
       "</div>"
      ],
      "text/plain": [
       "          x_c        y_c   min_dist  seg  model_id dist_group\n",
       "id                                                           \n",
       "50  20.000000  20.000000  11.498755  1.0       0.0       True\n",
       "51   1.218502   2.952991  11.705346  0.0       0.0       True\n",
       "52   1.254811   0.259024   7.651725  0.0       0.0      False\n",
       "53   1.799438   2.049997   9.309078  0.0       0.0      False\n",
       "54  20.000000  20.000000  13.106119  1.0       0.0       True\n",
       "55   1.758955   1.037675   6.729057  0.0       0.0      False\n",
       "56   0.399935   1.165770   9.805200  0.0       0.0      False\n",
       "57   0.227882   1.257459   7.993497  0.0       0.0      False\n",
       "58   8.321390   4.328505  17.816560  0.0       0.0       True\n",
       "59   0.339488   0.080691   8.502137  0.0       0.0      False"
      ]
     },
     "execution_count": 33,
     "metadata": {},
     "output_type": "execute_result"
    }
   ],
   "source": [
    "score.head(10)"
   ]
  },
  {
   "cell_type": "code",
   "execution_count": null,
   "metadata": {
    "collapsed": true
   },
   "outputs": [],
   "source": []
  },
  {
   "cell_type": "code",
   "execution_count": null,
   "metadata": {
    "collapsed": true
   },
   "outputs": [],
   "source": []
  }
 ],
 "metadata": {
  "kernelspec": {
   "display_name": "Python 3",
   "language": "python",
   "name": "python3"
  },
  "language_info": {
   "codemirror_mode": {
    "name": "ipython",
    "version": 3
   },
   "file_extension": ".py",
   "mimetype": "text/x-python",
   "name": "python",
   "nbconvert_exporter": "python",
   "pygments_lexer": "ipython3",
   "version": "3.4.5"
  }
 },
 "nbformat": 4,
 "nbformat_minor": 0
}
