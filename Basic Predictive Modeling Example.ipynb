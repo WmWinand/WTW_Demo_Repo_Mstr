{
 "cells": [
  {
   "cell_type": "markdown",
   "metadata": {},
   "source": [
    "# Overview\n",
    "This is a simple end to end example of how you can use SAS Viya for analysis\n",
    "The example follows these steps:\n",
    "1. Importing the needed Python packages\n",
    "1. Starting a CAS session on an already running CAS server\n",
    "1. Checking the server status\n",
    "1. Loading data from the local file system to the CAS server\n",
    "1. Explore the data\n",
    "1. Impute missing values\n",
    "1. Partition the data into training and validation partitions\n",
    "1. Build a decision tree\n",
    "1. Build a neural network\n",
    "1. Build a decision forest\n",
    "1. Build a gradient boost\n",
    "1. Assess the models\n",
    "1. Build ROC charts"
   ]
  },
  {
   "cell_type": "markdown",
   "metadata": {},
   "source": [
    "## Setup and initialize\n",
    "\n",
    "Find doc for all the CAS actions [here](http://casjml01.unx.sas.com:8080/job/Actions_ref_doc_vb005/ws/casaref/index.html) \n",
    "\n",
    "In this code we import the needed packages and we assign variables for the modeling details that will be used later in the analysis"
   ]
  },
  {
   "cell_type": "code",
   "execution_count": 1,
   "metadata": {},
   "outputs": [],
   "source": [
    "from swat import *\n",
    "from swat.render import render_html\n",
    "from pprint import pprint\n",
    "from matplotlib import pyplot as plt\n",
    "import pandas as pd\n",
    "import sys\n",
    "%matplotlib inline\n",
    "\n",
    "target          = \"bad\"\n",
    "class_inputs    = [\"reason\", \"job\"]\n",
    "class_vars      = [target] + class_inputs\n",
    "interval_inputs = [\"im_clage\", \"clno\", \"im_debtinc\", \"loan\", \"mortdue\", \"value\", \"im_yoj\", \"im_ninq\", \"derog\", \"im_delinq\"]\n",
    "all_inputs      = interval_inputs + class_inputs\n",
    "\n",
    "indata_dir = '/home/sasdemo/data'\n",
    "indata = 'hmeq'"
   ]
  },
  {
   "cell_type": "markdown",
   "metadata": {},
   "source": [
    "## Start CAS session\n",
    "\n",
    "In this code we assign values for the cashost, casport, and casauth values. These are then used to establish a CAS session named `sess`."
   ]
  },
  {
   "cell_type": "code",
   "execution_count": 2,
   "metadata": {},
   "outputs": [
    {
     "name": "stdout",
     "output_type": "stream",
     "text": [
      "NOTE: Added action set 'dataStep'.\n",
      "NOTE: Added action set 'dataPreprocess'.\n",
      "NOTE: Added action set 'cardinality'.\n",
      "NOTE: Added action set 'sampling'.\n",
      "NOTE: Added action set 'regression'.\n",
      "NOTE: Added action set 'decisionTree'.\n",
      "NOTE: Added action set 'neuralNet'.\n",
      "NOTE: Added action set 'svm'.\n",
      "NOTE: Added action set 'astore'.\n",
      "NOTE: Added action set 'percentile'.\n"
     ]
    },
    {
     "data": {
      "text/html": [
       "<div class=\"cas-results-key\"><b>&#167; actionset</b></div>\n",
       "<div class=\"cas-results-body\">\n",
       "<div>percentile</div>\n",
       "</div>\n",
       "<div class=\"cas-output-area\"></div>\n",
       "<p class=\"cas-results-performance\"><small><span class=\"cas-elapsed\">elapsed 0.000717s</span> &#183; <span class=\"cas-user\">user 0.000593s</span> &#183; <span class=\"cas-memory\">mem 0.221MB</span></small></p>"
      ],
      "text/plain": [
       "[actionset]\n",
       "\n",
       " 'percentile'\n",
       "\n",
       "+ Elapsed: 0.000717s, user: 0.000593s, mem: 0.221mb"
      ]
     },
     "execution_count": 2,
     "metadata": {},
     "output_type": "execute_result"
    }
   ],
   "source": [
    "cashost='localhost'\n",
    "casport=5570\n",
    "casauth='~/.authinfo'\n",
    "sess = CAS(cashost, casport, authinfo=casauth, caslib=\"casuser\")\n",
    "\n",
    "# Load the needed action sets for this example:\n",
    "sess.loadactionset(actionset=\"dataStep\")\n",
    "sess.loadactionset(actionset=\"dataPreprocess\")\n",
    "sess.loadactionset(actionset=\"cardinality\")\n",
    "sess.loadactionset(actionset=\"sampling\")\n",
    "sess.loadactionset(actionset=\"regression\")\n",
    "sess.loadactionset(actionset=\"decisionTree\")\n",
    "sess.loadactionset(actionset=\"neuralNet\")\n",
    "sess.loadactionset(actionset=\"svm\")\n",
    "sess.loadactionset(actionset=\"astore\")\n",
    "sess.loadactionset(actionset=\"percentile\")"
   ]
  },
  {
   "cell_type": "markdown",
   "metadata": {},
   "source": [
    "## Load data into CAS\n",
    "\n"
   ]
  },
  {
   "cell_type": "code",
   "execution_count": 3,
   "metadata": {
    "scrolled": false
   },
   "outputs": [
    {
     "ename": "SWATError",
     "evalue": "Could not open the file /home/sasdemo/data/hmeq.csv.",
     "output_type": "error",
     "traceback": [
      "\u001b[0;31m---------------------------------------------------------------------------\u001b[0m",
      "\u001b[0;31mSWATError\u001b[0m                                 Traceback (most recent call last)",
      "\u001b[0;32m<ipython-input-3-220c84b75dc8>\u001b[0m in \u001b[0;36m<module>\u001b[0;34m\u001b[0m\n\u001b[1;32m      1\u001b[0m \u001b[0;32mif\u001b[0m \u001b[0;32mnot\u001b[0m \u001b[0msess\u001b[0m\u001b[0;34m.\u001b[0m\u001b[0mtable\u001b[0m\u001b[0;34m.\u001b[0m\u001b[0mtableExists\u001b[0m\u001b[0;34m(\u001b[0m\u001b[0mtable\u001b[0m\u001b[0;34m=\u001b[0m\u001b[0mindata\u001b[0m\u001b[0;34m)\u001b[0m\u001b[0;34m.\u001b[0m\u001b[0mexists\u001b[0m\u001b[0;34m:\u001b[0m\u001b[0;34m\u001b[0m\u001b[0;34m\u001b[0m\u001b[0m\n\u001b[0;32m----> 2\u001b[0;31m     \u001b[0mindata\u001b[0m \u001b[0;34m=\u001b[0m \u001b[0msess\u001b[0m\u001b[0;34m.\u001b[0m\u001b[0mupload_file\u001b[0m\u001b[0;34m(\u001b[0m\u001b[0mindata_dir\u001b[0m\u001b[0;34m+\u001b[0m\u001b[0;34m\"/\"\u001b[0m\u001b[0;34m+\u001b[0m\u001b[0mindata\u001b[0m\u001b[0;34m+\u001b[0m\u001b[0;34m\".csv\"\u001b[0m\u001b[0;34m,\u001b[0m \u001b[0mcasout\u001b[0m\u001b[0;34m=\u001b[0m\u001b[0;34m{\u001b[0m\u001b[0;34m\"name\"\u001b[0m\u001b[0;34m:\u001b[0m\u001b[0mindata\u001b[0m\u001b[0;34m}\u001b[0m\u001b[0;34m)\u001b[0m\u001b[0;34m\u001b[0m\u001b[0;34m\u001b[0m\u001b[0m\n\u001b[0m",
      "\u001b[0;32m/opt/anaconda3/lib/python3.7/site-packages/swat/cas/connection.py\u001b[0m in \u001b[0;36mupload_file\u001b[0;34m(self, data, importoptions, casout, **kwargs)\u001b[0m\n\u001b[1;32m   1463\u001b[0m \u001b[0;34m\u001b[0m\u001b[0m\n\u001b[1;32m   1464\u001b[0m         out = self.upload(data, importoptions=importoptions,\n\u001b[0;32m-> 1465\u001b[0;31m                           casout=casout, **kwargs)\n\u001b[0m\u001b[1;32m   1466\u001b[0m \u001b[0;34m\u001b[0m\u001b[0m\n\u001b[1;32m   1467\u001b[0m         \u001b[0;32mif\u001b[0m \u001b[0mout\u001b[0m\u001b[0;34m.\u001b[0m\u001b[0mseverity\u001b[0m \u001b[0;34m>\u001b[0m \u001b[0;36m1\u001b[0m\u001b[0;34m:\u001b[0m\u001b[0;34m\u001b[0m\u001b[0;34m\u001b[0m\u001b[0m\n",
      "\u001b[0;32m/opt/anaconda3/lib/python3.7/site-packages/swat/cas/connection.py\u001b[0m in \u001b[0;36mupload\u001b[0;34m(self, data, importoptions, casout, **kwargs)\u001b[0m\n\u001b[1;32m   1421\u001b[0m                                                                 \u001b[0mself\u001b[0m\u001b[0;34m.\u001b[0m\u001b[0m_sw_error\u001b[0m\u001b[0;34m,\u001b[0m\u001b[0;34m\u001b[0m\u001b[0;34m\u001b[0m\u001b[0m\n\u001b[1;32m   1422\u001b[0m                                                                 **kwargs)),\n\u001b[0;32m-> 1423\u001b[0;31m                               self._sw_connection)\n\u001b[0m\u001b[1;32m   1424\u001b[0m \u001b[0;34m\u001b[0m\u001b[0m\n\u001b[1;32m   1425\u001b[0m         \u001b[0;31m# Remove temporary file as needed\u001b[0m\u001b[0;34m\u001b[0m\u001b[0;34m\u001b[0m\u001b[0;34m\u001b[0m\u001b[0m\n",
      "\u001b[0;32m/opt/anaconda3/lib/python3.7/site-packages/swat/clib.py\u001b[0m in \u001b[0;36merrorcheck\u001b[0;34m(expr, obj)\u001b[0m\n\u001b[1;32m    189\u001b[0m         \u001b[0mmsg\u001b[0m \u001b[0;34m=\u001b[0m \u001b[0mobj\u001b[0m\u001b[0;34m.\u001b[0m\u001b[0mgetLastErrorMessage\u001b[0m\u001b[0;34m(\u001b[0m\u001b[0;34m)\u001b[0m\u001b[0;34m\u001b[0m\u001b[0;34m\u001b[0m\u001b[0m\n\u001b[1;32m    190\u001b[0m         \u001b[0;32mif\u001b[0m \u001b[0mmsg\u001b[0m\u001b[0;34m:\u001b[0m\u001b[0;34m\u001b[0m\u001b[0;34m\u001b[0m\u001b[0m\n\u001b[0;32m--> 191\u001b[0;31m             \u001b[0;32mraise\u001b[0m \u001b[0mSWATError\u001b[0m\u001b[0;34m(\u001b[0m\u001b[0ma2u\u001b[0m\u001b[0;34m(\u001b[0m\u001b[0mmsg\u001b[0m\u001b[0;34m,\u001b[0m \u001b[0;34m'utf-8'\u001b[0m\u001b[0;34m)\u001b[0m\u001b[0;34m)\u001b[0m\u001b[0;34m\u001b[0m\u001b[0;34m\u001b[0m\u001b[0m\n\u001b[0m\u001b[1;32m    192\u001b[0m     \u001b[0;32mreturn\u001b[0m \u001b[0mexpr\u001b[0m\u001b[0;34m\u001b[0m\u001b[0;34m\u001b[0m\u001b[0m\n",
      "\u001b[0;31mSWATError\u001b[0m: Could not open the file /home/sasdemo/data/hmeq.csv."
     ]
    }
   ],
   "source": [
    "if not sess.table.tableExists(table=indata).exists:\n",
    "    indata = sess.upload_file(indata_dir+\"/\"+indata+\".csv\", casout={\"name\":indata})"
   ]
  },
  {
   "cell_type": "markdown",
   "metadata": {},
   "source": [
    "## Explore and Impute missing values"
   ]
  },
  {
   "cell_type": "code",
   "execution_count": 4,
   "metadata": {},
   "outputs": [
    {
     "name": "stderr",
     "output_type": "stream",
     "text": [
      "ERROR: The file or path 'hmeq' is not available in the file system.\n",
      "ERROR: Table 'hmeq' could not be loaded.\n",
      "ERROR: Failure opening table 'hmeq': A table could not be loaded.\n",
      "ERROR: The action stopped due to errors.\n"
     ]
    },
    {
     "data": {
      "text/html": [
       "<div class=\"cas-output-area\"></div>\n",
       "<p class=\"cas-results-performance\"><small><span class=\"cas-elapsed\">elapsed 0.000278s</span> &#183; <span class=\"cas-user\">user 0.776s</span> &#183; <span class=\"cas-sys\">sys 0.485s</span></small></p>"
      ],
      "text/plain": [
       "+ Elapsed: 0.000278s, user: 0.776s, sys: 0.485s"
      ]
     },
     "execution_count": 4,
     "metadata": {},
     "output_type": "execute_result"
    }
   ],
   "source": [
    "sess.summary(indata)"
   ]
  },
  {
   "cell_type": "markdown",
   "metadata": {},
   "source": [
    "#### Explore data and plot missing values"
   ]
  },
  {
   "cell_type": "code",
   "execution_count": 5,
   "metadata": {},
   "outputs": [
    {
     "name": "stdout",
     "output_type": "stream",
     "text": [
      "----------------------------------Data Summary----------------------------------\n"
     ]
    },
    {
     "name": "stderr",
     "output_type": "stream",
     "text": [
      "ERROR: The file or path 'hmeq' is not available in the file system.\n",
      "ERROR: Table 'hmeq' could not be loaded.\n",
      "ERROR: Failure opening table 'hmeq': A table could not be loaded.\n",
      "ERROR: The action stopped due to errors.\n",
      "ERROR: The file or path 'data_card' is not available in the file system.\n",
      "ERROR: Table 'data_card' could not be loaded.\n",
      "ERROR: Failure opening table 'data_card': A table could not be loaded.\n",
      "ERROR: The action stopped due to errors.\n",
      "ERROR: The file or path 'data_card' is not available in the file system.\n",
      "ERROR: Table 'data_card' could not be loaded.\n",
      "ERROR: Failure opening table 'data_card': A table could not be loaded.\n",
      "ERROR: The action stopped due to errors.\n"
     ]
    },
    {
     "ename": "KeyError",
     "evalue": "'Fetch'",
     "output_type": "error",
     "traceback": [
      "\u001b[0;31m---------------------------------------------------------------------------\u001b[0m",
      "\u001b[0;31mKeyError\u001b[0m                                  Traceback (most recent call last)",
      "\u001b[0;32m<ipython-input-5-d74648321a76>\u001b[0m in \u001b[0;36m<module>\u001b[0;34m\u001b[0m\n\u001b[1;32m     11\u001b[0m \u001b[0mtbl_data_card\u001b[0m\u001b[0;34m.\u001b[0m\u001b[0mvars\u001b[0m\u001b[0;34m=\u001b[0m\u001b[0;34m[\u001b[0m\u001b[0;34m'_VARNAME_'\u001b[0m\u001b[0;34m,\u001b[0m \u001b[0;34m'_NMISS_'\u001b[0m\u001b[0;34m,\u001b[0m \u001b[0;34m'_NOBS_'\u001b[0m\u001b[0;34m]\u001b[0m\u001b[0;34m\u001b[0m\u001b[0;34m\u001b[0m\u001b[0m\n\u001b[1;32m     12\u001b[0m \u001b[0mallRows\u001b[0m\u001b[0;34m=\u001b[0m\u001b[0;36m20000\u001b[0m  \u001b[0;31m# Assuming max rows in data_card table is <= 20,000\u001b[0m\u001b[0;34m\u001b[0m\u001b[0;34m\u001b[0m\u001b[0m\n\u001b[0;32m---> 13\u001b[0;31m \u001b[0mdf_data_card\u001b[0m\u001b[0;34m=\u001b[0m\u001b[0mtbl_data_card\u001b[0m\u001b[0;34m.\u001b[0m\u001b[0mfetch\u001b[0m\u001b[0;34m(\u001b[0m\u001b[0mto\u001b[0m\u001b[0;34m=\u001b[0m\u001b[0mallRows\u001b[0m\u001b[0;34m)\u001b[0m\u001b[0;34m[\u001b[0m\u001b[0;34m'Fetch'\u001b[0m\u001b[0;34m]\u001b[0m\u001b[0;34m\u001b[0m\u001b[0;34m\u001b[0m\u001b[0m\n\u001b[0m\u001b[1;32m     14\u001b[0m \u001b[0mdf_data_card\u001b[0m\u001b[0;34m[\u001b[0m\u001b[0;34m'PERCENT_MISSING'\u001b[0m\u001b[0;34m]\u001b[0m\u001b[0;34m=\u001b[0m\u001b[0;34m(\u001b[0m\u001b[0mdf_data_card\u001b[0m\u001b[0;34m[\u001b[0m\u001b[0;34m'_NMISS_'\u001b[0m\u001b[0;34m]\u001b[0m\u001b[0;34m/\u001b[0m\u001b[0mdf_data_card\u001b[0m\u001b[0;34m[\u001b[0m\u001b[0;34m'_NOBS_'\u001b[0m\u001b[0;34m]\u001b[0m\u001b[0;34m)\u001b[0m\u001b[0;34m*\u001b[0m\u001b[0;36m100\u001b[0m\u001b[0;34m\u001b[0m\u001b[0;34m\u001b[0m\u001b[0m\n\u001b[1;32m     15\u001b[0m \u001b[0;34m\u001b[0m\u001b[0m\n",
      "\u001b[0;31mKeyError\u001b[0m: 'Fetch'"
     ]
    }
   ],
   "source": [
    "sess.cardinality.summarize(\n",
    "  table=indata, \n",
    "  cardinality={\"name\":\"data_card\", \"replace\":True}\n",
    ")\n",
    "\n",
    "tbl_data_card=sess.CASTable('data_card')\n",
    "tbl_data_card.where='_NMISS_>0'\n",
    "print(\"Data Summary\".center(80, '-')) # print title\n",
    "tbl_data_card.fetch() # print obs\n",
    "\n",
    "tbl_data_card.vars=['_VARNAME_', '_NMISS_', '_NOBS_']\n",
    "allRows=20000  # Assuming max rows in data_card table is <= 20,000\n",
    "df_data_card=tbl_data_card.fetch(to=allRows)['Fetch']\n",
    "df_data_card['PERCENT_MISSING']=(df_data_card['_NMISS_']/df_data_card['_NOBS_'])*100\n",
    "\n",
    "tbl_forplot=pd.Series(list(df_data_card['PERCENT_MISSING']), index=list(df_data_card['_VARNAME_']))\n",
    "ax=tbl_forplot.plot(\n",
    "  kind='bar', \n",
    "  title='Percentage of Missing Values'\n",
    ")\n",
    "ax.set_ylabel('Percent Missing')\n",
    "ax.set_xlabel('Variable Names');"
   ]
  },
  {
   "cell_type": "markdown",
   "metadata": {},
   "source": [
    "#### Impute missing values"
   ]
  },
  {
   "cell_type": "code",
   "execution_count": 6,
   "metadata": {},
   "outputs": [
    {
     "name": "stderr",
     "output_type": "stream",
     "text": [
      "ERROR: The file or path 'hmeq' is not available in the file system.\n",
      "ERROR: Table 'hmeq' could not be loaded.\n",
      "ERROR: Failure opening table 'hmeq': A table could not be loaded.\n",
      "ERROR: The action stopped due to errors.\n"
     ]
    },
    {
     "data": {
      "text/html": [
       "\n",
       "    <style type=\"text/css\">\n",
       "    div.cas-results {\n",
       "        overflow-x: auto;\n",
       "    }\n",
       "    div.cas-results > * {\n",
       "        margin-left: auto !important;\n",
       "        margin-right: auto !important;\n",
       "    }\n",
       "    div.cas-results .sas-dataframe th[colspan],\n",
       "    div.cas-results .byline {\n",
       "        text-align: center;\n",
       "        font-size: 110%;\n",
       "    }\n",
       "    div.cas-results .sas-dataframe > tbody > tr:nth-child(even) {\n",
       "        background-color: #f8f8f8;\n",
       "    }\n",
       "    div.cas-results .sas-dataframe td,\n",
       "    div.cas-results .sas-dataframe th {\n",
       "        border: 1px solid #aaaaaa;\n",
       "        padding: 5px 10px;\n",
       "    }\n",
       "    div.cas-results .sas-dataframe th {\n",
       "        background-color: #f0f0f0;\n",
       "    }\n",
       "    div.cas-results .sas-dataframe .double,\n",
       "    div.cas-results .sas-dataframe .int32,\n",
       "    div.cas-results .sas-dataframe .int64,\n",
       "    div.cas-results .sas-dataframe .decsext,\n",
       "    div.cas-results .sas-dataframe .decquad {\n",
       "        text-align: right;\n",
       "    }\n",
       "    </style>\n",
       "<div class=\"cas-results\"></div>"
      ]
     },
     "metadata": {},
     "output_type": "display_data"
    }
   ],
   "source": [
    "r=sess.dataPreprocess.transform(\n",
    "  table=indata,\n",
    "  casOut={\"name\":\"hmeq_prepped\", \"replace\":True},\n",
    "  copyAllVars=True,\n",
    "  outVarsNameGlobalPrefix=\"IM\",\n",
    "  requestPackages=[\n",
    "    {\"impute\":{\"method\":\"MEAN\"}, \"inputs\":{\"clage\"}},\n",
    "    {\"impute\":{\"method\":\"MEDIAN\"}, \"inputs\":{\"delinq\"}},\n",
    "    {\"impute\":{\"method\":\"VALUE\", \"valuesInterval\":{2}}, \"inputs\":{\"ninq\"}},\n",
    "    {\"impute\":{\"method\":\"VALUE\", \"valuesInterval\":{35.0, 7, 2}}, \"inputs\":{\"debtinc\", \"yoj\"}}\n",
    "  ]\n",
    ")\n",
    "render_html(r)"
   ]
  },
  {
   "cell_type": "markdown",
   "metadata": {},
   "source": [
    "## Partition data into Training and Validation\n",
    "\n",
    "The stratified action in the sampling actionset allows us to create two partition and observe the reponse rate of the target variable `bad` in both training and validation"
   ]
  },
  {
   "cell_type": "code",
   "execution_count": 7,
   "metadata": {},
   "outputs": [
    {
     "name": "stderr",
     "output_type": "stream",
     "text": [
      "ERROR: The file or path 'hmeq_prepped' is not available in the file system.\n",
      "ERROR: Table 'hmeq_prepped' could not be loaded.\n",
      "ERROR: Failure opening table 'hmeq_prepped': A table could not be loaded.\n",
      "ERROR: The action stopped due to errors.\n"
     ]
    },
    {
     "data": {
      "text/html": [
       "<div class=\"cas-output-area\"></div>\n",
       "<p class=\"cas-results-performance\"><small><span class=\"cas-elapsed\">elapsed 0.000177s</span> &#183; <span class=\"cas-user\">user 0.791s</span> &#183; <span class=\"cas-sys\">sys 0.495s</span></small></p>"
      ],
      "text/plain": [
       "+ Elapsed: 0.000177s, user: 0.791s, sys: 0.495s"
      ]
     },
     "execution_count": 7,
     "metadata": {},
     "output_type": "execute_result"
    }
   ],
   "source": [
    "sess.sampling.stratified(\n",
    "  table={\"name\":\"hmeq_prepped\", \"groupBy\":target},\n",
    "  output={\"casOut\":{\"name\":\"hmeq_part\", \"replace\":True}, \"copyVars\":\"ALL\"},\n",
    "  samppct=70,\n",
    "  partind=True\n",
    ")"
   ]
  },
  {
   "cell_type": "markdown",
   "metadata": {},
   "source": [
    "## Decision Tree\n",
    "\n",
    "In this code block we do the following:\n",
    "1. Train the decision tree using the variable listed we defined in the setup phase. We save the decision tree model `tree_model`. It is used in the subsequent step but it could just have easily been used a day, week, or month from now.\n",
    "1. Score data using the `tree_model` that was created in the previous step\n",
    "1. Run data step code on the scored output to prepare it for further analysis "
   ]
  },
  {
   "cell_type": "code",
   "execution_count": 8,
   "metadata": {},
   "outputs": [
    {
     "name": "stdout",
     "output_type": "stream",
     "text": [
      "\n",
      "NOTE: Duplicate messages output by DATA step:\n",
      "  (occurred 11 times)\n"
     ]
    },
    {
     "name": "stderr",
     "output_type": "stream",
     "text": [
      "ERROR: The file or path 'hmeq_part' is not available in the file system.\n",
      "ERROR: Table 'hmeq_part' could not be loaded.\n",
      "ERROR: Failure opening table 'hmeq_part': A table could not be loaded.\n",
      "ERROR: The action stopped due to errors.\n",
      "ERROR: The file or path 'hmeq_part' is not available in the file system.\n",
      "ERROR: The file or path 'tree_model' is not available in the file system.\n",
      "ERROR: Table 'hmeq_part' could not be loaded.\n",
      "ERROR: Failure opening table 'hmeq_part': A table could not be loaded.\n",
      "ERROR: Table 'tree_model' could not be loaded.\n",
      "ERROR: Failure opening table 'tree_model': A table could not be loaded.\n",
      "ERROR: The action stopped due to errors.\n",
      "ERROR: The table _scored_tree in caslib CASUSER(sasdemo) does not exist.\n",
      "ERROR: The action stopped due to errors.\n"
     ]
    },
    {
     "data": {
      "text/html": [
       "<div class=\"cas-output-area\"></div>\n",
       "<p class=\"cas-results-performance\"><small><span class=\"cas-elapsed\">elapsed 0.0357s</span> &#183; <span class=\"cas-user\">user 0.0135s</span> &#183; <span class=\"cas-sys\">sys 0.0285s</span> &#183; <span class=\"cas-memory\">mem 4.62MB</span></small></p>"
      ],
      "text/plain": [
       "+ Elapsed: 0.0357s, user: 0.0135s, sys: 0.0285s, mem: 4.62mb"
      ]
     },
     "execution_count": 8,
     "metadata": {},
     "output_type": "execute_result"
    }
   ],
   "source": [
    "sess.decisionTree.dtreeTrain(\n",
    "  table={\n",
    "    \"name\":\"hmeq_part\",\n",
    "    \"where\":\"strip(put(_partind_, best.))='1'\"\n",
    "  },\n",
    "  inputs=all_inputs,\n",
    "  target=\"bad\",\n",
    "  nominals=class_vars,\n",
    "  crit=\"GAIN\",\n",
    "  prune=True,\n",
    "  varImp=True,\n",
    "  missing=\"USEINSEARCH\",\n",
    "  casOut={\"name\":\"tree_model\", \"replace\":True}\n",
    ")\n",
    "\n",
    "# Score \n",
    "sess.decisionTree.dtreeScore(\n",
    "  table={\"name\":\"hmeq_part\"},\n",
    "  modelTable={\"name\":\"tree_model\"},\n",
    "  casOut={\"name\":\"_scored_tree\", \"replace\":True},\n",
    "  copyVars={\"bad\", \"_partind_\"}\n",
    ")\n",
    "\n",
    "# Create p_bad0 and p_bad1 as _dt_predp_ is the probability of event in _dt_predname_\n",
    "sess.dataStep.runCode(code = \"\"\"\n",
    "data _scored_tree; \n",
    "    length p_bad1 p_bad0 8.;\n",
    "    set _scored_tree; \n",
    "    if _dt_predname_=1 then do; \n",
    "        p_bad1=_dt_predp_; \n",
    "        p_bad0=1-p_bad1; \n",
    "    end; \n",
    "    if _dt_predname_=0 then do; \n",
    "        p_bad0=_dt_predp_; \n",
    "        p_bad1=1-p_bad0; \n",
    "    end; \n",
    "run;\n",
    "\"\"\"\n",
    ")\n"
   ]
  },
  {
   "cell_type": "markdown",
   "metadata": {},
   "source": [
    "## Decision Forest\n",
    "\n",
    "In this code block we do the following:\n",
    "1. Train the decision tree using the variable listed we defined in the setup phase. We save the decision tree model `forest_model`. It is used in the subsequent step but it could just have easily been used a day, week, or month from now.\n",
    "1. Score data using the `forest_model` that was created in the previous step\n",
    "1. Run data step code on the scored output to prepare it for further analysis "
   ]
  },
  {
   "cell_type": "code",
   "execution_count": 9,
   "metadata": {},
   "outputs": [
    {
     "name": "stdout",
     "output_type": "stream",
     "text": [
      "\n",
      "NOTE: Duplicate messages output by DATA step:\n",
      "  (occurred 11 times)\n"
     ]
    },
    {
     "name": "stderr",
     "output_type": "stream",
     "text": [
      "ERROR: The file or path 'hmeq_part' is not available in the file system.\n",
      "ERROR: Table 'hmeq_part' could not be loaded.\n",
      "ERROR: Failure opening table 'hmeq_part': A table could not be loaded.\n",
      "ERROR: The action stopped due to errors.\n",
      "ERROR: The file or path 'hmeq_part' is not available in the file system.\n",
      "ERROR: The file or path 'forest_model' is not available in the file system.\n",
      "ERROR: Table 'hmeq_part' could not be loaded.\n",
      "ERROR: Failure opening table 'hmeq_part': A table could not be loaded.\n",
      "ERROR: Table 'forest_model' could not be loaded.\n",
      "ERROR: Failure opening table 'forest_model': A table could not be loaded.\n",
      "ERROR: The action stopped due to errors.\n",
      "ERROR: The table _scored_rf in caslib CASUSER(sasdemo) does not exist.\n",
      "ERROR: The action stopped due to errors.\n"
     ]
    },
    {
     "data": {
      "text/html": [
       "<div class=\"cas-output-area\"></div>\n",
       "<p class=\"cas-results-performance\"><small><span class=\"cas-elapsed\">elapsed 0.0178s</span> &#183; <span class=\"cas-user\">user 0.0107s</span> &#183; <span class=\"cas-sys\">sys 0.017s</span> &#183; <span class=\"cas-memory\">mem 6.36MB</span></small></p>"
      ],
      "text/plain": [
       "+ Elapsed: 0.0178s, user: 0.0107s, sys: 0.017s, mem: 6.36mb"
      ]
     },
     "execution_count": 9,
     "metadata": {},
     "output_type": "execute_result"
    }
   ],
   "source": [
    "sess.decisionTree.forestTrain(\n",
    "  table={\n",
    "    \"name\":\"hmeq_part\",\n",
    "    \"where\":\"strip(put(_partind_, best.))='1'\"\n",
    "  },\n",
    "  inputs=all_inputs,\n",
    "  nominals=class_vars,\n",
    "  target=\"bad\",\n",
    "  nTree=50,\n",
    "  nBins=20,\n",
    "  leafSize=5,\n",
    "  maxLevel=21,\n",
    "  crit=\"GAINRATIO\",\n",
    "  varImp=True,\n",
    "  missing=\"USEINSEARCH\",\n",
    "  vote=\"PROB\",\n",
    "  casOut={\"name\":\"forest_model\", \"replace\":True}\n",
    ")\n",
    "\n",
    "# Score \n",
    "sess.decisionTree.forestScore(\n",
    "  table={\"name\":\"hmeq_part\"},\n",
    "  modelTable={\"name\":\"forest_model\"},\n",
    "  casOut={\"name\":\"_scored_rf\", \"replace\":True},\n",
    "  copyVars={\"bad\", \"_partind_\"},\n",
    "  vote=\"PROB\"\n",
    ")\n",
    "\n",
    "# Create p_bad0 and p_bad1 as _rf_predp_ is the probability of event in _rf_predname_\n",
    "sess.dataStep.runCode(\n",
    "  code=\"data _scored_rf; set _scored_rf; if _rf_predname_=1 then do; p_bad1=_rf_predp_; p_bad0=1-p_bad1; end; if _rf_predname_=0 then do; p_bad0=_rf_predp_; p_bad1=1-p_bad0; end; run;\"\n",
    ")"
   ]
  },
  {
   "cell_type": "markdown",
   "metadata": {},
   "source": [
    "## Gradient Boosting Machine\n",
    "\n",
    "\n",
    "In this code block we do the following:\n",
    "1. Train the decision tree using the variable listed we defined in the setup phase. We save the decision tree model `gb_model`. It is used in the subsequent step but it could just have easily been used a day, week, or month from now.\n",
    "1. Score data using the `gb_model` that was created in the previous step\n",
    "1. Run data step code on the scored output to prepare it for further analysis "
   ]
  },
  {
   "cell_type": "code",
   "execution_count": 10,
   "metadata": {},
   "outputs": [
    {
     "name": "stdout",
     "output_type": "stream",
     "text": [
      "NOTE: Character values have been converted to numeric values at the places given by: (Line):(Column).\n",
      "      0:35    0:106\n",
      "NOTE: Duplicate messages output by DATA step:\n",
      "NOTE: Character values have been converted to numeric values at the places given by: (Line):(Column).  (occurred 12 times)\n",
      "      0:35    0:106  (occurred 12 times)\n"
     ]
    },
    {
     "data": {
      "text/html": [
       "<div class=\"cas-results-key\"><b>&#167; InputCasTables</b></div>\n",
       "<div class=\"cas-results-body\">\n",
       "<div>\n",
       "<style scoped>\n",
       "    .dataframe tbody tr th:only-of-type {\n",
       "        vertical-align: middle;\n",
       "    }\n",
       "\n",
       "    .dataframe tbody tr th {\n",
       "        vertical-align: top;\n",
       "    }\n",
       "\n",
       "    .dataframe thead th {\n",
       "        text-align: right;\n",
       "    }\n",
       "</style>\n",
       "<table border=\"1\" class=\"dataframe\">\n",
       "  <thead>\n",
       "    <tr style=\"text-align: right;\">\n",
       "      <th title=\"\"></th>\n",
       "      <th title=\"CAS Library\">casLib</th>\n",
       "      <th title=\"Name\">Name</th>\n",
       "      <th title=\"Number of Rows\">Rows</th>\n",
       "      <th title=\"Number of Columns\">Columns</th>\n",
       "      <th title=\"Table\">casTable</th>\n",
       "    </tr>\n",
       "  </thead>\n",
       "  <tbody>\n",
       "    <tr>\n",
       "      <th>0</th>\n",
       "      <td>CASUSER(sasdemo)</td>\n",
       "      <td>_scored_gb</td>\n",
       "      <td>5960</td>\n",
       "      <td>6</td>\n",
       "      <td>CASTable('_scored_gb', caslib='CASUSER(sasdemo)')</td>\n",
       "    </tr>\n",
       "  </tbody>\n",
       "</table>\n",
       "</div>\n",
       "</div>\n",
       "<div class=\"cas-results-key\"><hr/><b>&#167; OutputCasTables</b></div>\n",
       "<div class=\"cas-results-body\">\n",
       "<div>\n",
       "<style scoped>\n",
       "    .dataframe tbody tr th:only-of-type {\n",
       "        vertical-align: middle;\n",
       "    }\n",
       "\n",
       "    .dataframe tbody tr th {\n",
       "        vertical-align: top;\n",
       "    }\n",
       "\n",
       "    .dataframe thead th {\n",
       "        text-align: right;\n",
       "    }\n",
       "</style>\n",
       "<table border=\"1\" class=\"dataframe\">\n",
       "  <thead>\n",
       "    <tr style=\"text-align: right;\">\n",
       "      <th title=\"\"></th>\n",
       "      <th title=\"CAS Library\">casLib</th>\n",
       "      <th title=\"Name\">Name</th>\n",
       "      <th title=\"Number of Rows\">Rows</th>\n",
       "      <th title=\"Number of Columns\">Columns</th>\n",
       "      <th title=\"Number of Rows Appended\">Append</th>\n",
       "      <th title=\"Promoted\">Promoted</th>\n",
       "      <th title=\"Table\">casTable</th>\n",
       "    </tr>\n",
       "  </thead>\n",
       "  <tbody>\n",
       "    <tr>\n",
       "      <th>0</th>\n",
       "      <td>CASUSER(sasdemo)</td>\n",
       "      <td>_scored_gb</td>\n",
       "      <td>5960</td>\n",
       "      <td>8</td>\n",
       "      <td>NaN</td>\n",
       "      <td>N</td>\n",
       "      <td>CASTable('_scored_gb', caslib='CASUSER(sasdemo)')</td>\n",
       "    </tr>\n",
       "  </tbody>\n",
       "</table>\n",
       "</div>\n",
       "</div>\n",
       "<div class=\"cas-output-area\"></div>\n",
       "<p class=\"cas-results-performance\"><small><span class=\"cas-elapsed\">elapsed 0.0305s</span> &#183; <span class=\"cas-user\">user 0.0261s</span> &#183; <span class=\"cas-sys\">sys 0.0216s</span> &#183; <span class=\"cas-memory\">mem 8.69MB</span></small></p>"
      ],
      "text/plain": [
       "[InputCasTables]\n",
       "\n",
       "              casLib        Name  Rows  Columns  \\\n",
       " 0  CASUSER(sasdemo)  _scored_gb  5960        6   \n",
       " \n",
       "                                             casTable  \n",
       " 0  CASTable('_scored_gb', caslib='CASUSER(sasdemo)')  \n",
       "\n",
       "[OutputCasTables]\n",
       "\n",
       "              casLib        Name  Rows  Columns  Append Promoted  \\\n",
       " 0  CASUSER(sasdemo)  _scored_gb  5960        8     NaN        N   \n",
       " \n",
       "                                             casTable  \n",
       " 0  CASTable('_scored_gb', caslib='CASUSER(sasdemo)')  \n",
       "\n",
       "+ Elapsed: 0.0305s, user: 0.0261s, sys: 0.0216s, mem: 8.69mb"
      ]
     },
     "execution_count": 10,
     "metadata": {},
     "output_type": "execute_result"
    }
   ],
   "source": [
    "sess.decisionTree.gbtreeTrain(\n",
    "  table={\n",
    "    \"name\":\"hmeq_part\",\n",
    "    \"where\":\"strip(put(_partind_, best.))='1'\"\n",
    "  },\n",
    "  inputs=all_inputs,\n",
    "  nominals=class_vars,\n",
    "  target=target,\n",
    "  nTree=10,\n",
    "  nBins=20,\n",
    "  maxLevel=6,\n",
    "  varImp=True,\n",
    "  missing=\"USEINSEARCH\",\n",
    "  casOut={\"name\":\"gb_model\", \"replace\":True}\n",
    ")\n",
    "\n",
    "# Score \n",
    "sess.decisionTree.gbtreeScore(\n",
    "  table={\"name\":\"hmeq_part\"},\n",
    "  modelTable={\"name\":\"gb_model\"},\n",
    "  casOut={\"name\":\"_scored_gb\", \"replace\":True},\n",
    "  copyVars={ target, \"_partind_\"}\n",
    ")\n",
    "\n",
    "# Create p_bad0 and p_bad1 as _gbt_predp_ is the probability of event in _gbt_predname_\n",
    "sess.dataStep.runCode(\n",
    "  code=\"data _scored_gb; set _scored_gb; if _gbt_predname_=1 then do; p_bad1=_gbt_predp_; p_bad0=1-p_bad1; end; if _gbt_predname_=0 then do; p_bad0=_gbt_predp_; p_bad1=1-p_bad0; end; run;\"\n",
    ")"
   ]
  },
  {
   "cell_type": "markdown",
   "metadata": {},
   "source": [
    "## Neural Network\n",
    "\n",
    "In this code block we do the following:\n",
    "1. Train the decision tree using the variable listed we defined in the setup phase. We save the decision tree model `nnet_model`. It is used in the subsequent step but it could just have easily been used a day, week, or month from now.\n",
    "1. Score data using the `nnet_model` that was created in the previous step\n",
    "1. Run data step code on the scored output to prepare it for further analysis "
   ]
  },
  {
   "cell_type": "code",
   "execution_count": 11,
   "metadata": {},
   "outputs": [
    {
     "name": "stdout",
     "output_type": "stream",
     "text": [
      "NOTE: Character values have been converted to numeric values at the places given by: (Line):(Column).\n",
      "      0:35    0:104\n",
      "NOTE: Duplicate messages output by DATA step:\n",
      "NOTE: Character values have been converted to numeric values at the places given by: (Line):(Column).  (occurred 12 times)\n",
      "      0:35    0:104  (occurred 12 times)\n"
     ]
    },
    {
     "data": {
      "text/html": [
       "<div class=\"cas-results-key\"><b>&#167; InputCasTables</b></div>\n",
       "<div class=\"cas-results-body\">\n",
       "<div>\n",
       "<style scoped>\n",
       "    .dataframe tbody tr th:only-of-type {\n",
       "        vertical-align: middle;\n",
       "    }\n",
       "\n",
       "    .dataframe tbody tr th {\n",
       "        vertical-align: top;\n",
       "    }\n",
       "\n",
       "    .dataframe thead th {\n",
       "        text-align: right;\n",
       "    }\n",
       "</style>\n",
       "<table border=\"1\" class=\"dataframe\">\n",
       "  <thead>\n",
       "    <tr style=\"text-align: right;\">\n",
       "      <th title=\"\"></th>\n",
       "      <th title=\"CAS Library\">casLib</th>\n",
       "      <th title=\"Name\">Name</th>\n",
       "      <th title=\"Number of Rows\">Rows</th>\n",
       "      <th title=\"Number of Columns\">Columns</th>\n",
       "      <th title=\"Table\">casTable</th>\n",
       "    </tr>\n",
       "  </thead>\n",
       "  <tbody>\n",
       "    <tr>\n",
       "      <th>0</th>\n",
       "      <td>CASUSER(sasdemo)</td>\n",
       "      <td>_scored_nn</td>\n",
       "      <td>5960</td>\n",
       "      <td>4</td>\n",
       "      <td>CASTable('_scored_nn', caslib='CASUSER(sasdemo)')</td>\n",
       "    </tr>\n",
       "  </tbody>\n",
       "</table>\n",
       "</div>\n",
       "</div>\n",
       "<div class=\"cas-results-key\"><hr/><b>&#167; OutputCasTables</b></div>\n",
       "<div class=\"cas-results-body\">\n",
       "<div>\n",
       "<style scoped>\n",
       "    .dataframe tbody tr th:only-of-type {\n",
       "        vertical-align: middle;\n",
       "    }\n",
       "\n",
       "    .dataframe tbody tr th {\n",
       "        vertical-align: top;\n",
       "    }\n",
       "\n",
       "    .dataframe thead th {\n",
       "        text-align: right;\n",
       "    }\n",
       "</style>\n",
       "<table border=\"1\" class=\"dataframe\">\n",
       "  <thead>\n",
       "    <tr style=\"text-align: right;\">\n",
       "      <th title=\"\"></th>\n",
       "      <th title=\"CAS Library\">casLib</th>\n",
       "      <th title=\"Name\">Name</th>\n",
       "      <th title=\"Number of Rows\">Rows</th>\n",
       "      <th title=\"Number of Columns\">Columns</th>\n",
       "      <th title=\"Number of Rows Appended\">Append</th>\n",
       "      <th title=\"Promoted\">Promoted</th>\n",
       "      <th title=\"Table\">casTable</th>\n",
       "    </tr>\n",
       "  </thead>\n",
       "  <tbody>\n",
       "    <tr>\n",
       "      <th>0</th>\n",
       "      <td>CASUSER(sasdemo)</td>\n",
       "      <td>_scored_nn</td>\n",
       "      <td>5960</td>\n",
       "      <td>6</td>\n",
       "      <td>NaN</td>\n",
       "      <td>N</td>\n",
       "      <td>CASTable('_scored_nn', caslib='CASUSER(sasdemo)')</td>\n",
       "    </tr>\n",
       "  </tbody>\n",
       "</table>\n",
       "</div>\n",
       "</div>\n",
       "<div class=\"cas-output-area\"></div>\n",
       "<p class=\"cas-results-performance\"><small><span class=\"cas-elapsed\">elapsed 0.0319s</span> &#183; <span class=\"cas-user\">user 0.0262s</span> &#183; <span class=\"cas-sys\">sys 0.0227s</span> &#183; <span class=\"cas-memory\">mem 9.07MB</span></small></p>"
      ],
      "text/plain": [
       "[InputCasTables]\n",
       "\n",
       "              casLib        Name  Rows  Columns  \\\n",
       " 0  CASUSER(sasdemo)  _scored_nn  5960        4   \n",
       " \n",
       "                                             casTable  \n",
       " 0  CASTable('_scored_nn', caslib='CASUSER(sasdemo)')  \n",
       "\n",
       "[OutputCasTables]\n",
       "\n",
       "              casLib        Name  Rows  Columns  Append Promoted  \\\n",
       " 0  CASUSER(sasdemo)  _scored_nn  5960        6     NaN        N   \n",
       " \n",
       "                                             casTable  \n",
       " 0  CASTable('_scored_nn', caslib='CASUSER(sasdemo)')  \n",
       "\n",
       "+ Elapsed: 0.0319s, user: 0.0262s, sys: 0.0227s, mem: 9.07mb"
      ]
     },
     "execution_count": 11,
     "metadata": {},
     "output_type": "execute_result"
    }
   ],
   "source": [
    "sess.neuralNet.annTrain(\n",
    "  table={\n",
    "    \"name\":\"hmeq_part\",\n",
    "    \"where\":\"strip(put(_partind_, best.))='1'\"\n",
    "  },\n",
    "  validTable={\n",
    "    \"name\":\"hmeq_part\",\n",
    "    \"where\":\"strip(put(_partind_, best.))='0'\"\n",
    "  },\n",
    "  inputs=all_inputs,\n",
    "  nominals=class_vars,\n",
    "  target=\"bad\",\n",
    "  hiddens={7},\n",
    "  acts={\"TANH\"},\n",
    "  combs={\"LINEAR\"},\n",
    "  targetAct=\"SOFTMAX\",\n",
    "  errorFunc=\"ENTROPY\",\n",
    "  std=\"MIDRANGE\",\n",
    "  randDist=\"UNIFORM\",\n",
    "  scaleInit=1,\n",
    "  nloOpts={\n",
    "    \"optmlOpt\":{\"maxIters\":250, \"fConv\":1e-10}, \n",
    "    \"lbfgsOpt\":{\"numCorrections\":6},\n",
    "    \"printOpt\":{\"printLevel\":\"printDetail\"},\n",
    "    \"validate\":{\"frequency\":1}\n",
    "  },\n",
    "  casOut={\"name\":\"nnet_model\", \"replace\":True}\n",
    ")\n",
    "\n",
    "# Score \n",
    "sess.neuralNet.annScore(\n",
    "  table={\"name\":\"hmeq_part\"},\n",
    "  modelTable={\"name\":\"nnet_model\"},\n",
    "  casOut={\"name\":\"_scored_nn\", \"replace\":True},\n",
    "  copyVars={\"bad\", \"_partind_\"}\n",
    ")\n",
    "\n",
    "# Create p_bad0 and p_bad1 as _nn_predp_ is the probability of event in _nn_predname_\n",
    "sess.dataStep.runCode(\n",
    "  code=\"data _scored_nn; set _scored_nn; if _nn_predname_=1 then do; p_bad1=_nn_predp_; p_bad0=1-p_bad1; end; if _nn_predname_=0 then do; p_bad0=_nn_predp_; p_bad1=1-p_bad0; end; run;\"\n",
    ")"
   ]
  },
  {
   "cell_type": "markdown",
   "metadata": {},
   "source": [
    "## Assess Models"
   ]
  },
  {
   "cell_type": "code",
   "execution_count": 12,
   "metadata": {},
   "outputs": [],
   "source": [
    "def assess_model(prefix):\n",
    "    return sess.percentile.assess(\n",
    "      table={\n",
    "        \"name\":\"_scored_\" + prefix, \n",
    "        \"where\": \"strip(put(_partind_, best.))='0'\"\n",
    "      },\n",
    "      inputs=[{\"name\":\"p_bad1\"}],      \n",
    "      response=\"bad\",\n",
    "      event=\"1\",\n",
    "      pVar={\"p_bad0\"},\n",
    "      pEvent={\"0\"}      \n",
    "    )\n",
    "\n",
    "treeAssess=assess_model(prefix=\"tree\")    \n",
    "tree_fitstat =treeAssess.FitStat\n",
    "tree_rocinfo =treeAssess.ROCInfo\n",
    "tree_liftinfo=treeAssess.LIFTInfo\n",
    "\n",
    "rfAssess=assess_model(prefix=\"rf\")    \n",
    "rf_fitstat =rfAssess.FitStat\n",
    "rf_rocinfo =rfAssess.ROCInfo\n",
    "rf_liftinfo=rfAssess.LIFTInfo\n",
    "\n",
    "gbAssess=assess_model(prefix=\"gb\")    \n",
    "gb_fitstat =gbAssess.FitStat\n",
    "gb_rocinfo =gbAssess.ROCInfo\n",
    "gb_liftinfo=gbAssess.LIFTInfo\n",
    "\n",
    "nnAssess=assess_model(prefix=\"nn\")    \n",
    "nn_fitstat =nnAssess.FitStat\n",
    "nn_rocinfo =nnAssess.ROCInfo\n",
    "nn_liftinfo=nnAssess.LIFTInfo"
   ]
  },
  {
   "cell_type": "markdown",
   "metadata": {},
   "source": [
    "## Create ROC and Lift plots (using Validation data)"
   ]
  },
  {
   "cell_type": "markdown",
   "metadata": {},
   "source": [
    "#### Prepare assessment results for plotting"
   ]
  },
  {
   "cell_type": "code",
   "execution_count": 13,
   "metadata": {},
   "outputs": [],
   "source": [
    "# Add new variable to indicate type of model\n",
    "tree_liftinfo[\"model\"]=\"DecisionTree\"\n",
    "tree_rocinfo[\"model\"]=\"DecisionTree\"\n",
    "rf_liftinfo[\"model\"]=\"Forest\"\n",
    "rf_rocinfo[\"model\"]=\"Forest\"\n",
    "gb_liftinfo[\"model\"]=\"GradientBoosting\"\n",
    "gb_rocinfo[\"model\"]=\"GradientBoosting\"\n",
    "nn_liftinfo[\"model\"]=\"NeuralNetwork\"\n",
    "nn_rocinfo[\"model\"]=\"NeuralNetwork\"\n",
    "\n",
    "# Append data\n",
    "all_liftinfo=rf_liftinfo.append(gb_liftinfo, ignore_index=True).append(nn_liftinfo, ignore_index=True).append(tree_liftinfo, ignore_index=True)\n",
    "all_rocinfo=rf_rocinfo.append(gb_rocinfo, ignore_index=True).append(nn_rocinfo, ignore_index=True).append(tree_rocinfo, ignore_index=True)\n",
    "#all_liftinfo=rf_liftinfo.append(tree_liftinfo, ignore_index=True)\n",
    "#all_rocinfo=rf_rocinfo.append(tree_rocinfo, ignore_index=True)"
   ]
  },
  {
   "cell_type": "markdown",
   "metadata": {},
   "source": [
    "## Print AUC (Area Under the ROC Curve)"
   ]
  },
  {
   "cell_type": "code",
   "execution_count": 14,
   "metadata": {
    "scrolled": false
   },
   "outputs": [
    {
     "name": "stdout",
     "output_type": "stream",
     "text": [
      "--------------------------AUC (using validation data)---------------------------\n"
     ]
    },
    {
     "data": {
      "text/html": [
       "<div>\n",
       "<style scoped>\n",
       "    .dataframe tbody tr th:only-of-type {\n",
       "        vertical-align: middle;\n",
       "    }\n",
       "\n",
       "    .dataframe tbody tr th {\n",
       "        vertical-align: top;\n",
       "    }\n",
       "\n",
       "    .dataframe thead th {\n",
       "        text-align: right;\n",
       "    }\n",
       "</style>\n",
       "<table border=\"1\" class=\"dataframe\">\n",
       "  <thead>\n",
       "    <tr style=\"text-align: right;\">\n",
       "      <th title=\"\"></th>\n",
       "      <th title=\"model\">model</th>\n",
       "      <th title=\"C\">C</th>\n",
       "    </tr>\n",
       "  </thead>\n",
       "  <tbody>\n",
       "    <tr>\n",
       "      <th>0</th>\n",
       "      <td>Forest</td>\n",
       "      <td>0.937907</td>\n",
       "    </tr>\n",
       "    <tr>\n",
       "      <th>100</th>\n",
       "      <td>GradientBoosting</td>\n",
       "      <td>0.912045</td>\n",
       "    </tr>\n",
       "    <tr>\n",
       "      <th>200</th>\n",
       "      <td>NeuralNetwork</td>\n",
       "      <td>0.896667</td>\n",
       "    </tr>\n",
       "    <tr>\n",
       "      <th>300</th>\n",
       "      <td>DecisionTree</td>\n",
       "      <td>0.857341</td>\n",
       "    </tr>\n",
       "  </tbody>\n",
       "</table>\n",
       "</div>"
      ],
      "text/plain": [
       "                model         C\n",
       "0              Forest  0.937907\n",
       "100  GradientBoosting  0.912045\n",
       "200     NeuralNetwork  0.896667\n",
       "300      DecisionTree  0.857341"
      ]
     },
     "execution_count": 14,
     "metadata": {},
     "output_type": "execute_result"
    }
   ],
   "source": [
    "print(\"AUC (using validation data)\".center(80, '-'))\n",
    "all_rocinfo[[\"model\", \"C\"]].drop_duplicates(keep=\"first\").sort_values(by=\"C\", ascending=False)"
   ]
  },
  {
   "cell_type": "markdown",
   "metadata": {},
   "source": [
    "## Draw ROC and Lift plots"
   ]
  },
  {
   "cell_type": "code",
   "execution_count": 15,
   "metadata": {},
   "outputs": [
    {
     "data": {
      "image/png": "[encoded data removed]",
      "text/plain": [
       "<Figure size 432x288 with 1 Axes>"
      ]
     },
     "metadata": {
      "needs_background": "light"
     },
     "output_type": "display_data"
    },
    {
     "data": {
      "image/png": "[encoded data removed]",
      "text/plain": [
       "<Figure size 432x288 with 1 Axes>"
      ]
     },
     "metadata": {
      "needs_background": "light"
     },
     "output_type": "display_data"
    }
   ],
   "source": [
    "#/* Draw ROC charts */ \n",
    "plt.figure()\n",
    "for key, grp in all_rocinfo.groupby([\"model\"]):\n",
    "    plt.plot(grp[\"FPR\"], grp[\"Sensitivity\"], label=key)\n",
    "plt.plot([0,1], [0,1], \"k--\")\n",
    "plt.xlabel(\"False Postivie Rate\")\n",
    "plt.ylabel(\"True Positive Rate\")\n",
    "plt.grid(True)\n",
    "plt.legend(loc=\"best\")\n",
    "plt.title(\"ROC Curve (using validation data)\")\n",
    "plt.show()\n",
    "\n",
    "#/* Draw lift charts */\n",
    "plt.figure()\n",
    "for key, grp in all_liftinfo.groupby([\"model\"]):\n",
    "    plt.plot(grp[\"Depth\"], grp[\"Lift\"], label=key)\n",
    "plt.xlabel(\"Depth\")\n",
    "plt.ylabel(\"Lift\")\n",
    "plt.grid(True)\n",
    "plt.legend(loc=\"best\")\n",
    "plt.title(\"Lift Chart (using validation data)\")\n",
    "plt.show();"
   ]
  },
  {
   "cell_type": "markdown",
   "metadata": {},
   "source": [
    "## End CAS session\n",
    "\n",
    "This closes the CAS session freeing resources for others to leverage"
   ]
  },
  {
   "cell_type": "code",
   "execution_count": null,
   "metadata": {},
   "outputs": [],
   "source": [
    "sess.close()"
   ]
  }
 ],
 "metadata": {
  "anaconda-cloud": {},
  "kernelspec": {
   "display_name": "Python 3",
   "language": "python",
   "name": "python3"
  },
  "language_info": {
   "codemirror_mode": {
    "name": "ipython",
    "version": 3
   },
   "file_extension": ".py",
   "mimetype": "text/x-python",
   "name": "python",
   "nbconvert_exporter": "python",
   "pygments_lexer": "ipython3",
   "version": "3.7.3"
  }
 },
 "nbformat": 4,
 "nbformat_minor": 1
}
